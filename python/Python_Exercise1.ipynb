{
 "cells": [
  {
   "cell_type": "code",
   "execution_count": 4,
   "id": "89d88845",
   "metadata": {},
   "outputs": [
    {
     "name": "stdout",
     "output_type": "stream",
     "text": [
      "Enter Radius\n",
      "1.1\n",
      "radius of circle : 3.8013271108436504\n"
     ]
    }
   ],
   "source": [
    "#Write a Python program which accepts the radius of a circle from the user and compute the area\n",
    "import math\n",
    "\n",
    "print(\"Enter Radius\")\n",
    "r=float(input())\n",
    "\n",
    "rc=math.pi*(r**2)\n",
    "\n",
    "print(f\"radius of circle : {rc}\")"
   ]
  },
  {
   "cell_type": "code",
   "execution_count": 1,
   "id": "7bf1fc19",
   "metadata": {},
   "outputs": [
    {
     "name": "stdout",
     "output_type": "stream",
     "text": [
      "enter users first namemanoj\n",
      "enter user last namekumar\n",
      "ramuk jonam\n"
     ]
    }
   ],
   "source": [
    "#Write a Python program which accepts the user's first and last name and print them in reverse order with a space between them\n",
    "\n",
    "\n",
    "first_name=input(\"enter users first name\")\n",
    "\n",
    "last_name=input(\"enter user last name\")\n",
    "\n",
    "full_name=first_name+\" \"+last_name\n",
    "\n",
    "reverse_name=full_name[len(full_name)-1::-1]\n",
    "\n",
    "print(reverse_name)\n"
   ]
  },
  {
   "cell_type": "code",
   "execution_count": 2,
   "id": "253f176f",
   "metadata": {},
   "outputs": [
    {
     "name": "stdout",
     "output_type": "stream",
     "text": [
      "Enter series of numbers1,4,5,6,7\n",
      "['1', '4', '5', '6', '7']\n",
      "('1', '4', '5', '6', '7')\n"
     ]
    }
   ],
   "source": [
    "# Write a Python program which accepts a sequence of comma-separated numbers from user and generate a list and a tuple with those numbers.\n",
    "\n",
    "a=input(\"Enter series of numbers\")\n",
    "\n",
    "list1=a.split(',')\n",
    "tuple1=tuple(list1)\n",
    "\n",
    "print(list1)\n",
    "print(tuple1)\n",
    "\n"
   ]
  },
  {
   "cell_type": "code",
   "execution_count": 6,
   "id": "651693a7",
   "metadata": {},
   "outputs": [
    {
     "name": "stdout",
     "output_type": "stream",
     "text": [
      "Enter File Nameabc.java\n",
      "output: java\n"
     ]
    }
   ],
   "source": [
    "#Write a Python program to accept a filename from the user and print the extension of that.\n",
    "\n",
    "file_name=input(\"Enter File Name\")\n",
    "\n",
    "ext=file_name.split('.')[-1]\n",
    "print(f\"output: {ext}\")"
   ]
  },
  {
   "cell_type": "code",
   "execution_count": 7,
   "id": "8c4a11eb",
   "metadata": {},
   "outputs": [
    {
     "name": "stdout",
     "output_type": "stream",
     "text": [
      "first color : blue\n",
      "last color : green\n"
     ]
    }
   ],
   "source": [
    "#Write a Python program to display the first and last colors from the following list\n",
    "\n",
    "list1=[\"blue\",\"black\",\"red\",\"green\"]\n",
    "\n",
    "print(f\"first color : {list1[0]}\")\n",
    "print(f\"last color : {list1[-1]}\")\n"
   ]
  },
  {
   "cell_type": "code",
   "execution_count": null,
   "id": "67f74369",
   "metadata": {},
   "outputs": [],
   "source": []
  }
 ],
 "metadata": {
  "kernelspec": {
   "display_name": "Python 3 (ipykernel)",
   "language": "python",
   "name": "python3"
  },
  "language_info": {
   "codemirror_mode": {
    "name": "ipython",
    "version": 3
   },
   "file_extension": ".py",
   "mimetype": "text/x-python",
   "name": "python",
   "nbconvert_exporter": "python",
   "pygments_lexer": "ipython3",
   "version": "3.9.7"
  }
 },
 "nbformat": 4,
 "nbformat_minor": 5
}
