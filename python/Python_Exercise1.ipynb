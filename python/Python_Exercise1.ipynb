{
 "cells": [
  {
   "cell_type": "code",
   "execution_count": 4,
   "id": "89d88845",
   "metadata": {},
   "outputs": [
    {
     "name": "stdout",
     "output_type": "stream",
     "text": [
      "Enter Radius\n",
      "1.1\n",
      "radius of circle : 3.8013271108436504\n"
     ]
    }
   ],
   "source": [
    "#Write a Python program which accepts the radius of a circle from the user and compute the area\n",
    "import math\n",
    "\n",
    "print(\"Enter Radius\")\n",
    "r=float(input())\n",
    "\n",
    "rc=math.pi*(r**2)\n",
    "\n",
    "print(f\"radius of circle : {rc}\")"
   ]
  },
  {
   "cell_type": "code",
   "execution_count": 1,
   "id": "7bf1fc19",
   "metadata": {},
   "outputs": [
    {
     "name": "stdout",
     "output_type": "stream",
     "text": [
      "enter users first namemanoj\n",
      "enter user last namekumar\n",
      "ramuk jonam\n"
     ]
    }
   ],
   "source": [
    "#Write a Python program which accepts the user's first and last name and print them in reverse order with a space between them\n",
    "\n",
    "\n",
    "first_name=input(\"enter users first name\")\n",
    "\n",
    "last_name=input(\"enter user last name\")\n",
    "\n",
    "full_name=first_name+\" \"+last_name\n",
    "\n",
    "reverse_name=full_name[len(full_name)-1::-1]\n",
    "\n",
    "print(reverse_name)\n"
   ]
  },
  {
   "cell_type": "code",
   "execution_count": 2,
   "id": "253f176f",
   "metadata": {},
   "outputs": [
    {
     "name": "stdout",
     "output_type": "stream",
     "text": [
      "Enter series of numbers1,4,5,6,7\n",
      "['1', '4', '5', '6', '7']\n",
      "('1', '4', '5', '6', '7')\n"
     ]
    }
   ],
   "source": [
    "# Write a Python program which accepts a sequence of comma-separated numbers from user and generate a list and a tuple with those numbers.\n",
    "\n",
    "a=input(\"Enter series of numbers\")\n",
    "\n",
    "list1=a.split(',')\n",
    "tuple1=tuple(list1)\n",
    "\n",
    "print(list1)\n",
    "print(tuple1)\n",
    "\n"
   ]
  },
  {
   "cell_type": "code",
   "execution_count": 6,
   "id": "651693a7",
   "metadata": {},
   "outputs": [
    {
     "name": "stdout",
     "output_type": "stream",
     "text": [
      "Enter File Nameabc.java\n",
      "output: java\n"
     ]
    }
   ],
   "source": [
    "#Write a Python program to accept a filename from the user and print the extension of that.\n",
    "\n",
    "file_name=input(\"Enter File Name\")\n",
    "\n",
    "ext=file_name.split('.')[-1]\n",
    "print(f\"output: {ext}\")"
   ]
  },
  {
   "cell_type": "code",
   "execution_count": 7,
   "id": "8c4a11eb",
   "metadata": {},
   "outputs": [
    {
     "name": "stdout",
     "output_type": "stream",
     "text": [
      "first color : blue\n",
      "last color : green\n"
     ]
    }
   ],
   "source": [
    "#Write a Python program to display the first and last colors from the following list\n",
    "\n",
    "list1=[\"blue\",\"black\",\"red\",\"green\"]\n",
    "\n",
    "print(f\"first color : {list1[0]}\")\n",
    "print(f\"last color : {list1[-1]}\")\n"
   ]
  },
  {
   "cell_type": "code",
   "execution_count": 10,
   "id": "67f74369",
   "metadata": {},
   "outputs": [
    {
     "name": "stdout",
     "output_type": "stream",
     "text": [
      "11/12/2022\n",
      "The examination will start from : 11/12/2022\n"
     ]
    }
   ],
   "source": [
    "#Write a Python program to display the examination schedule\n",
    "\n",
    "import datetime\n",
    "\n",
    "exam_time=(11,12,2022)\n",
    "\n",
    "exam_date=datetime.datetime(exam_time[-1],exam_time[1],exam_time[0])\n",
    "print(exam_date.strftime(\"%d/%m/%Y\"))\n",
    "\n",
    "##...............\n",
    "\n",
    "print(f\"The examination will start from : {exam_time[0]}/{exam_time[1]}/{exam_time[2]}\")\n"
   ]
  },
  {
   "cell_type": "code",
   "execution_count": 37,
   "id": "e50c8296",
   "metadata": {},
   "outputs": [
    {
     "name": "stdout",
     "output_type": "stream",
     "text": [
      "Enter a number :5\n",
      "615\n",
      "number 615\n",
      "5+55+55\n"
     ]
    }
   ],
   "source": [
    "#Write a Python program that accepts an integer (n) and computes the value of n+nn+nnn.\n",
    "import math\n",
    "\n",
    "n=int(input(\"Enter a number :\"))\n",
    "exp=\"n+nn+nn\"\n",
    "\n",
    "print(n+(n*10+n)+(n*100+n*10+n))\n",
    "\n",
    "#...............\n",
    "\n",
    "n1=int(\"%s\" % n)\n",
    "n2=int(\"%s%s\" %(n,n))\n",
    "n3=int(\"%s%s%s\" %(n,n,n))\n",
    "print(f\"number {n1+n2+n3}\")\n"
   ]
  },
  {
   "cell_type": "code",
   "execution_count": 40,
   "id": "270c50a3",
   "metadata": {},
   "outputs": [
    {
     "name": "stdout",
     "output_type": "stream",
     "text": [
      "int([x]) -> integer\n",
      "int(x, base=10) -> integer\n",
      "\n",
      "Convert a number or string to an integer, or return 0 if no arguments\n",
      "are given.  If x is a number, return x.__int__().  For floating point\n",
      "numbers, this truncates towards zero.\n",
      "\n",
      "If x is not a number or if base is given, then x must be a string,\n",
      "bytes, or bytearray instance representing an integer literal in the\n",
      "given base.  The literal can be preceded by '+' or '-' and be surrounded\n",
      "by whitespace.  The base defaults to 10.  Valid bases are 0 and 2-36.\n",
      "Base 0 means to interpret the base from the string as an integer literal.\n",
      ">>> int('0b100', base=0)\n",
      "4\n"
     ]
    }
   ],
   "source": [
    "#Write a Python program to print the documents (syntax, description etc.) of Python built-in function(s). \n",
    "\n",
    "print(int.__doc__)"
   ]
  },
  {
   "cell_type": "code",
   "execution_count": 53,
   "id": "abfbbbba",
   "metadata": {},
   "outputs": [
    {
     "name": "stdout",
     "output_type": "stream",
     "text": [
      "enter month2\n",
      "enter year2022\n",
      "   February 2022\n",
      "Mo Tu We Th Fr Sa Su\n",
      "    1  2  3  4  5  6\n",
      " 7  8  9 10 11 12 13\n",
      "14 15 16 17 18 19 20\n",
      "21 22 23 24 25 26 27\n",
      "28\n",
      "\n"
     ]
    }
   ],
   "source": [
    "#Write a Python program to print the calendar of a given month and year.Note : Use 'calendar' module. \n",
    "\n",
    "import calendar\n",
    "mon=int(input(\"enter month\"))\n",
    "year=int(input(\"enter year\"))\n",
    "print(calendar.month(year,mon) )"
   ]
  },
  {
   "cell_type": "code",
   "execution_count": 54,
   "id": "4dbea542",
   "metadata": {},
   "outputs": [
    {
     "name": "stdout",
     "output_type": "stream",
     "text": [
      "a string that you \"don't\" have to escape\n",
      "This\n",
      "is a ....... multi-line\n",
      "heredoc string --------> example\n"
     ]
    }
   ],
   "source": [
    "print('''a string that you \"don't\" have to escape\n",
    "This\n",
    "is a ....... multi-line\n",
    "heredoc string --------> example''')"
   ]
  },
  {
   "cell_type": "code",
   "execution_count": 6,
   "id": "373a1064",
   "metadata": {},
   "outputs": [
    {
     "name": "stdout",
     "output_type": "stream",
     "text": [
      "9\n"
     ]
    }
   ],
   "source": [
    "#Write a Python program to calculate number of days between two dates. Sample dates : (2014, 7, 2), (2014, 7, 11)\n",
    "\n",
    "import datetime\n",
    "\n",
    "date1=datetime.date(2014,7,2)\n",
    "date2=datetime.date(2014,7,11)\n",
    "print((date2-date1).days)\n",
    "\n"
   ]
  },
  {
   "cell_type": "code",
   "execution_count": 7,
   "id": "8931aa11",
   "metadata": {},
   "outputs": [
    {
     "name": "stdout",
     "output_type": "stream",
     "text": [
      "904.7786842338603\n"
     ]
    }
   ],
   "source": [
    "#Write a Python program to get the volume of a sphere with radius 6.\n",
    "import math\n",
    "rad=6;\n",
    "\n",
    "volu_sph=(4/3)*math.pi*rad**3\n",
    "print(volu_sph)"
   ]
  },
  {
   "cell_type": "code",
   "execution_count": 14,
   "id": "346aacba",
   "metadata": {},
   "outputs": [
    {
     "name": "stdout",
     "output_type": "stream",
     "text": [
      "Enter Number14\n",
      "3\n"
     ]
    }
   ],
   "source": [
    "#Write a Python program to get the difference between a given number and 17, if the number is greater than 17 return double the absolute difference.\n",
    "\n",
    "\n",
    "given_num=int(input(\"Enter Number\"))\n",
    "\n",
    "num=17\n",
    "\n",
    "dif=given_num-num\n",
    "\n",
    "if given_num>17:\n",
    "    print(2*dif)\n",
    "else:\n",
    "    print(abs(dif))\n",
    "    "
   ]
  },
  {
   "cell_type": "code",
   "execution_count": 2,
   "id": "e072918a",
   "metadata": {},
   "outputs": [
    {
     "name": "stdout",
     "output_type": "stream",
     "text": [
      "Enter first number3\n",
      "Enter second number2\n",
      "Enter third number3\n",
      "8\n"
     ]
    }
   ],
   "source": [
    "#Write a Python program to calculate the sum of three given numbers, if the values are equal then return three times of their sum\n",
    "\n",
    "a=int(input(\"Enter first number\"))\n",
    "b=int(input(\"Enter second number\"))\n",
    "c=int(input(\"Enter third number\"))\n",
    "\n",
    "if a==b==c:\n",
    "    print(3*3*a)\n",
    "else:\n",
    "    print(a+b+c)"
   ]
  },
  {
   "cell_type": "code",
   "execution_count": 6,
   "id": "6cc9bcb2",
   "metadata": {},
   "outputs": [
    {
     "name": "stdout",
     "output_type": "stream",
     "text": [
      "Enter string :Ispizzy\n",
      "Ispizzy\n"
     ]
    }
   ],
   "source": [
    "#Write a Python program to get a new string from a given string where \"Is\" has been added to the front. If the given string already begins with \"Is\" then return the string unchanged\n",
    "str1=input(\"Enter string :\")\n",
    "\n",
    "if not str1.startswith('Is'):\n",
    "    print( \"Is\"+str1)\n",
    "else:\n",
    "    print(str1)"
   ]
  },
  {
   "cell_type": "code",
   "execution_count": null,
   "id": "9dbca2cb",
   "metadata": {},
   "outputs": [],
   "source": []
  }
 ],
 "metadata": {
  "kernelspec": {
   "display_name": "Python 3 (ipykernel)",
   "language": "python",
   "name": "python3"
  },
  "language_info": {
   "codemirror_mode": {
    "name": "ipython",
    "version": 3
   },
   "file_extension": ".py",
   "mimetype": "text/x-python",
   "name": "python",
   "nbconvert_exporter": "python",
   "pygments_lexer": "ipython3",
   "version": "3.9.7"
  }
 },
 "nbformat": 4,
 "nbformat_minor": 5
}
