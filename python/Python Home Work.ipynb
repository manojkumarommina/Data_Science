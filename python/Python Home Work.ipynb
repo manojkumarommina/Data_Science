{
 "cells": [
  {
   "cell_type": "code",
   "execution_count": 26,
   "id": "eacc2e5e",
   "metadata": {
    "scrolled": true
   },
   "outputs": [
    {
     "name": "stdout",
     "output_type": "stream",
     "text": [
      "Pair found : (8, 2)\n",
      "Pair found : (7, 3)\n"
     ]
    }
   ],
   "source": [
    "list1=[8,7,2,5,3,1]\n",
    "target=10\n",
    "out_list=[]\n",
    "\n",
    "def findpair(list1,target):\n",
    "    for i in range(len(list1)):\n",
    "        for j in range(i+1,len(list1)):\n",
    "            if list1[i]+list1[j]==target:\n",
    "                out_list.append((list1[i],list1[j]))\n",
    "    return out_list\n",
    "        \n",
    "a=findpair(list1,target)\n",
    "for i in a : print(f\"Pair found : {i}\")"
   ]
  },
  {
   "cell_type": "code",
   "execution_count": 27,
   "id": "a656b7ea",
   "metadata": {},
   "outputs": [
    {
     "name": "stdout",
     "output_type": "stream",
     "text": [
      "{'emp1': {'e_name': 'John', 'e_id': 'SG101', 'e_sal': '$10,000'}, 'emp2': {'e_name': 'Smith', 'e_id': 'SG102', 'e_sal': '$9,000'}, 'emp3': {'e_name': 'Peter', 'e_id': 'SG103', 'e_sal': '$9,500'}}\n"
     ]
    }
   ],
   "source": [
    "lst1 = ['emp1', 'emp2', 'emp3']\n",
    "\n",
    "emp_key = ['e_name', 'e_id', 'e_sal']\n",
    "emp1_val = ['John', 'SG101', '$10,000']\n",
    "emp2_val = ['Smith', 'SG102', '$9,000']\n",
    "emp3_val = ['Peter', 'SG103', '$9,500']\n",
    "\n",
    "#Merging the 3 e_name.e_id and e_sal list\n",
    "emp_values = [emp1_val, emp2_val, emp3_val]\n",
    "\n",
    "my_dict = {emp: dict(zip(emp_key, emp_values[i])) for i, emp in enumerate(lst1)}\n",
    "print(my_dict)"
   ]
  },
  {
   "cell_type": "code",
   "execution_count": 32,
   "id": "8c8394e8",
   "metadata": {},
   "outputs": [
    {
     "name": "stdout",
     "output_type": "stream",
     "text": [
      "[(8, 2), (7, 3)]\n"
     ]
    }
   ],
   "source": [
    "list1=[8,7,2,5,3,1]\n",
    "b=len(list1)\n",
    "target=10\n",
    "out_list=[]\n",
    "\n",
    "def findpair(list1,target):\n",
    "    for i in range(b):\n",
    "        d=list1[i]\n",
    "        for j in range(i+1,b):\n",
    "            e=list1[j]\n",
    "            f=d+e\n",
    "            if f==target:\n",
    "                out_list.append((list1[i],list1[j]))\n",
    "    return out_list\n",
    "\n",
    "print(findpair(list1,target))"
   ]
  },
  {
   "cell_type": "code",
   "execution_count": null,
   "id": "a2676400",
   "metadata": {},
   "outputs": [],
   "source": []
  }
 ],
 "metadata": {
  "kernelspec": {
   "display_name": "Python 3 (ipykernel)",
   "language": "python",
   "name": "python3"
  },
  "language_info": {
   "codemirror_mode": {
    "name": "ipython",
    "version": 3
   },
   "file_extension": ".py",
   "mimetype": "text/x-python",
   "name": "python",
   "nbconvert_exporter": "python",
   "pygments_lexer": "ipython3",
   "version": "3.9.7"
  }
 },
 "nbformat": 4,
 "nbformat_minor": 5
}
