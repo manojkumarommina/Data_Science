{
 "cells": [
  {
   "cell_type": "code",
   "execution_count": 14,
   "id": "a53fc5ff",
   "metadata": {},
   "outputs": [
    {
     "name": "stdout",
     "output_type": "stream",
     "text": [
      "[1, 2, 3.0, 'abc', '8+9j']\n",
      "5\n"
     ]
    }
   ],
   "source": [
    "list1=[1,2,3.0,'abc','8+9j'] # mutable with collection of all data types\n",
    "print(list1)\n",
    "print(len(list1))"
   ]
  },
  {
   "cell_type": "code",
   "execution_count": 8,
   "id": "50e66cda",
   "metadata": {},
   "outputs": [
    {
     "name": "stdout",
     "output_type": "stream",
     "text": [
      "['i', 'n', 'd', 'i', 'a']\n",
      "['good', 'things', 'takes', 'time']\n",
      "india\n",
      "good things takes time\n",
      "good_things_takes_time\n"
     ]
    }
   ],
   "source": [
    "#Converting string in to list\n",
    "\n",
    "str1=\"good things takes time\"\n",
    "str2=\"india\"\n",
    "\n",
    "list2=list(str2)# list of str2 charcters ['i','n','d','i','a']\n",
    "\n",
    "list3=str1.split(' ') # splits the string in to list with given value\n",
    "\n",
    "print(list2)\n",
    "print(list3)\n",
    "\n",
    "# convert list into string\n",
    "print(\"\".join(list2))\n",
    "print(\" \".join(list3))\n",
    "print(\"_\".join(list3))"
   ]
  },
  {
   "cell_type": "code",
   "execution_count": 24,
   "id": "02360106",
   "metadata": {},
   "outputs": [
    {
     "name": "stdout",
     "output_type": "stream",
     "text": [
      "4\n",
      "8\n",
      "[4, 6, 7, 8, 'ab', 'hello']\n",
      "[7]\n",
      "['bye', 90, 87]\n",
      "[1, 4, 6, 7, 8, 'ab', 'hello', 87, 90, 'bye']\n",
      "[87, 90, 'bye', 87, 90, 'bye', 87, 90, 'bye']\n",
      "True\n",
      "False\n",
      "True\n"
     ]
    }
   ],
   "source": [
    "# Basic operations on list\n",
    "#indexing\n",
    "#slicing\n",
    "#concatination\n",
    "#repetation\n",
    "#identity operation\n",
    "#membership operation\n",
    "\n",
    "\n",
    "list1 = [1,4,6,7,8,'ab','hello']\n",
    "list2 = [87,90,'bye']\n",
    "\n",
    "#indexing\n",
    "print(list1[1])\n",
    "print(list1[-3])\n",
    "\n",
    "#slicing\n",
    "print(list1[1:len(list1):1])\n",
    "print(list1[3:5:2])\n",
    "print(list2[::-1])\n",
    "\n",
    "#concatination\n",
    "list3=list1+list2\n",
    "print(list3)\n",
    "\n",
    "#repetation\n",
    "print(list2*3)\n",
    "\n",
    "list4=list1\n",
    "list5=[1,4,6,7,8,'ab','hello']\n",
    "#identity operation\n",
    "\n",
    "print(list4 is list1)#true\n",
    "print(list5 is list1)#False\n",
    "\n",
    "print('ab' in list1)\n"
   ]
  },
  {
   "cell_type": "code",
   "execution_count": 25,
   "id": "fa54520a",
   "metadata": {},
   "outputs": [
    {
     "name": "stdout",
     "output_type": "stream",
     "text": [
      "['__add__', '__class__', '__class_getitem__', '__contains__', '__delattr__', '__delitem__', '__dir__', '__doc__', '__eq__', '__format__', '__ge__', '__getattribute__', '__getitem__', '__gt__', '__hash__', '__iadd__', '__imul__', '__init__', '__init_subclass__', '__iter__', '__le__', '__len__', '__lt__', '__mul__', '__ne__', '__new__', '__reduce__', '__reduce_ex__', '__repr__', '__reversed__', '__rmul__', '__setattr__', '__setitem__', '__sizeof__', '__str__', '__subclasshook__', 'append', 'clear', 'copy', 'count', 'extend', 'index', 'insert', 'pop', 'remove', 'reverse', 'sort']\n"
     ]
    }
   ],
   "source": [
    "#methods in list\n",
    "\n",
    "print(dir(list))"
   ]
  },
  {
   "cell_type": "code",
   "execution_count": 62,
   "id": "f5454c0a",
   "metadata": {},
   "outputs": [
    {
     "name": "stdout",
     "output_type": "stream",
     "text": [
      "[1, 4, 6, 7, 8, 'ab', 'hello', 'samurai', 'samurai', 'samurai', 'samurai', 'samurai', 87, 90, 87, 90, 4, 2, 2, 2, 2, 2, 2, 2, 2, 2, 2, 2, 2, 2, 2, 2, 2, 2, 2]\n",
      "[1, 4, 6, 7, 8, 'ab', 'hello', 'samurai', 'samurai', 'samurai', 'samurai', 'samurai', 87, 90, 87, 90, 4, 2, 2, 2, 2, 2, 2, 2, 2, 2, 2, 2, 2, 2, 2, 2, 2, 2, 2]\n",
      "[1, 4, 6, 7, 8, 'ab', 'hello', 'samurai', 'samurai', 'samurai', 'samurai', 'samurai', 87, 90, 87, 90, 4, 2, 2, 2, 2, 2, 2, 2, 2, 2, 2, 2, 2, 2, 2, 2, 2, 2, 2]\n",
      "[1, 4, 6, 7, 8, 'ab', 'hello', 'samurai', 'samurai', 'samurai', 'samurai', 'samurai', 87, 90, 87, 90, 4, 2, 2, 2, 2, 2, 2, 2, 2, 2, 2, 2, 2, 2, 2, 2, 2, 2, 2]\n",
      "5\n",
      "[1, 4, 6, 7, 8, 'ab', 'hello', 'samurai', 'samurai', 'samurai', 'samurai', 'samurai', 87, 90, 87, 90, 4, 2, 2, 2, 2, 2, 2, 2, 2, 2, 2, 2, 2, 2, 2, 2, 2, 2, 2, 2, 5]\n",
      "5\n",
      "['rapid']\n",
      "[]\n",
      "[]\n",
      "[]\n"
     ]
    },
    {
     "ename": "TypeError",
     "evalue": "'<' not supported between instances of 'str' and 'int'",
     "output_type": "error",
     "traceback": [
      "\u001b[0;31m---------------------------------------------------------------------------\u001b[0m",
      "\u001b[0;31mTypeError\u001b[0m                                 Traceback (most recent call last)",
      "\u001b[0;32m/var/folders/nx/rzfcs7mj2bj70r23j_mcmcqw0000gn/T/ipykernel_2812/85370831.py\u001b[0m in \u001b[0;36m<module>\u001b[0;34m\u001b[0m\n\u001b[1;32m     31\u001b[0m \u001b[0;34m\u001b[0m\u001b[0m\n\u001b[1;32m     32\u001b[0m \u001b[0mlstt\u001b[0m\u001b[0;34m=\u001b[0m\u001b[0;34m[\u001b[0m\u001b[0;36m3\u001b[0m\u001b[0;34m,\u001b[0m\u001b[0;36m5\u001b[0m\u001b[0;34m,\u001b[0m\u001b[0;36m7\u001b[0m\u001b[0;34m,\u001b[0m\u001b[0;36m3\u001b[0m\u001b[0;34m,\u001b[0m\u001b[0;36m1\u001b[0m\u001b[0;34m,\u001b[0m\u001b[0;36m78\u001b[0m\u001b[0;34m,\u001b[0m\u001b[0;36m23\u001b[0m\u001b[0;34m,\u001b[0m\u001b[0;36m45\u001b[0m\u001b[0;34m,\u001b[0m\u001b[0;36m2\u001b[0m\u001b[0;34m,\u001b[0m\u001b[0;36m2\u001b[0m\u001b[0;34m,\u001b[0m\u001b[0;36m90\u001b[0m\u001b[0;34m,\u001b[0m\u001b[0;36m1\u001b[0m\u001b[0;34m,\u001b[0m\u001b[0;36m0\u001b[0m\u001b[0;34m,\u001b[0m\u001b[0;34m'ab'\u001b[0m\u001b[0;34m]\u001b[0m\u001b[0;34m\u001b[0m\u001b[0;34m\u001b[0m\u001b[0m\n\u001b[0;32m---> 33\u001b[0;31m \u001b[0mlstt\u001b[0m\u001b[0;34m.\u001b[0m\u001b[0msort\u001b[0m\u001b[0;34m(\u001b[0m\u001b[0;34m)\u001b[0m\u001b[0;34m\u001b[0m\u001b[0;34m\u001b[0m\u001b[0m\n\u001b[0m\u001b[1;32m     34\u001b[0m \u001b[0;34m\u001b[0m\u001b[0m\n\u001b[1;32m     35\u001b[0m \u001b[0mprint\u001b[0m\u001b[0;34m(\u001b[0m\u001b[0mlstt\u001b[0m\u001b[0;34m)\u001b[0m\u001b[0;34m\u001b[0m\u001b[0;34m\u001b[0m\u001b[0m\n",
      "\u001b[0;31mTypeError\u001b[0m: '<' not supported between instances of 'str' and 'int'"
     ]
    }
   ],
   "source": [
    "\"'append', 'clear', 'copy', 'count', 'extend', 'index', 'insert', 'pop', 'remove', 'reverse', 'sort'\"\n",
    "\n",
    "from copy import deepcopy\n",
    "#list4.append('samurai')\n",
    "list4.pop()\n",
    "print(list4)\n",
    "\n",
    "list6=list4.copy()#shallow copy\n",
    "list7=list4 #aliasing\n",
    "list8=deepcopy(list4)#deep copy creates new memory for list\n",
    "print(list6)\n",
    "print(list7)\n",
    "print(list8)\n",
    "\n",
    "print(list4.count('samurai'))\n",
    "list4.extend([2,5])\n",
    "print(list4)\n",
    "\n",
    "print(list4.index('ab'))\n",
    "list3.insert(3,'rapid')\n",
    "print(list3)\n",
    "\n",
    "list3.pop()\n",
    "print(list3)\n",
    "\n",
    "#list3.remove('rapid')\n",
    "print(list3)\n",
    "\n",
    "list3.reverse()\n",
    "print(list3)\n",
    "\n",
    "lstt=[3,5,7,3,1,78,23,45,2,2,90,1,0] #should not have string\n",
    "lstt.sort()\n",
    "\n",
    "print(lstt)\n",
    "\n",
    "lstt.sort(reverse=True)\n",
    "print(lstt)\n",
    "\n",
    "\n",
    "list3.clear()\n",
    "\n",
    "print(list3)"
   ]
  },
  {
   "cell_type": "code",
   "execution_count": null,
   "id": "ebeea578",
   "metadata": {},
   "outputs": [],
   "source": []
  },
  {
   "cell_type": "code",
   "execution_count": null,
   "id": "0ea16a37",
   "metadata": {},
   "outputs": [],
   "source": []
  }
 ],
 "metadata": {
  "kernelspec": {
   "display_name": "Python 3 (ipykernel)",
   "language": "python",
   "name": "python3"
  },
  "language_info": {
   "codemirror_mode": {
    "name": "ipython",
    "version": 3
   },
   "file_extension": ".py",
   "mimetype": "text/x-python",
   "name": "python",
   "nbconvert_exporter": "python",
   "pygments_lexer": "ipython3",
   "version": "3.9.7"
  }
 },
 "nbformat": 4,
 "nbformat_minor": 5
}
