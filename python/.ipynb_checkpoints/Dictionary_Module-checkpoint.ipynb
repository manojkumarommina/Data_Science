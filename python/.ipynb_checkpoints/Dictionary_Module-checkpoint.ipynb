{
 "cells": [
  {
   "cell_type": "code",
   "execution_count": 13,
   "id": "83776524",
   "metadata": {},
   "outputs": [
    {
     "name": "stdout",
     "output_type": "stream",
     "text": [
      "Enter dictionay{1:2}\n",
      "{'name': 'rocky', 'age': 25, 'sal': 1000.0, 'lang': ('telugu', 'english', 'hindi')}\n",
      "{1: 2}\n",
      "{1: 2, 2: 3, 4: 5}\n",
      "{11: 'python', 23: 34, 'a': 67}\n",
      "[(11, 'python'), (23, 34), ('a', 67)]\n"
     ]
    }
   ],
   "source": [
    "d={'name':'rocky','age':25,'sal':1000.00,'lang':('telugu','english','hindi')}\n",
    "                                                 \n",
    "# Ways to Create a dictionary\n",
    "d1=eval(input(\"Enter dictionay\"))\n",
    "d2=dict([(1,2),(2,3),(4,5)]) #list(tuples with key and values)\n",
    "\n",
    "#zip method\n",
    "\n",
    "a=zip([11,23,'a',9],('python',34,67)) # zip( list,tuple)\n",
    "#d3=dict(a)\n",
    "l1=list(a)\n",
    "\n",
    "print(d)\n",
    "print(d1)\n",
    "print(d2)\n",
    "print(d3)\n",
    "print(l1)"
   ]
  },
  {
   "cell_type": "code",
   "execution_count": 16,
   "id": "12fd14ac",
   "metadata": {},
   "outputs": [
    {
     "name": "stdout",
     "output_type": "stream",
     "text": [
      "1000.0\n",
      "{'name': 'rocky', 'age': 30, 'sal': 1000.0, 'lang': ('telugu', 'english', 'hindi'), 'city': 'Hyd'}\n"
     ]
    }
   ],
   "source": [
    "#Accessing dictionary\n",
    "\n",
    "print(d['sal'])\n",
    "\n",
    "#update value\n",
    "\n",
    "d['age']=30  #updates the value if key is there\n",
    "d['city']='Hyd' #adds the key and value if key is not there\n",
    "\n",
    "print(d)"
   ]
  },
  {
   "cell_type": "code",
   "execution_count": 18,
   "id": "145d0139",
   "metadata": {},
   "outputs": [
    {
     "name": "stdout",
     "output_type": "stream",
     "text": [
      "['__class__', '__class_getitem__', '__contains__', '__delattr__', '__delitem__', '__dir__', '__doc__', '__eq__', '__format__', '__ge__', '__getattribute__', '__getitem__', '__gt__', '__hash__', '__init__', '__init_subclass__', '__ior__', '__iter__', '__le__', '__len__', '__lt__', '__ne__', '__new__', '__or__', '__reduce__', '__reduce_ex__', '__repr__', '__reversed__', '__ror__', '__setattr__', '__setitem__', '__sizeof__', '__str__', '__subclasshook__', 'clear', 'copy', 'fromkeys', 'get', 'items', 'keys', 'pop', 'popitem', 'setdefault', 'update', 'values']\n"
     ]
    }
   ],
   "source": [
    "#methods in dictionary\n",
    "\n",
    "print(dir(dict))"
   ]
  },
  {
   "cell_type": "code",
   "execution_count": 47,
   "id": "4ba67525",
   "metadata": {
    "scrolled": true
   },
   "outputs": [
    {
     "name": "stdout",
     "output_type": "stream",
     "text": [
      "{'name': 'rocky', 'age': 30, 'sal': 1000.0, 'lang': ('telugu', 'english', 'hindi'), 'city': 'Hyd'}\n",
      "rocky\n",
      "None\n",
      "bye\n",
      "{'name': 'rocky', 'age': 30, 'sal': 1000.0, 'lang': ('telugu', 'english', 'hindi'), 'city': 'Hyd', 'hi': 'bye', 1: 2, 2: 3, 4: 5}\n",
      "['name', 'age', 'sal', 'lang', 'city', 'hi', 1, 2, 4]\n",
      "['rocky', 30, 1000.0, ('telugu', 'english', 'hindi'), 'Hyd', 'bye', 2, 3, 5]\n",
      "[('name', 'rocky'), ('age', 30), ('sal', 1000.0), ('lang', ('telugu', 'english', 'hindi')), ('city', 'Hyd'), ('hi', 'bye'), (1, 2), (2, 3), (4, 5)]\n",
      "2\n",
      "key is not found\n",
      "(4, 5)\n",
      "{1: None, 3: None, 'a': None, 'g': None}\n",
      "{1: 10, 3: 10, 'a': 10, 'g': 10}\n",
      "{}\n"
     ]
    }
   ],
   "source": [
    "#clear', 'copy', 'fromkeys', 'get', 'items', \n",
    "#'keys', 'pop', 'popitem', 'setdefault', 'update', 'values'\n",
    "\n",
    "\n",
    "d4=d.copy() #shalow copy\n",
    "print(d4)\n",
    "\n",
    "print(d4.get('name'))\n",
    "print(d4.get('nameer')) #returns none if key is not there\n",
    "print(d4.setdefault('hi','bye')) #adds value if key is not there\n",
    "\n",
    "d4.update(d2) #similar to extend in list\n",
    "print(d4)\n",
    "\n",
    "print([i for i in d4.keys()])  \n",
    "print([i for i in d4.values()])\n",
    "print([i for i in d4.items()])\n",
    "\n",
    "print(d4.pop(1)) #returns deleted value\n",
    "print(d4.pop(8,'key is not found')) # to avoid error\n",
    "\n",
    "print(d4.popitem()) #deletes random key value\n",
    "\n",
    "print(d4.fromkeys([1,3,'a','g'])) # create a dictionary with none value for all keys\n",
    "print(d4.fromkeys([1,3,'a','g'],10))  # create a dictionary with defalut given value for all keys\n",
    "\n",
    "\n",
    "d3.clear()\n",
    "print(d3)"
   ]
  },
  {
   "cell_type": "code",
   "execution_count": 48,
   "id": "6bb3aed1",
   "metadata": {},
   "outputs": [
    {
     "name": "stdout",
     "output_type": "stream",
     "text": [
      "{1: 1, 3: 9, 5: 25, 7: 49, 9: 81}\n"
     ]
    }
   ],
   "source": [
    "# Dictonary comprehension\n",
    "\n",
    "d5={i:i**2 for i in range(1,10,2)}\n",
    "\n",
    "print(d5)"
   ]
  },
  {
   "cell_type": "code",
   "execution_count": null,
   "id": "a3559989",
   "metadata": {},
   "outputs": [],
   "source": []
  }
 ],
 "metadata": {
  "kernelspec": {
   "display_name": "Python 3 (ipykernel)",
   "language": "python",
   "name": "python3"
  },
  "language_info": {
   "codemirror_mode": {
    "name": "ipython",
    "version": 3
   },
   "file_extension": ".py",
   "mimetype": "text/x-python",
   "name": "python",
   "nbconvert_exporter": "python",
   "pygments_lexer": "ipython3",
   "version": "3.9.7"
  }
 },
 "nbformat": 4,
 "nbformat_minor": 5
}
