{
 "cells": [
  {
   "cell_type": "code",
   "execution_count": 3,
   "id": "9e381a87",
   "metadata": {},
   "outputs": [
    {
     "name": "stdout",
     "output_type": "stream",
     "text": [
      "Enter Number90\n",
      "Number is outside of the range\n"
     ]
    }
   ],
   "source": [
    "#W. A P. which takes one number from 0 to 9 from the user and prints\n",
    "#it in the word. And if the word is not from 0 to 9 then\n",
    "#it should print that number is outside of the range and program should exit.\n",
    "\n",
    "\n",
    "dict1={1:\"One\",2:\"Two\",3:\"Three\",4:\"Four\",5:\"Five\",6:\"Six\",7:\"Seven\",8:\"Eight\",9:\"Nine\"}\n",
    "\n",
    "def check(num):\n",
    "    if num in dict1:\n",
    "        return dict1.get(num)\n",
    "    else:\n",
    "        return \"Number is outside of the range\"\n",
    "\n",
    "print(check(int(input(\"Enter Number\"))))\n"
   ]
  },
  {
   "cell_type": "code",
   "execution_count": 6,
   "id": "293c0ef6",
   "metadata": {},
   "outputs": [
    {
     "name": "stdout",
     "output_type": "stream",
     "text": [
      "Enter first number3\n",
      "Enter Second Number4\n",
      "* To add enter 1\n",
      "* to subtract enter 2\n",
      "* To multiply enter 3\n",
      "* To divide enter 4\n",
      "* To divide and find quotient enter 5\n",
      "* To divide and find remainder enter 6\n",
      "* To divide and find num1 to the power of num2 enter 7\n",
      "* To Come out of the program enter 8\n",
      "Enter selcted option6\n",
      "selected option is 6\n"
     ]
    }
   ],
   "source": [
    "# W. A P. to implement calculator but the operation to be done and two numbers will be taken as input from user:-\n",
    "\n",
    "num1=int(input(\"Enter first number\"))\n",
    "num2=int(input(\"Enter Second Number\"))\n",
    "\n",
    "tup1=(\"To add enter 1\",\"to subtract enter 2\",\"To multiply enter 3\",\"To divide enter 4\",\n",
    "      \"To divide and find quotient enter 5\",\"To divide and find remainder enter 6\",\n",
    "      \"To divide and find num1 to the power of num2 enter 7\",\n",
    "      \"To Come out of the program enter 8\")\n",
    "\n",
    "def showoptions():\n",
    "    for i in tup1:\n",
    "        print(\"*\",i)\n",
    "    output=int(input(\"Enter selcted option\"))\n",
    "    return output\n",
    "\n",
    "print(f\"selected option is {showoptions()}\")\n",
    "    "
   ]
  },
  {
   "cell_type": "code",
   "execution_count": 18,
   "id": "b9f2761e",
   "metadata": {},
   "outputs": [
    {
     "name": "stdout",
     "output_type": "stream",
     "text": [
      "Enter Year1900\n",
      "1900 is not a leap year\n",
      "\n",
      "To check more enter Y or to exit enter N : 1800\n"
     ]
    }
   ],
   "source": [
    "#W A P to check whether a year entered by user is an leap year or not?\n",
    "\n",
    "\n",
    "def check_year(year):\n",
    "    if (year % 400 == 0) and (year % 100 == 0):\n",
    "        print(f\"{year} is a leap year\")\n",
    "    elif (year % 4 ==0) and (year % 100 != 0):\n",
    "        print(f\"{year} is a leap year\")\n",
    "    else:\n",
    "        print(f\"{year} is not a leap year\")\n",
    "    \n",
    "temp=True\n",
    "while(temp):\n",
    "    year=int(input(\"Enter Year\"))\n",
    "    check_year(year)\n",
    "    inp=input(\"\\nTo check more enter Y or to exit enter N : \")\n",
    "    if inp==\"Y\":\n",
    "        temp=True\n",
    "    else:\n",
    "        temp=False\n",
    "        "
   ]
  },
  {
   "cell_type": "code",
   "execution_count": 20,
   "id": "21db47d4",
   "metadata": {},
   "outputs": [
    {
     "name": "stdout",
     "output_type": "stream",
     "text": [
      "Enter Number891\n",
      "Number is odd number\n"
     ]
    }
   ],
   "source": [
    "#W A P which takes one number from the user and checks whether it is\n",
    "#an even or odd number?, If it even then prints number is even number else prints that number is odd number.\n",
    "\n",
    "num=int(input(\"Enter Number\"))\n",
    "def checknum(num):\n",
    "    if num%2==0:\n",
    "        print(\"Number is even number\")\n",
    "    else:\n",
    "        print(\"Number is odd number\")\n",
    "\n",
    "checknum(num)"
   ]
  },
  {
   "cell_type": "code",
   "execution_count": 23,
   "id": "38e44893",
   "metadata": {},
   "outputs": [
    {
     "name": "stdout",
     "output_type": "stream",
     "text": [
      "Enter first number23\n",
      "Enter Second Number23\n",
      "23 is equal t0 23\n"
     ]
    }
   ],
   "source": [
    "#W A P which takes two numbers from the user and prints below output:-\n",
    "#1. num1 is greater than num2 if num1 is greater than num2\n",
    "#2. num1 is smaller than num2 if num1 is smaller than num2\n",
    "#3. num1 is equal to num2 if num1 and num2 are equal\n",
    "\n",
    "num1=int(input(\"Enter first number\"))\n",
    "num2=int(input(\"Enter Second Number\"))\n",
    "\n",
    "def comparenum(num1,num2):\n",
    "    if num1>num2:\n",
    "        print(f\"{num1} is greater than {num2}\")\n",
    "    elif num1<num2:\n",
    "        print(f\"{num1} is smaller than {num2}\")\n",
    "    else:\n",
    "        print(f\"{num1} is equal t0 {num2}\")\n",
    "    \n",
    "comparenum(num1,num2)\n"
   ]
  },
  {
   "cell_type": "code",
   "execution_count": null,
   "id": "ededc7f3",
   "metadata": {},
   "outputs": [],
   "source": [
    "#W A P which takes three numbers from the user and prints below\n",
    "\n",
    "num1=int(input(\"Enter first number\"))\n",
    "num2=int(input(\"Enter Second Number\"))\n",
    "num3=int(input(\"Enter Third Number\"))\n",
    "\n",
    "def comparenum(num1,num2,num3):\n",
    "    if num1>num2 and num2>num3:\n",
    "        print(f\"{num1} is greater than {num2},{num3}\")\n",
    "    elif num1<num2 and num2<num3:\n",
    "        print(f\"{num3} is greater than {num1},{num2}\")\n",
    "    elif num1<num2 and num2>num3:\n",
    "        print(f\"{num2} is greater than {num1},{num3}\")\n",
    "    elif(num1>num2 and num2<num3) and num1<num3:\n",
    "        print(f\"{num3} is greater than {num1},{num2}\")\n",
    "    \n",
    " \n",
    "    \n",
    "comparenum(num1,num2,num3)"
   ]
  },
  {
   "cell_type": "code",
   "execution_count": 1,
   "id": "824dd924",
   "metadata": {},
   "outputs": [
    {
     "name": "stdout",
     "output_type": "stream",
     "text": [
      "55\n"
     ]
    }
   ],
   "source": [
    "#Write a Python program to find the length of the my_str using loop:-\n",
    "strr=\"Write a Python program to find the length of the my_str\"\n",
    "\n",
    "length=0\n",
    "\n",
    "for i in strr:\n",
    "    length+=1\n",
    "print(length)"
   ]
  },
  {
   "cell_type": "code",
   "execution_count": 2,
   "id": "029f1cb8",
   "metadata": {},
   "outputs": [
    {
     "name": "stdout",
     "output_type": "stream",
     "text": [
      "9\n"
     ]
    }
   ],
   "source": [
    "#Write a Python program to find the total number of times letter 'p'is appeared in the below string using loop:-\n",
    "\n",
    "strr=\"peter piper picked a peck of pickled peppers.\"\n",
    "\n",
    "length=0\n",
    "for i in strr:\n",
    "    if i=='p':\n",
    "        length+=1\n",
    "print(length)"
   ]
  },
  {
   "cell_type": "code",
   "execution_count": 6,
   "id": "cca15f30",
   "metadata": {},
   "outputs": [
    {
     "name": "stdout",
     "output_type": "stream",
     "text": [
      "p  0\n",
      "p  6\n",
      "p  8\n",
      "p  12\n",
      "p  21\n",
      "p  29\n",
      "p  37\n",
      "p  39\n",
      "p  40\n"
     ]
    }
   ],
   "source": [
    "#Write a Python Program, to print all the indexes of all occurences of letter 'p' appeared in the string using loop:-\n",
    "\n",
    "strr='peter piper picked a peck of pickled peppers.'\n",
    "length=0\n",
    "\n",
    "for i in strr:\n",
    "    if i=='p':\n",
    "        print('p ',length)\n",
    "    length+=1\n",
    "        "
   ]
  },
  {
   "cell_type": "code",
   "execution_count": 8,
   "id": "4fafd674",
   "metadata": {},
   "outputs": [
    {
     "name": "stdout",
     "output_type": "stream",
     "text": [
      "['peter', 'piper', 'picked', 'a', 'peck', 'of', 'pickled', 'peppers.']\n"
     ]
    }
   ],
   "source": [
    "#Input:- 'peter piper picked a peck of pickled peppers.'\n",
    "\n",
    "strr='peter piper picked a peck of pickled peppers.'\n",
    "\n",
    "list1=[]\n",
    "temp=''\n",
    "for i in strr:\n",
    "    if i!=\" \":\n",
    "        temp+=i\n",
    "    else:\n",
    "        list1.append(temp)\n",
    "        temp=''\n",
    "list1.append(temp)\n",
    "print(list1)\n",
    "    "
   ]
  },
  {
   "cell_type": "code",
   "execution_count": 11,
   "id": "75c6a718",
   "metadata": {},
   "outputs": [
    {
     "name": "stdout",
     "output_type": "stream",
     "text": [
      ".sreppep delkcip fo kcep a dekcip repip retep\n"
     ]
    }
   ],
   "source": [
    "#Input:- 'peter piper picked a peck of pickled peppers.'\n",
    "#Output:- '.sreppep delkcip fo kcep a dekcip repip retep'\n",
    "\n",
    "strr='peter piper picked a peck of pickled peppers.'\n",
    "\n",
    "strr2=\"\"\n",
    "\n",
    "for i in range(len(strr)-1,-1,-1):\n",
    "    strr2+=strr[i]\n",
    "    \n",
    "print(strr2)"
   ]
  },
  {
   "cell_type": "code",
   "execution_count": 13,
   "id": "3e1c4402",
   "metadata": {},
   "outputs": [
    {
     "name": "stdout",
     "output_type": "stream",
     "text": [
      "peppers. pickled of peck a picked piper peter \n"
     ]
    }
   ],
   "source": [
    "#Input:- 'peter piper picked a peck of pickled peppers.'\n",
    "#Output:- 'peppers pickled of peck a picked piper peter'\n",
    "    \n",
    "strr='peter piper picked a peck of pickled peppers.'\n",
    "strr2=\"\"\n",
    "\n",
    "list1=strr.split(\" \")\n",
    "for i in range(len(list1)-1,-1,-1):\n",
    "    for j in list1[i]:\n",
    "        strr2+=j\n",
    "    strr2+=\" \"\n",
    "print(strr2)"
   ]
  },
  {
   "cell_type": "code",
   "execution_count": 19,
   "id": "0cdc81b1",
   "metadata": {},
   "outputs": [
    {
     "name": "stdout",
     "output_type": "stream",
     "text": [
      "retep repip dekcip a kcep fo delkcip .sreppep \n"
     ]
    }
   ],
   "source": [
    "#Write a python program to find below output using loop:-\n",
    "#Input:- 'peter piper picked a peck of pickled peppers.'\n",
    "#Output:- 'retep repip dekcip a kcep fo delkcip sreppep'\n",
    "\n",
    "strr='peter piper picked a peck of pickled peppers.'\n",
    "strr2=\"\"\n",
    "\n",
    "list1=strr.split(\" \")\n",
    "for i in range(0,len(list1)):\n",
    "    for j in range(len(list1[i])-1,-1,-1):\n",
    "        strr2+=list1[i][j]\n",
    "    strr2+=\" \"\n",
    "print(strr2)\n",
    "\n"
   ]
  },
  {
   "cell_type": "code",
   "execution_count": 10,
   "id": "99e7ff04",
   "metadata": {},
   "outputs": [
    {
     "name": "stdout",
     "output_type": "stream",
     "text": [
      "Peter Piper Picked A Peck Of Pickled Peppers. \n"
     ]
    }
   ],
   "source": [
    "#Input:- 'peter piper picked a peck of pickled peppers.'\n",
    "#Output:- 'Peter Piper Picked A Peck Of Pickled Peppers'\n",
    "\n",
    "strr='peter piper picked a peck of pickled peppers.'\n",
    "\n",
    "list1=strr.split(\" \")\n",
    "strr2=\"\"\n",
    "\n",
    "for i in list1:\n",
    "    alpha=i[0].capitalize()\n",
    "    if len(i)>1:\n",
    "        for j in i[1:]:\n",
    "            alpha+=j\n",
    "    alpha+=\" \"\n",
    "    strr2+=alpha\n",
    "    \n",
    "print(strr2)\n"
   ]
  },
  {
   "cell_type": "code",
   "execution_count": 1,
   "id": "be58d4bb",
   "metadata": {},
   "outputs": [
    {
     "name": "stdout",
     "output_type": "stream",
     "text": [
      "peter piper picked a peck of pickled peppers. \n"
     ]
    }
   ],
   "source": [
    "#Input:- 'Peter Piper Picked A Peck Of Pickled Peppers.'\n",
    "#Output:- 'Peter piper picked a peck of pickled peppers'\n",
    "\n",
    "strr='Peter Piper Picked A Peck Of Pickled Peppers.'\n",
    "\n",
    "list1=strr.split(\" \")\n",
    "strr2=\"\"\n",
    "\n",
    "for i in list1:\n",
    "    alpha=i[0].lower()\n",
    "    if len(i)>1:\n",
    "        for j in i[1:]:\n",
    "            alpha+=j\n",
    "    alpha+=\" \"\n",
    "    strr2+=alpha\n",
    "    \n",
    "print(strr2)"
   ]
  },
  {
   "cell_type": "code",
   "execution_count": 26,
   "id": "1547cb05",
   "metadata": {},
   "outputs": [
    {
     "name": "stdout",
     "output_type": "stream",
     "text": [
      "2\n"
     ]
    }
   ],
   "source": [
    "#Write a python program to implement index method using loop. If sub_str is found in my_str then \n",
    "#it will print the index of first occurrence of first character of matching string in my_str:-\n",
    "\n",
    "my_str='Peter Piper Picked A Peck Of Pickled Peppers.'\n",
    "word=\"ter\"\n",
    "inc=0\n",
    "exc=len(word)\n",
    "\n",
    "def checksubstring(inc,exc):\n",
    "    while exc<=len(my_str):\n",
    "        if my_str[inc:exc]==word:\n",
    "            return inc\n",
    "        else:\n",
    "            inc+=1\n",
    "            exc+=1\n",
    "            \n",
    "print(checksubstring(inc,exc))     "
   ]
  },
  {
   "cell_type": "code",
   "execution_count": 32,
   "id": "64e2648b",
   "metadata": {},
   "outputs": [
    {
     "data": {
      "text/plain": [
       "'Peter Kiper Kicked A Peck Of Kickled Peppers.'"
      ]
     },
     "execution_count": 32,
     "metadata": {},
     "output_type": "execute_result"
    }
   ],
   "source": [
    "#Write a python program to implement replace method using loop. If sub_str is found in my_str then \n",
    "#it will replace the first occurrence of sub_str with new_str else it will will print sub_str not\n",
    "\n",
    "#Input:- my_str = 'Peter Piper Picked A Peck Of Pickled Peppers.',\n",
    "#sub_str = 'Peck', new_str = 'Pack'\n",
    "\n",
    "my_str=\"Peter Piper Picked A Peck Of Pickled Peppers.\"\n",
    "sub_str=\"Pi\"\n",
    "new_str=\"Ki\"\n",
    "\n",
    "inc=0\n",
    "exc=len(sub_str)\n",
    "\n",
    "def replace(inc,exc):\n",
    "    while(exc<=len(my_str)):\n",
    "        if my_str[inc:exc]==sub_str:\n",
    "            list1=my_str.split(sub_str)\n",
    "            strr=new_str.join(list1)\n",
    "            return strr\n",
    "        else:\n",
    "            inc+=1\n",
    "            exc+=1\n",
    "replace(inc,exc)\n",
    "            "
   ]
  },
  {
   "cell_type": "code",
   "execution_count": 45,
   "id": "820462d0",
   "metadata": {},
   "outputs": [
    {
     "name": "stdout",
     "output_type": "stream",
     "text": [
      "*********************Peck*********************\n"
     ]
    }
   ],
   "source": [
    "#Write a python program to find below output (implements rjust and ljust) using loop:-\n",
    "#Input:- 'Peter Piper Picked A Peck Of Pickled Peppers.', sub_str ='Peck',\n",
    "#Output:- '*********************Peck********************'\n",
    "\n",
    "my_str= \"Peter Piper Picked A Peck Of Pickled Peppers.\"\n",
    "sub_str ='Peck'\n",
    "\n",
    "inc=0\n",
    "exc=len(sub_str)\n",
    "def strmethod(inc,exc):\n",
    "    output=\"\"\n",
    "    while(exc<=len(my_str)):\n",
    "        if my_str[inc:exc]==sub_str:\n",
    "            list1=my_str.split(sub_str)\n",
    "            for i in range(0,len(list1)-1):\n",
    "                output+=len(list1[i])*\"*\"+sub_str\n",
    "            output+=len(list1[i])*\"*\"\n",
    "            return output\n",
    "        else:\n",
    "            inc+=1\n",
    "            exc+=1\n",
    "print(strmethod(inc,exc))\n",
    "        "
   ]
  },
  {
   "cell_type": "code",
   "execution_count": 50,
   "id": "9f178bb3",
   "metadata": {},
   "outputs": [
    {
     "name": "stdout",
     "output_type": "stream",
     "text": [
      "['This', ' is', ' Python class']\n"
     ]
    }
   ],
   "source": [
    "#Write a python program to find below output using loop:-\n",
    "#Input:- 'This is Python class', sep = ' is',\n",
    "#Output:- ['This', 'is', 'Python class']\n",
    "\n",
    "my_str=\"This is Python class\"\n",
    "word=\" is\"\n",
    "inc=0\n",
    "exc=len(word)\n",
    "list1=[]\n",
    "\n",
    "def checksubstring(inc,exc):\n",
    "    while exc<=len(my_str):\n",
    "        if my_str[inc:exc]==word:\n",
    "            list1.append(my_str[0:inc])\n",
    "            list1.append(word)\n",
    "            list1.append(my_str[exc:len(my_str)])\n",
    "            return list1\n",
    "        else:\n",
    "            inc+=1\n",
    "            exc+=1\n",
    "            \n",
    "print(checksubstring(inc,exc))    "
   ]
  },
  {
   "cell_type": "code",
   "execution_count": null,
   "id": "eef1b5a6",
   "metadata": {},
   "outputs": [],
   "source": []
  }
 ],
 "metadata": {
  "kernelspec": {
   "display_name": "Python 3 (ipykernel)",
   "language": "python",
   "name": "python3"
  },
  "language_info": {
   "codemirror_mode": {
    "name": "ipython",
    "version": 3
   },
   "file_extension": ".py",
   "mimetype": "text/x-python",
   "name": "python",
   "nbconvert_exporter": "python",
   "pygments_lexer": "ipython3",
   "version": "3.9.7"
  }
 },
 "nbformat": 4,
 "nbformat_minor": 5
}
