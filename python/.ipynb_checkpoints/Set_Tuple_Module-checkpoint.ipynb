{
 "cells": [
  {
   "cell_type": "code",
   "execution_count": 1,
   "id": "f99634d0",
   "metadata": {},
   "outputs": [
    {
     "name": "stdout",
     "output_type": "stream",
     "text": [
      "{1, 2, 3, 4, 5}\n",
      "(1,)\n",
      "(2, 35)\n",
      "(5.7, 9.0, 'ab')\n"
     ]
    }
   ],
   "source": [
    "#Set and tuple \n",
    "\n",
    "a={1,2,3,4,5,4}\n",
    "\n",
    "b=1,  #can write tuple like this\n",
    "c=2,35\n",
    "d=(5.7,9.0,'ab')\n",
    "\n",
    "print(a) # only one 4 prints bcz set doesnt allow duplicates\n",
    "print(b)\n",
    "print(c)\n",
    "print(d)"
   ]
  },
  {
   "cell_type": "code",
   "execution_count": 19,
   "id": "363b5cba",
   "metadata": {},
   "outputs": [
    {
     "name": "stdout",
     "output_type": "stream",
     "text": [
      "{'e', ' ', 'l', 'y', 'h', 'n', 'o', 'p', 't'}\n",
      "('h', 'e', 'l', 'l', 'o', ' ', 'p', 'y', 't', 'h', 'o', 'n')\n",
      "{2, 3, 'ab', 56, 'ix'}\n",
      "[1, 5, 6, 7, 'jl']\n",
      "(2, 3, 56, 'ab', 'ix')\n",
      "{1, 'a', 4, 5}\n",
      "[1, 'a', 4, 5]\n",
      "(1, 'a', 4, 5)\n"
     ]
    }
   ],
   "source": [
    "#convet string into set & tuple\n",
    "\n",
    "ab='hello python'\n",
    "\n",
    "print(set(ab))\n",
    "print(tuple(ab))\n",
    "\n",
    "\n",
    "\n",
    "#conversion of list set tuple inclusivly\n",
    "lis=[2,3,56,'ab','ix']\n",
    "se={'a','h','ik'}\n",
    "tup=(1,5,6,7,'jl')\n",
    "dicti={1:2,'a':'b',4:8,5:9}\n",
    "     \n",
    "print(set(lis))\n",
    "print(list(tup))\n",
    "print(tuple(lis))\n",
    "\n",
    "# converts to collection of keys\n",
    "print(set(dicti))\n",
    "print(list(dicti))\n",
    "print(tuple(dicti))\n"
   ]
  },
  {
   "cell_type": "code",
   "execution_count": 17,
   "id": "99bd9a3e",
   "metadata": {},
   "outputs": [
    {
     "name": "stdout",
     "output_type": "stream",
     "text": [
      "Enter set values{1:2,3:5,6:7}\n",
      "Enter tuple valuesa\n",
      "Enter list values\n",
      "Enter Dict values{1:2,3:5}\n",
      "{'5', '2', ',', '1', '6', '3', '}', ':', '{', '7'}\n",
      "('a',)\n",
      "['s']\n",
      "{1:2,3:5}\n"
     ]
    }
   ],
   "source": [
    "#taking input from user\n",
    "\n",
    "seto=set(input(\"Enter set values\"))\n",
    "tupo=tuple(input(\"Enter tuple values\"))\n",
    "listo=list(input(\"Enter list value\"))\n",
    "dicto=input(\"Enter Dict values\")\n",
    "\n",
    "print(seto)\n",
    "print(tupo)\n",
    "print(listo)\n",
    "print(dicto)"
   ]
  },
  {
   "cell_type": "code",
   "execution_count": 21,
   "id": "88185ea1",
   "metadata": {},
   "outputs": [
    {
     "name": "stdout",
     "output_type": "stream",
     "text": [
      "{89, 1, 3, 478}\n"
     ]
    }
   ],
   "source": [
    "#Set intersection\n",
    "\n",
    "list1=[1,2,3,4,589,478,89,34]\n",
    "list2=[1,5,6,6,7,3,5,478,89]\n",
    "set1=set(list1)\n",
    "set2=set(list2)\n",
    "set3=set1.intersection(set2)\n",
    "print(set3)"
   ]
  },
  {
   "cell_type": "code",
   "execution_count": 37,
   "id": "39394b6a",
   "metadata": {},
   "outputs": [
    {
     "name": "stdout",
     "output_type": "stream",
     "text": [
      "{0, 2, 4, 6, 8, 10, 12, 14, 16, 18}\n",
      "<generator object <genexpr> at 0x7fa7b197b970>\n"
     ]
    }
   ],
   "source": [
    "# set  enhancement\n",
    "# {exp for condtion}\n",
    "\n",
    "set2={i for i in range(0,20) if i%2==0}\n",
    "print(set2)\n"
   ]
  },
  {
   "cell_type": "code",
   "execution_count": 39,
   "id": "a16e8858",
   "metadata": {},
   "outputs": [
    {
     "name": "stdout",
     "output_type": "stream",
     "text": [
      "['__and__', '__class__', '__class_getitem__', '__contains__', '__delattr__', '__dir__', '__doc__', '__eq__', '__format__', '__ge__', '__getattribute__', '__gt__', '__hash__', '__iand__', '__init__', '__init_subclass__', '__ior__', '__isub__', '__iter__', '__ixor__', '__le__', '__len__', '__lt__', '__ne__', '__new__', '__or__', '__rand__', '__reduce__', '__reduce_ex__', '__repr__', '__ror__', '__rsub__', '__rxor__', '__setattr__', '__sizeof__', '__str__', '__sub__', '__subclasshook__', '__xor__', 'add', 'clear', 'copy', 'difference', 'difference_update', 'discard', 'intersection', 'intersection_update', 'isdisjoint', 'issubset', 'issuperset', 'pop', 'remove', 'symmetric_difference', 'symmetric_difference_update', 'union', 'update']\n",
      "-------------\n",
      "['__add__', '__class__', '__class_getitem__', '__contains__', '__delattr__', '__dir__', '__doc__', '__eq__', '__format__', '__ge__', '__getattribute__', '__getitem__', '__getnewargs__', '__gt__', '__hash__', '__init__', '__init_subclass__', '__iter__', '__le__', '__len__', '__lt__', '__mul__', '__ne__', '__new__', '__reduce__', '__reduce_ex__', '__repr__', '__rmul__', '__setattr__', '__sizeof__', '__str__', '__subclasshook__', 'count', 'index']\n"
     ]
    }
   ],
   "source": [
    "#methods in tuple and set\n",
    "\n",
    "print(dir(set))\n",
    "\n",
    "print(\"-------------\")\n",
    "print(dir(tuple))"
   ]
  },
  {
   "cell_type": "code",
   "execution_count": 40,
   "id": "eabcc27c",
   "metadata": {},
   "outputs": [],
   "source": [
    "#'add', 'clear', 'copy', 'difference', 'difference_update', 'discard', 'intersection', 'intersection_update', \n",
    "#'isdisjoint','issubset', 'issuperset', 'pop', 'remove', 'symmetric_difference','symmetric_difference_update', \n",
    "#'union', 'update'\n",
    "\n",
    "\n",
    "#tuple methods\n",
    "#'count', 'index'"
   ]
  },
  {
   "cell_type": "code",
   "execution_count": 52,
   "id": "f9585830",
   "metadata": {},
   "outputs": [
    {
     "name": "stdout",
     "output_type": "stream",
     "text": [
      "2\n",
      "2\n",
      "(2, 5, 4)\n",
      "(1, 2, 3, 5, 3, 4, 'ab', 'ak', 2.0, 1, 2, 3, 5, 3, 4, 'ab', 'ak', 2.0)\n",
      "(1, 2, 3, 5, 3, 4, 'ab', 'ak', 2.0, 's', 'd', 'ef')\n",
      "True\n",
      "False\n"
     ]
    }
   ],
   "source": [
    "tuple1=(1,2,3,5,3,4,\"ab\",\"ak\",2.0)\n",
    "\n",
    "print(tuple1[1]) #index\n",
    "\n",
    "print(tuple1.count(3)) #count\n",
    "\n",
    "print(tuple1[1:7:2]) #slicing\n",
    "\n",
    "print(tuple1*2) #repetation\n",
    "print(tuple1+('s','d','ef')) #concatination\n",
    "\n",
    "print( 5 in tuple1) #membership\n",
    "\n",
    "print( tuple1 is tup) #identity"
   ]
  },
  {
   "cell_type": "code",
   "execution_count": 65,
   "id": "f61ba12b",
   "metadata": {},
   "outputs": [
    {
     "name": "stdout",
     "output_type": "stream",
     "text": [
      "True\n",
      "False\n",
      "{'ji', 1, 2, 3, 5.0, 7.9}\n",
      "{'ji', 1, 2, 3, 5.0, 7.9}\n",
      "True\n"
     ]
    }
   ],
   "source": [
    "#Set methods\n",
    "\n",
    "set1={1,2,3,5.0,7.9,3}\n",
    "set2 ={4,7,8,2,5,73,78}\n",
    "print(3 in set1) #membership\n",
    "print(set1 is set2) #identity\n",
    "\n",
    "#print(set1[1]) #index wont works\n",
    "#print(set1[1:2])#slicing wont works\n",
    "#print(set1*2) repetation wont works\n",
    "#print(set1+set2) concatination wont works\n",
    "\n",
    "#'add', 'clear', 'copy'\n",
    "set1.add('ji')\n",
    "set3=set1.copy()\n",
    "print(set3)\n",
    "set3.clear()\n",
    "print(set1)\n",
    "print(set3)\n"
   ]
  },
  {
   "cell_type": "code",
   "execution_count": 96,
   "id": "db973f52",
   "metadata": {},
   "outputs": [
    {
     "name": "stdout",
     "output_type": "stream",
     "text": [
      "{2, 4, 5, 7, 8, 'apple', 73, 'fruit', 78, 'sweet'}\n",
      "set()\n",
      "set()\n",
      "{'apple', 'fruit'}\n",
      "{2, 4, 5, 7, 8, 73, 78}\n",
      "{2, 4, 5, 7, 8, 'apple', 73, 'fruit', 78}\n"
     ]
    }
   ],
   "source": [
    "#intersection,'pop', 'remove',union,update\n",
    "\n",
    "set4=set1.intersection(set2)\n",
    "set5=set1.union(set2)\n",
    "print(set4)\n",
    "print(set5)\n",
    "\n",
    "set1.pop()\n",
    "\n",
    "\n",
    "print(set1)\n",
    "print(set2)\n",
    "\n",
    "set1.update(set2)\n",
    "print(set1)\n",
    "#set1.remove(2)"
   ]
  },
  {
   "cell_type": "code",
   "execution_count": 88,
   "id": "029a4e65",
   "metadata": {},
   "outputs": [
    {
     "name": "stdout",
     "output_type": "stream",
     "text": [
      "{1, 3, 7.9}\n",
      "{1, 3, 7.9}\n"
     ]
    }
   ],
   "source": [
    "#difference', 'difference_update'\n",
    "set1={1,2,3,5.0,7.9,3}\n",
    "set2 ={4,7,8,2,5,73,78}\n",
    "\n",
    "#The returned set contains items that exist only in the first set, and not in both sets.\n",
    "set3=set1.difference(set2)\n",
    "print(set3)\n",
    "\n",
    "#Removes unwanted items from original set\n",
    "set1={1,2,3,5.0,7.9,3}\n",
    "set2 ={4,7,8,2,5,73,78}\n",
    "set1.difference_update(set2)\n",
    "print(set1)"
   ]
  },
  {
   "cell_type": "code",
   "execution_count": 98,
   "id": "5101e1d6",
   "metadata": {},
   "outputs": [
    {
     "name": "stdout",
     "output_type": "stream",
     "text": [
      "{'sweet', 'apple', 'fruit'}\n",
      "{'apple'}\n"
     ]
    }
   ],
   "source": [
    "set1={'apple','fruit','sweet'}\n",
    "set2={'apple','banaan','ice'}\n",
    "\n",
    "#it is similar to remove but will not give error if item is not there \n",
    "set1.discard('fruitiw')\n",
    "print(set1)\n",
    "set1.intersection_update(set2) #return original set by deleteting elements unlike intersection creates new set\n",
    "print(set1)"
   ]
  },
  {
   "cell_type": "code",
   "execution_count": 2,
   "id": "75582ab7",
   "metadata": {},
   "outputs": [
    {
     "name": "stdout",
     "output_type": "stream",
     "text": [
      "True\n",
      "True\n",
      "True\n"
     ]
    }
   ],
   "source": [
    "##'isdisjoint','issubset', 'issuperset'\n",
    "\n",
    "set1={1,2,3,5.0,7.9,3}\n",
    "set2 ={2,3,5}\n",
    "set3={8,10}\n",
    "print(set2.issubset(set1)) #method returns True if all items in the set exists in the specified set\n",
    "print(set1.issuperset(set2))#method returns True if all items in the specified set exists in the original set\n",
    "print(set1.isdisjoint(set3)) #returns True if none of the items are present in both sets\n"
   ]
  },
  {
   "cell_type": "code",
   "execution_count": 5,
   "id": "4ddbbbed",
   "metadata": {},
   "outputs": [
    {
     "name": "stdout",
     "output_type": "stream",
     "text": [
      "{1, 7.9}\n",
      "{1, 7.9}\n"
     ]
    }
   ],
   "source": [
    "#Symetric difference is Opposite to intersection retuns set with elemts not same in two lists\n",
    "\n",
    "set3=set1.symmetric_difference(set2)\n",
    "print(set3)\n",
    "\n",
    "set1.symmetric_difference_update(set2) #action done in original set\n",
    "print(set1)"
   ]
  },
  {
   "cell_type": "code",
   "execution_count": null,
   "id": "977d1e3b",
   "metadata": {},
   "outputs": [],
   "source": []
  }
 ],
 "metadata": {
  "kernelspec": {
   "display_name": "Python 3 (ipykernel)",
   "language": "python",
   "name": "python3"
  },
  "language_info": {
   "codemirror_mode": {
    "name": "ipython",
    "version": 3
   },
   "file_extension": ".py",
   "mimetype": "text/x-python",
   "name": "python",
   "nbconvert_exporter": "python",
   "pygments_lexer": "ipython3",
   "version": "3.9.7"
  }
 },
 "nbformat": 4,
 "nbformat_minor": 5
}
