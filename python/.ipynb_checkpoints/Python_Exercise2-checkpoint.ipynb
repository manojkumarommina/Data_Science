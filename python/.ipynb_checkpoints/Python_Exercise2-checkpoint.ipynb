{
 "cells": [
  {
   "cell_type": "code",
   "execution_count": 5,
   "id": "c59cac73",
   "metadata": {},
   "outputs": [
    {
     "name": "stdout",
     "output_type": "stream",
     "text": [
      "False\n",
      "True\n"
     ]
    }
   ],
   "source": [
    "#Write a Python program to check whether a file exists\n",
    "\n",
    "import os\n",
    "\n",
    "print(os.path.isfile(\"Booleann Assignment.pdf\"))\n",
    "print(os.path.isfile(\"Boolean Assignment.pdf\"))"
   ]
  },
  {
   "cell_type": "code",
   "execution_count": 10,
   "id": "f0ba31e4",
   "metadata": {},
   "outputs": [
    {
     "name": "stdout",
     "output_type": "stream",
     "text": [
      "64bit\n",
      "64\n",
      "8\n"
     ]
    }
   ],
   "source": [
    "#Write a Python program to determine if a Python shell is executing in 32bit or 64bit mode on OS.\n",
    "\n",
    "import platform,struct\n",
    "\n",
    "print(platform.architecture()[0])\n",
    "print(struct.calcsize(\"P\")*8)\n",
    "print(struct.calcsize(\"p\")*8)"
   ]
  },
  {
   "cell_type": "code",
   "execution_count": 17,
   "id": "47731000",
   "metadata": {},
   "outputs": [
    {
     "name": "stdout",
     "output_type": "stream",
     "text": [
      "posix\n",
      "Darwin\n",
      "21.4.0\n"
     ]
    }
   ],
   "source": [
    "# Write a Python program to get OS name, platform and release information\n",
    "\n",
    "import os,platform\n",
    "print(os.name)\n",
    "print(platform.system())\n",
    "print(platform.release())"
   ]
  },
  {
   "cell_type": "code",
   "execution_count": 18,
   "id": "b7824ab4",
   "metadata": {},
   "outputs": [
    {
     "name": "stdout",
     "output_type": "stream",
     "text": [
      "['/Users/manu/opt/anaconda3/lib/python3.9/site-packages']\n"
     ]
    }
   ],
   "source": [
    "#Write a Python program to locate Python site-packages\n",
    "import site\n",
    "\n",
    "print(site.getsitepackages())"
   ]
  },
  {
   "cell_type": "code",
   "execution_count": 20,
   "id": "1fd24a4e",
   "metadata": {},
   "outputs": [
    {
     "name": "stdout",
     "output_type": "stream",
     "text": [
      "total 776\n",
      "-rw-r--r--@ 1 manu  staff  57683 Apr 28 18:47 Boolean Assignment.pdf\n",
      "-rw-r--r--  1 manu  staff   2624 Apr 30 11:59 Calander_Module.ipynb\n",
      "-rw-r--r--  1 manu  staff   4319 Apr 28 17:05 Date and Time Module.ipynb\n",
      "-rw-r--r--@ 1 manu  staff  20597 May 13 18:36 Dictionary_Assignment.ipynb\n",
      "-rw-r--r--  1 manu  staff   5575 May  4 19:33 Dictionary_Module.ipynb\n",
      "-rw-r--r--@ 1 manu  staff  47203 Apr 27 17:07 Float_Assignment.pdf\n",
      "-rw-r--r--@ 1 manu  staff  64619 Apr 26 19:15 Int Assignment.pdf\n",
      "-rw-r--r--@ 1 manu  staff  18599 May  6 18:16 List_Assignment.ipynb\n",
      "-rw-r--r--  1 manu  staff   8381 May  3 19:49 List_Module.ipynb\n",
      "-rw-r--r--  1 manu  staff  17424 May 10 16:19 Loop_Assignment.ipynb\n",
      "-rw-r--r--  1 manu  staff   5591 Apr 29 16:33 Math_Module.ipynb\n",
      "-rw-r--r--  1 manu  staff   2988 May 12 14:40 Python Home Work.ipynb\n",
      "-rw-r--r--  1 manu  staff  23152 May 13 18:34 Python_Exercise1.ipynb\n",
      "-rw-r--r--  1 manu  staff   2678 May 18 15:05 Python_Exercise2.ipynb\n",
      "-rw-r--r--  1 manu  staff  11306 "
     ]
    },
    {
     "data": {
      "text/plain": [
       "0"
      ]
     },
     "execution_count": 20,
     "metadata": {},
     "output_type": "execute_result"
    },
    {
     "name": "stdout",
     "output_type": "stream",
     "text": [
      "May  5 17:58 Set_Tuple_Module.ipynb\n",
      "-rw-r--r--  1 manu  staff   8844 May  2 17:01 String_Module.ipynb\n",
      "-rw-r--r--@ 1 manu  staff  52612 Apr 29 18:40 complex_assignment.pdf\n",
      "-rw-r--r--  1 manu  staff     84 Apr 25 16:04 firstprogram.py\n"
     ]
    }
   ],
   "source": [
    "#Write a Python program to call an external command.\n",
    "\n",
    "from subprocess import call\n",
    "\n",
    "call(['ls','-l'])"
   ]
  },
  {
   "cell_type": "code",
   "execution_count": 6,
   "id": "450636c8",
   "metadata": {},
   "outputs": [
    {
     "name": "stdout",
     "output_type": "stream",
     "text": [
      "/Users/manu/Data Science/Git Repository/Data_Science/python/__file__\n"
     ]
    }
   ],
   "source": [
    "#Write a python program to get the path and name of the file that is currently executing.\n",
    "\n",
    "import os\n",
    "\n",
    "print(os.path.realpath(\"__file__\"))"
   ]
  },
  {
   "cell_type": "code",
   "execution_count": 8,
   "id": "2f91d2de",
   "metadata": {},
   "outputs": [
    {
     "name": "stdout",
     "output_type": "stream",
     "text": [
      "8\n",
      "8\n"
     ]
    }
   ],
   "source": [
    "#. Write a Python program to find out the number of CPUs using.\n",
    "\n",
    "import os,multiprocessing\n",
    "print(os.cpu_count())\n",
    "print(multiprocessing.cpu_count())\n"
   ]
  },
  {
   "cell_type": "code",
   "execution_count": 11,
   "id": "099e5580",
   "metadata": {},
   "outputs": [
    {
     "name": "stdout",
     "output_type": "stream",
     "text": [
      "2 <class 'str'>\n",
      "2 <class 'int'>\n"
     ]
    }
   ],
   "source": [
    "# Write a Python program to parse a string to Float or Intege\n",
    "\n",
    "a=\"2\"\n",
    "print(a,type(a))\n",
    "b=int(a)\n",
    "print(b, type(b))"
   ]
  },
  {
   "cell_type": "code",
   "execution_count": 16,
   "id": "2cdea1e9",
   "metadata": {},
   "outputs": [
    {
     "ename": "FileNotFoundError",
     "evalue": "[Errno 2] No such file or directory: '/Data Science'",
     "output_type": "error",
     "traceback": [
      "\u001b[0;31m---------------------------------------------------------------------------\u001b[0m",
      "\u001b[0;31mFileNotFoundError\u001b[0m                         Traceback (most recent call last)",
      "\u001b[0;32m/var/folders/nx/rzfcs7mj2bj70r23j_mcmcqw0000gn/T/ipykernel_1969/2597999799.py\u001b[0m in \u001b[0;36m<module>\u001b[0;34m\u001b[0m\n\u001b[1;32m      4\u001b[0m \u001b[0;32mfrom\u001b[0m \u001b[0mos\u001b[0m\u001b[0;34m.\u001b[0m\u001b[0mpath\u001b[0m \u001b[0;32mimport\u001b[0m \u001b[0misfile\u001b[0m\u001b[0;34m,\u001b[0m\u001b[0mjoin\u001b[0m\u001b[0;34m\u001b[0m\u001b[0;34m\u001b[0m\u001b[0m\n\u001b[1;32m      5\u001b[0m \u001b[0;34m\u001b[0m\u001b[0m\n\u001b[0;32m----> 6\u001b[0;31m \u001b[0mfiles_list\u001b[0m\u001b[0;34m=\u001b[0m\u001b[0;34m[\u001b[0m\u001b[0mf\u001b[0m \u001b[0;32mfor\u001b[0m \u001b[0mf\u001b[0m \u001b[0;32min\u001b[0m \u001b[0mlistdir\u001b[0m\u001b[0;34m(\u001b[0m\u001b[0;34m'/Data Science'\u001b[0m\u001b[0;34m)\u001b[0m \u001b[0;32mif\u001b[0m \u001b[0misfile\u001b[0m\u001b[0;34m(\u001b[0m\u001b[0mjoin\u001b[0m\u001b[0;34m(\u001b[0m\u001b[0;34m'/Data Science'\u001b[0m\u001b[0;34m,\u001b[0m \u001b[0mf\u001b[0m\u001b[0;34m)\u001b[0m\u001b[0;34m)\u001b[0m\u001b[0;34m]\u001b[0m\u001b[0;34m\u001b[0m\u001b[0;34m\u001b[0m\u001b[0m\n\u001b[0m\u001b[1;32m      7\u001b[0m \u001b[0mfiles_list\u001b[0m\u001b[0;34m\u001b[0m\u001b[0;34m\u001b[0m\u001b[0m\n",
      "\u001b[0;31mFileNotFoundError\u001b[0m: [Errno 2] No such file or directory: '/Data Science'"
     ]
    }
   ],
   "source": [
    "#Write a Python program to list all files in a directory in Python\n",
    "\n",
    "from os import listdir\n",
    "from os.path import isfile,join\n",
    "\n",
    "#files_list=[f for f in listdir('/Data Science') if isfile(join('/Data Science', f))]\n",
    "files_list\n"
   ]
  },
  {
   "cell_type": "code",
   "execution_count": 17,
   "id": "4144d5f4",
   "metadata": {},
   "outputs": [
    {
     "name": "stdout",
     "output_type": "stream",
     "text": [
      "**********"
     ]
    }
   ],
   "source": [
    "#Write a Python program to print without newline or space\n",
    "\n",
    "for i in range(0,10):\n",
    "    print(\"*\", end=\"\")"
   ]
  },
  {
   "cell_type": "code",
   "execution_count": 19,
   "id": "7018a107",
   "metadata": {},
   "outputs": [
    {
     "name": "stdout",
     "output_type": "stream",
     "text": [
      "9\n",
      "         41 function calls in 0.000 seconds\n",
      "\n",
      "   Ordered by: standard name\n",
      "\n",
      "   ncalls  tottime  percall  cumtime  percall filename:lineno(function)\n",
      "        1    0.000    0.000    0.000    0.000 1409297020.py:5(sum)\n",
      "        1    0.000    0.000    0.000    0.000 <string>:1(<module>)\n",
      "        3    0.000    0.000    0.000    0.000 iostream.py:206(schedule)\n",
      "        2    0.000    0.000    0.000    0.000 iostream.py:418(_is_master_process)\n",
      "        2    0.000    0.000    0.000    0.000 iostream.py:437(_schedule_flush)\n",
      "        2    0.000    0.000    0.000    0.000 iostream.py:500(write)\n",
      "        3    0.000    0.000    0.000    0.000 iostream.py:96(_event_pipe)\n",
      "        3    0.000    0.000    0.000    0.000 socket.py:474(send)\n",
      "        3    0.000    0.000    0.000    0.000 threading.py:1059(_wait_for_tstate_lock)\n",
      "        3    0.000    0.000    0.000    0.000 threading.py:1113(is_alive)\n",
      "        3    0.000    0.000    0.000    0.000 threading.py:529(is_set)\n",
      "        1    0.000    0.000    0.000    0.000 {built-in method builtins.exec}\n",
      "        2    0.000    0.000    0.000    0.000 {built-in method builtins.isinstance}\n",
      "        2    0.000    0.000    0.000    0.000 {built-in method builtins.len}\n",
      "        1    0.000    0.000    0.000    0.000 {built-in method builtins.print}\n",
      "        2    0.000    0.000    0.000    0.000 {built-in method posix.getpid}\n",
      "        3    0.000    0.000    0.000    0.000 {method 'acquire' of '_thread.lock' objects}\n",
      "        3    0.000    0.000    0.000    0.000 {method 'append' of 'collections.deque' objects}\n",
      "        1    0.000    0.000    0.000    0.000 {method 'disable' of '_lsprof.Profiler' objects}\n",
      "\n",
      "\n"
     ]
    }
   ],
   "source": [
    "#Write a Python program to determine profiling of Python programs.\n",
    "\n",
    "import cProfile\n",
    "\n",
    "def sum():\n",
    "    print(5+4)\n",
    "cProfile.run('sum()')"
   ]
  },
  {
   "cell_type": "code",
   "execution_count": 21,
   "id": "b4b7a389",
   "metadata": {},
   "outputs": [
    {
     "name": "stderr",
     "output_type": "stream",
     "text": [
      "abc:you:123\n"
     ]
    }
   ],
   "source": [
    "from __future__ import print_function\n",
    "import sys\n",
    "\n",
    "def funct(*args, **kwargs):\n",
    "    print(*args,file=sys.stderr,**kwargs)\n",
    "    \n",
    "funct('abc','you','123',sep=':')"
   ]
  },
  {
   "cell_type": "code",
   "execution_count": null,
   "id": "88cb8f78",
   "metadata": {},
   "outputs": [],
   "source": []
  }
 ],
 "metadata": {
  "kernelspec": {
   "display_name": "Python 3 (ipykernel)",
   "language": "python",
   "name": "python3"
  },
  "language_info": {
   "codemirror_mode": {
    "name": "ipython",
    "version": 3
   },
   "file_extension": ".py",
   "mimetype": "text/x-python",
   "name": "python",
   "nbconvert_exporter": "python",
   "pygments_lexer": "ipython3",
   "version": "3.9.7"
  }
 },
 "nbformat": 4,
 "nbformat_minor": 5
}
