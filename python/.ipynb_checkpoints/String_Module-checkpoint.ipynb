{
 "cells": [
  {
   "cell_type": "code",
   "execution_count": 33,
   "id": "c3f48775",
   "metadata": {},
   "outputs": [
    {
     "name": "stdout",
     "output_type": "stream",
     "text": [
      "manu\n",
      "manoj\n",
      "manoj kumar\n",
      "manoj kumar\n",
      "hi\n",
      "fjj\n",
      "hi\n",
      "manoj\n"
     ]
    }
   ],
   "source": [
    "import sys\n",
    "\n",
    "a='manu'\n",
    "b=\"manoj\"\n",
    "c='''manoj kumar'''\n",
    "d=\"\"\"manoj kumar\"\"\"\n",
    "\n",
    "\n",
    "\n",
    "print(\"{}\\n{}\\n{}\\n{}\".format(a,b,c,d))\n",
    "e='hi\\nfjj'\n",
    "f=\"\"\"hi\n",
    "manoj\"\"\"\n",
    "print(e)\n",
    "print(f)"
   ]
  },
  {
   "cell_type": "code",
   "execution_count": 40,
   "id": "e8a9fc82",
   "metadata": {},
   "outputs": [
    {
     "name": "stdout",
     "output_type": "stream",
     "text": [
      "i am rajesh\n",
      "i am suresh\n",
      "i am rajesh and he is my friend suresh\n"
     ]
    }
   ],
   "source": [
    "#print strings\n",
    "a= \"rajesh\"\n",
    "b=\"suresh\"\n",
    "print(f\"i am {a}\") #f string\n",
    "print(\"he is\",b) #Normal\n",
    "print(\"i am {} and he is my friend {}\".format(a,b)) # format"
   ]
  },
  {
   "cell_type": "code",
   "execution_count": 56,
   "id": "8825c8a0",
   "metadata": {},
   "outputs": [
    {
     "name": "stdout",
     "output_type": "stream",
     "text": [
      "5 <class 'str'>\n",
      "55 <class 'int'>\n",
      "4-11-2022\n",
      "4.0-11-2022\n"
     ]
    }
   ],
   "source": [
    "#Conversion of int to string\n",
    "\n",
    "a=5\n",
    "\n",
    "b=str(a)\n",
    "print(b,type(b))\n",
    "\n",
    "#expression string a+aa+aaa=\"5+55+555\"\n",
    "\n",
    "exp=int(\"%s%s\" %(a,a))\n",
    "print(exp,type(exp))\n",
    "\n",
    "tup=(4.0,11,2022)\n",
    "dat=str(\"%i-%i-%i\" %tup)\n",
    "dat2=str(\"%s-%s-%s\" %tup)\n",
    "print(dat)\n",
    "print(dat2)"
   ]
  },
  {
   "cell_type": "code",
   "execution_count": 73,
   "id": "1b4887ff",
   "metadata": {},
   "outputs": [
    {
     "name": "stdout",
     "output_type": "stream",
     "text": [
      "58\n",
      "['__add__', '__class__', '__contains__', '__delattr__', '__dir__', '__doc__', '__eq__', '__format__', '__ge__', '__getattribute__', '__getitem__', '__getnewargs__', '__gt__', '__hash__', '__init__', '__init_subclass__', '__iter__', '__le__', '__len__', '__lt__', '__mod__', '__mul__', '__ne__', '__new__', '__reduce__', '__reduce_ex__', '__repr__', '__rmod__', '__rmul__', '__setattr__', '__sizeof__', '__str__', '__subclasshook__', 'capitalize', 'casefold', 'center', 'count', 'encode', 'endswith', 'expandtabs', 'find', 'format', 'format_map', 'index', 'isalnum', 'isalpha', 'isascii', 'isdecimal', 'isdigit', 'isidentifier', 'islower', 'isnumeric', 'isprintable', 'isspace', 'istitle', 'isupper', 'join', 'ljust', 'lower', 'lstrip', 'maketrans', 'partition', 'removeprefix', 'removesuffix', 'replace', 'rfind', 'rindex', 'rjust', 'rpartition', 'rsplit', 'rstrip', 'split', 'splitlines', 'startswith', 'strip', 'swapcase', 'title', 'translate', 'upper', 'zfill']\n"
     ]
    }
   ],
   "source": [
    "#memory of the string\n",
    "import sys\n",
    "a=\"hidjbdbjs\"\n",
    "b=9\n",
    "print(sys.getsizeof(a))\n",
    "\n",
    "#print all functions of string\n",
    "\n",
    "print(dir(str))"
   ]
  },
  {
   "cell_type": "code",
   "execution_count": 74,
   "id": "47dfc694",
   "metadata": {},
   "outputs": [
    {
     "data": {
      "text/plain": [
       "\" 'capitalize', 'casefold', 'center', 'count', 'encode', 'endswith', 'expandtabs',\\n'find', 'format', 'format_map', 'index', 'isalnum', 'isalpha', 'isascii', 'isdecimal', \\n'isdigit', 'isidentifier', 'islower', 'isnumeric', 'isprintable', 'isspace', 'istitle', 'isupper', \\n'join', 'ljust', 'lower', 'lstrip', 'maketrans', 'partition', 'removeprefix', 'removesuffix', 'replace',\\n'rfind', 'rindex', 'rjust', 'rpartition', 'rsplit', 'rstrip', 'split', 'splitlines', 'startswith', 'strip',\\n'swapcase', 'title', 'translate', 'upper', 'zfill\""
      ]
     },
     "execution_count": 74,
     "metadata": {},
     "output_type": "execute_result"
    }
   ],
   "source": [
    "\"\"\" 'capitalize', 'casefold', 'center', 'count', 'encode', 'endswith', 'expandtabs',\n",
    "'find', 'format', 'format_map', 'index', 'isalnum', 'isalpha', 'isascii', 'isdecimal', \n",
    "'isdigit', 'isidentifier', 'islower', 'isnumeric', 'isprintable', 'isspace', 'istitle', 'isupper', \n",
    "'join', 'ljust', 'lower', 'lstrip', 'maketrans', 'partition', 'removeprefix', 'removesuffix', 'replace',\n",
    "'rfind', 'rindex', 'rjust', 'rpartition', 'rsplit', 'rstrip', 'split', 'splitlines', 'startswith', 'strip',\n",
    "'swapcase', 'title', 'translate', 'upper', 'zfill\"\"\"\n"
   ]
  },
  {
   "cell_type": "code",
   "execution_count": 86,
   "id": "a9eb3432",
   "metadata": {},
   "outputs": [
    {
     "name": "stdout",
     "output_type": "stream",
     "text": [
      "India is my country\n",
      "i love my country\n",
      "i love my country\n",
      "I LOVE MY COUNTRY\n",
      "****************************************india is my country*****************************************\n",
      "3\n",
      "2\n"
     ]
    }
   ],
   "source": [
    "str1=\"india is my country\"\n",
    "str2=\"I Love My country\"\n",
    "#Basic operations\n",
    "\n",
    "print(str1.capitalize()) #capitalize the first letter\n",
    "print(str2.casefold()) #similar to lower \n",
    "print(str2.lower()) #upper to lower\n",
    "print(str2.upper()) #lower to upper\n",
    "print(str1.center(100,'*'))\n",
    "print(str1.count('i'))\n",
    "print(str1.count('i',2,8))"
   ]
  },
  {
   "cell_type": "code",
   "execution_count": 107,
   "id": "9ae1e668",
   "metadata": {},
   "outputs": [
    {
     "name": "stdout",
     "output_type": "stream",
     "text": [
      "13\n",
      "-1\n",
      "13\n",
      "sakhi\n",
      "jakhi \n",
      "['s', 'khi ']\n",
      "['sakhi', '']\n",
      "['s', 'a', 'k', 'h', 'i', ' ']\n",
      "s_a_k_h_i_ \n"
     ]
    }
   ],
   "source": [
    "print(str1.find('o'))\n",
    "print(str1.find('o',15))#gives -1 if not present\n",
    "print(str1.index('o'))\n",
    "#print(str2.index('o',15)) #gives error if not present\n",
    "\n",
    "str2=\"sakhi \"\n",
    "print(str2.strip())#remove white space at both ends\n",
    "print(str2.replace('s','j'))\n",
    "print(str2.split('a'))\n",
    "print(str2.split(' '))\n",
    "print(list(str2))\n",
    "\n",
    "lst=list(str2)\n",
    "\n",
    "print(\"_\".join(lst))\n"
   ]
  },
  {
   "cell_type": "code",
   "execution_count": 148,
   "id": "6ea51ef3",
   "metadata": {},
   "outputs": [
    {
     "name": "stdout",
     "output_type": "stream",
     "text": [
      "True\n",
      "True\n",
      "True\n",
      "True\n",
      "True\n",
      "False\n",
      "True\n",
      "False\n",
      "11\n",
      "True\n",
      "di\n"
     ]
    }
   ],
   "source": [
    "s1='1bad9'\n",
    "s2='123'\n",
    "s3='abcd'\n",
    "s4='This Is India'\n",
    "\n",
    "print(s1.isalnum())\n",
    "print(s2.isdecimal())\n",
    "print(s2.isdigit())\n",
    "print(s3.isalpha())\n",
    "print(s4.istitle())\n",
    "print(s4.islower())\n",
    "print(' '.isspace())\n",
    "print(s3.startswith('q'))\n",
    "print(s4.rfind('i'))\n",
    "print(s4.endswith('i',10,12))\n",
    "print(s4[10:12])\n"
   ]
  },
  {
   "cell_type": "code",
   "execution_count": 117,
   "id": "c43aff2b",
   "metadata": {},
   "outputs": [
    {
     "name": "stdout",
     "output_type": "stream",
     "text": [
      "zbc987\n",
      "zbczbczbczbc\n",
      "False\n",
      "False\n",
      "True\n",
      "s\n",
      "ao np\n",
      "ans sona\n"
     ]
    }
   ],
   "source": [
    "# Basic string operations\n",
    "\n",
    "a=\"zbc\"\n",
    "b=\"987\"\n",
    "\n",
    "c=\"Thanos snap\"\n",
    "d=\"Thanos snap\"\n",
    "print(a+b)\n",
    "print(a*4)\n",
    "print(a is b)\n",
    "print(c is d)#gives false because it has space\n",
    "\n",
    "print('a' in ['a','b','c'])\n",
    "\n",
    "#indexing\n",
    "print(c[7])\n",
    "\n",
    "#slicing\n",
    "print(c[2:12:2])\n",
    "print(d[-2:-10:-1])"
   ]
  },
  {
   "cell_type": "code",
   "execution_count": null,
   "id": "e5cd39f7",
   "metadata": {},
   "outputs": [],
   "source": []
  }
 ],
 "metadata": {
  "kernelspec": {
   "display_name": "Python 3 (ipykernel)",
   "language": "python",
   "name": "python3"
  },
  "language_info": {
   "codemirror_mode": {
    "name": "ipython",
    "version": 3
   },
   "file_extension": ".py",
   "mimetype": "text/x-python",
   "name": "python",
   "nbconvert_exporter": "python",
   "pygments_lexer": "ipython3",
   "version": "3.9.7"
  }
 },
 "nbformat": 4,
 "nbformat_minor": 5
}
