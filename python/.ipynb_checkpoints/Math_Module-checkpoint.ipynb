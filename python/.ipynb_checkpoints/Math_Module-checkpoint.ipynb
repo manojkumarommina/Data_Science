{
 "cells": [
  {
   "cell_type": "code",
   "execution_count": 4,
   "id": "604580ea",
   "metadata": {},
   "outputs": [
    {
     "name": "stdout",
     "output_type": "stream",
     "text": [
      "ciel of the number 4.3 : 5\n",
      "floor of the number 4.3 : 4\n"
     ]
    }
   ],
   "source": [
    "import math\n",
    "\n",
    "num=4.3\n",
    "\n",
    "print(f\"ciel of the number {num} : {math.ceil(num)}\")\n",
    "\n",
    "print(f\"floor of the number {num} : {math.floor(num)}\" )"
   ]
  },
  {
   "cell_type": "code",
   "execution_count": 29,
   "id": "71473c3f",
   "metadata": {},
   "outputs": [
    {
     "name": "stdout",
     "output_type": "stream",
     "text": [
      "3.0\n",
      "1.0\n",
      "16.0\n",
      "2.4\n",
      "20\n",
      "10\n"
     ]
    },
    {
     "ename": "TypeError",
     "evalue": "'int' object is not iterable",
     "output_type": "error",
     "traceback": [
      "\u001b[0;31m---------------------------------------------------------------------------\u001b[0m",
      "\u001b[0;31mTypeError\u001b[0m                                 Traceback (most recent call last)",
      "\u001b[0;32m/var/folders/nx/rzfcs7mj2bj70r23j_mcmcqw0000gn/T/ipykernel_2205/2423936412.py\u001b[0m in \u001b[0;36m<module>\u001b[0;34m\u001b[0m\n\u001b[1;32m      7\u001b[0m \u001b[0mprint\u001b[0m\u001b[0;34m(\u001b[0m\u001b[0mmath\u001b[0m\u001b[0;34m.\u001b[0m\u001b[0mperm\u001b[0m\u001b[0;34m(\u001b[0m\u001b[0;36m5\u001b[0m\u001b[0;34m,\u001b[0m\u001b[0;36m2\u001b[0m\u001b[0;34m)\u001b[0m\u001b[0;34m)\u001b[0m \u001b[0;31m#permutations of selecting 2 items from 5 items\u001b[0m\u001b[0;34m\u001b[0m\u001b[0;34m\u001b[0m\u001b[0m\n\u001b[1;32m      8\u001b[0m \u001b[0mprint\u001b[0m\u001b[0;34m(\u001b[0m\u001b[0mmath\u001b[0m\u001b[0;34m.\u001b[0m\u001b[0mcomb\u001b[0m\u001b[0;34m(\u001b[0m\u001b[0;36m5\u001b[0m\u001b[0;34m,\u001b[0m\u001b[0;36m2\u001b[0m\u001b[0;34m)\u001b[0m\u001b[0;34m)\u001b[0m \u001b[0;31m#combinations of selecting 2 items from 5 items\u001b[0m\u001b[0;34m\u001b[0m\u001b[0;34m\u001b[0m\u001b[0m\n\u001b[0;32m----> 9\u001b[0;31m \u001b[0mprint\u001b[0m\u001b[0;34m(\u001b[0m\u001b[0mmath\u001b[0m\u001b[0;34m.\u001b[0m\u001b[0mdist\u001b[0m\u001b[0;34m(\u001b[0m\u001b[0;36m10\u001b[0m\u001b[0;34m,\u001b[0m\u001b[0;36m6\u001b[0m\u001b[0;34m)\u001b[0m\u001b[0;34m)\u001b[0m\u001b[0;34m\u001b[0m\u001b[0;34m\u001b[0m\u001b[0m\n\u001b[0m",
      "\u001b[0;31mTypeError\u001b[0m: 'int' object is not iterable"
     ]
    }
   ],
   "source": [
    "\n",
    "print(math.fmod(3,4)) #if x < Y prints x\n",
    "print(math.fmod(10,3))#if x > Y prints remainder\n",
    "\n",
    "print(math.pow(2,4))# prints value of 2 to the power of 4\n",
    "print(math.fabs(-2.4))#removes negative value\n",
    "\n",
    "print(math.perm(5,2)) #permutations of selecting 2 items from 5 items\n",
    "print(math.comb(5,2)) #combinations of selecting 2 items from 5 items"
   ]
  },
  {
   "cell_type": "code",
   "execution_count": 25,
   "id": "7a66a621",
   "metadata": {},
   "outputs": [
    {
     "name": "stdout",
     "output_type": "stream",
     "text": [
      "120\n",
      "8.06225774829855\n",
      "8\n",
      "7.38905609893065\n"
     ]
    }
   ],
   "source": [
    "print(math.factorial(5))#prints factorial\n",
    "print(math.sqrt(65)) #prints square root of value\n",
    "print(math.isqrt(65)) #prints value before decimal to the sqrt\n",
    "print(math.exp(2))#prints exponential value of 2"
   ]
  },
  {
   "cell_type": "code",
   "execution_count": 43,
   "id": "115abea0",
   "metadata": {},
   "outputs": [
    {
     "name": "stdout",
     "output_type": "stream",
     "text": [
      "15.0\n",
      "-540.0\n",
      "9.0\n"
     ]
    }
   ],
   "source": [
    "num_list=[1,5,6,-3,6.0]\n",
    "num_list1={1,5,6,-3,6.0}\n",
    "print(math.fsum(num_list))# prints the sum of all values in integers\n",
    "print(math.prod(num_list)) #prints the product of all values in the list\n",
    "print(math.fsum(num_list1))"
   ]
  },
  {
   "cell_type": "code",
   "execution_count": 57,
   "id": "93cb2a88",
   "metadata": {},
   "outputs": [
    {
     "name": "stdout",
     "output_type": "stream",
     "text": [
      "3\n",
      "2.302585092994046\n",
      "1.0\n",
      "-0.9880316240928618\n",
      "-0.5984600690578581\n",
      "1.6197751905438615\n"
     ]
    }
   ],
   "source": [
    "print(math.gcd(15,6))# prints the greatest common divisor of two values\n",
    "\n",
    "print(math.log(10))\n",
    "print(math.log10(10))\n",
    "\n",
    "print(math.sin(30))\n",
    "print(math.cos(180))\n",
    "print(math.tan(45))"
   ]
  },
  {
   "cell_type": "code",
   "execution_count": 59,
   "id": "5c0ee16d",
   "metadata": {},
   "outputs": [
    {
     "name": "stdout",
     "output_type": "stream",
     "text": [
      "3.141592653589793\n",
      "2.718281828459045\n"
     ]
    }
   ],
   "source": [
    "#Constants\n",
    "\n",
    "print(math.pi)\n",
    "print(math.e)"
   ]
  },
  {
   "cell_type": "code",
   "execution_count": null,
   "id": "34819aeb",
   "metadata": {},
   "outputs": [],
   "source": []
  }
 ],
 "metadata": {
  "kernelspec": {
   "display_name": "Python 3 (ipykernel)",
   "language": "python",
   "name": "python3"
  },
  "language_info": {
   "codemirror_mode": {
    "name": "ipython",
    "version": 3
   },
   "file_extension": ".py",
   "mimetype": "text/x-python",
   "name": "python",
   "nbconvert_exporter": "python",
   "pygments_lexer": "ipython3",
   "version": "3.9.7"
  }
 },
 "nbformat": 4,
 "nbformat_minor": 5
}
