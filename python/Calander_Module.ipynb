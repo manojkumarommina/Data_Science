{
 "cells": [
  {
   "cell_type": "code",
   "execution_count": 3,
   "id": "481f534b",
   "metadata": {},
   "outputs": [
    {
     "name": "stdout",
     "output_type": "stream",
     "text": [
      "Enter year2022\n",
      "False\n",
      "2\n"
     ]
    }
   ],
   "source": [
    "import calendar\n",
    "\n",
    "input_year=int(input(\"Enter year\"))\n",
    "\n",
    "print(calendar.isleap(input_year)) #to check leap year or not\n",
    "\n",
    "print(calendar.leapdays(2019,2025))#to check how many leap years in between given years"
   ]
  },
  {
   "cell_type": "code",
   "execution_count": 8,
   "id": "4a84d53f",
   "metadata": {},
   "outputs": [
    {
     "name": "stdout",
     "output_type": "stream",
     "text": [
      "     April 2022\n",
      "Mo Tu We Th Fr Sa Su\n",
      "             1  2  3\n",
      " 4  5  6  7  8  9 10\n",
      "11 12 13 14 15 16 17\n",
      "18 19 20 21 22 23 24\n",
      "25 26 27 28 29 30\n",
      "\n"
     ]
    }
   ],
   "source": [
    "print(calendar.calendar(2022)) #TO Check full year calendar\n",
    "print(calendar.month(2022,4))#to check month calendar"
   ]
  },
  {
   "cell_type": "code",
   "execution_count": 22,
   "id": "da899614",
   "metadata": {},
   "outputs": [
    {
     "name": "stdout",
     "output_type": "stream",
     "text": [
      "5\n",
      "Monday\n",
      "Tuesday\n",
      "Wednesday\n",
      "Thursday\n",
      "Friday\n",
      "Saturday\n",
      "Sunday\n",
      "\n",
      "January\n",
      "February\n",
      "March\n",
      "April\n",
      "May\n",
      "June\n",
      "July\n",
      "August\n",
      "September\n",
      "October\n",
      "November\n",
      "December\n",
      "\n",
      "        Returns a single week in a string (no newline).\n",
      "        \n"
     ]
    }
   ],
   "source": [
    "print(calendar.weekday(2022,4,30))\n",
    "for i in calendar.day_name:\n",
    "    print(i)\n",
    "for i in calendar.month_name:\n",
    "    print(i)\n",
    "print(calendar.week.__doc__)\n"
   ]
  },
  {
   "cell_type": "code",
   "execution_count": 6,
   "id": "62b4112a",
   "metadata": {},
   "outputs": [
    {
     "data": {
      "text/plain": [
       "'dmaod'"
      ]
     },
     "execution_count": 6,
     "metadata": {},
     "output_type": "execute_result"
    }
   ],
   "source": [
    "\"dmaOD\".casefold()"
   ]
  },
  {
   "cell_type": "code",
   "execution_count": null,
   "id": "dc5e9786",
   "metadata": {},
   "outputs": [],
   "source": []
  },
  {
   "cell_type": "code",
   "execution_count": null,
   "id": "6eec24ff",
   "metadata": {},
   "outputs": [],
   "source": []
  }
 ],
 "metadata": {
  "kernelspec": {
   "display_name": "Python 3 (ipykernel)",
   "language": "python",
   "name": "python3"
  },
  "language_info": {
   "codemirror_mode": {
    "name": "ipython",
    "version": 3
   },
   "file_extension": ".py",
   "mimetype": "text/x-python",
   "name": "python",
   "nbconvert_exporter": "python",
   "pygments_lexer": "ipython3",
   "version": "3.9.7"
  }
 },
 "nbformat": 4,
 "nbformat_minor": 5
}
