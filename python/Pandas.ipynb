{
 "cells": [
  {
   "cell_type": "code",
   "execution_count": 2,
   "id": "cf02823c",
   "metadata": {},
   "outputs": [
    {
     "name": "stdout",
     "output_type": "stream",
     "text": [
      "Collecting package metadata (current_repodata.json): done\n",
      "Solving environment: done\n",
      "\n",
      "## Package Plan ##\n",
      "\n",
      "  environment location: /Users/manu/opt/anaconda3\n",
      "\n",
      "  added / updated specs:\n",
      "    - pandas\n",
      "\n",
      "\n",
      "The following packages will be downloaded:\n",
      "\n",
      "    package                    |            build\n",
      "    ---------------------------|-----------------\n",
      "    conda-4.13.0               |   py39hecd8cb5_0         906 KB\n",
      "    ------------------------------------------------------------\n",
      "                                           Total:         906 KB\n",
      "\n",
      "The following packages will be UPDATED:\n",
      "\n",
      "  conda                               4.12.0-py39hecd8cb5_0 --> 4.13.0-py39hecd8cb5_0\n",
      "\n",
      "\n",
      "\n",
      "Downloading and Extracting Packages\n",
      "conda-4.13.0         | 906 KB    | ##################################### | 100% \n",
      "Preparing transaction: done\n",
      "Verifying transaction: done\n",
      "Executing transaction: done\n",
      "\n",
      "Note: you may need to restart the kernel to use updated packages.\n"
     ]
    }
   ],
   "source": [
    "conda install pandas"
   ]
  },
  {
   "cell_type": "code",
   "execution_count": 1,
   "id": "48788541",
   "metadata": {},
   "outputs": [],
   "source": [
    "import pandas as pd\n",
    "import numpy as np\n",
    "import sys"
   ]
  },
  {
   "cell_type": "markdown",
   "id": "c45886a2",
   "metadata": {},
   "source": [
    "# Pandas is famous for using data structure, it has two data structures\n",
    "###                     1.Series\n",
    "###                     2.Data Frame"
   ]
  },
  {
   "cell_type": "markdown",
   "id": "f59366b1",
   "metadata": {},
   "source": [
    "# Creating series"
   ]
  },
  {
   "cell_type": "code",
   "execution_count": 94,
   "id": "442fa77e",
   "metadata": {},
   "outputs": [
    {
     "name": "stdout",
     "output_type": "stream",
     "text": [
      "0    2\n",
      "1    3\n",
      "2    6\n",
      "3    7\n",
      "4    8\n",
      "5    9\n",
      "6    3\n",
      "dtype: int64 \n",
      "\n",
      "0   -1.313596\n",
      "1   -0.203622\n",
      "2    0.955797\n",
      "3    1.110344\n",
      "4   -0.462596\n",
      "dtype: float64 \n",
      "\n",
      "a    b\n",
      "x    z\n",
      "r    t\n",
      "p    o\n",
      "d    f\n",
      "dtype: object \n",
      "\n",
      "b    NaN\n",
      "a      b\n",
      "e    NaN\n",
      "c    NaN\n",
      "x      z\n",
      "d      f\n",
      "dtype: object \n",
      "\n",
      "a    2\n",
      "b    3\n",
      "c    6\n",
      "d    7\n",
      "e    8\n",
      "f    9\n",
      "g    3\n",
      "dtype: int64\n",
      "z\n"
     ]
    },
    {
     "data": {
      "text/plain": [
       "x    z\n",
       "r    t\n",
       "p    o\n",
       "dtype: object"
      ]
     },
     "execution_count": 94,
     "metadata": {},
     "output_type": "execute_result"
    }
   ],
   "source": [
    "# creating series with list\n",
    "\n",
    "list1=[2,3,6,7,8,9,3]\n",
    "sre1=pd.Series(list1)\n",
    "print(sre1,\"\\n\")\n",
    "\n",
    "# crearting series with array\n",
    "arr1=np.random.randn(5)\n",
    "sre2=pd.Series(arr1)\n",
    "print(sre2,\"\\n\")\n",
    "\n",
    "#Creating series with dictionary\n",
    "dict1={'a':\"b\",\"x\":\"z\",\"r\":\"t\",\"p\":\"o\",\"d\":\"f\"}\n",
    "sre3=pd.Series(dict1)\n",
    "print(sre3,\"\\n\")\n",
    "\n",
    "#special feature in dictionary\n",
    "sre4=pd.Series(dict1,index={'a','b','c','d','e','x'}) #if given indexes not thre in dict it takes value as Nan\n",
    "print(sre4,\"\\n\")\n",
    "\n",
    "#creating series with index and values\n",
    "list_for_index=['a','b','c','d','e','f','g']\n",
    "sre5=pd.Series(index=list_for_index,data=list1) #can give data as array\n",
    "print(sre5)\n"
   ]
  },
  {
   "cell_type": "markdown",
   "id": "3690babb",
   "metadata": {},
   "source": [
    "# Indexing and slicing with series"
   ]
  },
  {
   "cell_type": "code",
   "execution_count": 3,
   "id": "73e92b94",
   "metadata": {},
   "outputs": [
    {
     "name": "stdout",
     "output_type": "stream",
     "text": [
      "1001    0\n",
      "1002    1\n",
      "1003    2\n",
      "1004    3\n",
      "1005    4\n",
      "1006    5\n",
      "1007    6\n",
      "1008    7\n",
      "1009    8\n",
      "1010    9\n",
      "dtype: int64 \n",
      "\n",
      "1001      0\n",
      "1002      1\n",
      "1003      2\n",
      "1004      3\n",
      "1005      4\n",
      "1006      5\n",
      "1007      6\n",
      "1008     85\n",
      "1009      8\n",
      "1010      9\n",
      "10015    30\n",
      "dtype: int64 \n",
      "\n",
      "1006     5\n",
      "1007     6\n",
      "1008    85\n",
      "1009     8\n",
      "dtype: int64 \n",
      "\n",
      "Int64Index([1001, 1002, 1003, 1004, 1005, 1006, 1007, 1008, 1009, 1010, 10015], dtype='int64') \n",
      "\n",
      "[ 0  1  2  3  4  5  6 85  8  9 30] \n",
      "\n",
      "o \n",
      "\n",
      "z \n",
      "\n",
      "x    z\n",
      "r    t\n",
      "p    o\n",
      "dtype: object \n",
      "\n",
      "p    o\n",
      "d    f\n",
      "dtype: object\n"
     ]
    }
   ],
   "source": [
    "arr1=np.arange(10)\n",
    "list1=list(range(1001,1011))\n",
    "ser1=pd.Series(arr1,index=list1)\n",
    "print(ser1,\"\\n\")\n",
    "ser1[1006] # should give only index values\n",
    "ser1[10015]=30 #if index not there it will add to series with given values\n",
    "ser1[1008]=85  #it update the given value to that index\n",
    "print(ser1,\"\\n\")\n",
    "\n",
    "# slicing\n",
    "\n",
    "print(ser1[5:9],\"\\n\") #slicing cn works on defalut index\n",
    "\n",
    "# to get all index of series\n",
    "print(ser1.index,\"\\n\")\n",
    "\n",
    "# to get all values of series\n",
    "print(ser1.values,\"\\n\")\n",
    "\n",
    "#get values of series with given list of indexes\n",
    "index_serach_list=[10015,1003,1009] \n",
    "ser1[index_serach_list] #if index is not there it gives error\n",
    "\n",
    "#all posiibilities work for series creating with dict\n",
    "dict1={'a':\"b\",\"x\":\"z\",\"r\":\"t\",\"p\":\"o\",\"d\":\"f\"}\n",
    "sre3=pd.Series(dict1)\n",
    "print(sre3[3],\"\\n\")\n",
    "print(sre3['x'],\"\\n\")\n",
    "print(sre3['x':'p'],\"\\n\")\n",
    "print(sre3[3:7])"
   ]
  },
  {
   "cell_type": "markdown",
   "id": "c64ba9fe",
   "metadata": {},
   "source": [
    "# Creating a data frame"
   ]
  },
  {
   "cell_type": "code",
   "execution_count": 49,
   "id": "e0253c50",
   "metadata": {},
   "outputs": [
    {
     "name": "stdout",
     "output_type": "stream",
     "text": [
      "Empty DataFrame\n",
      "Columns: []\n",
      "Index: [] \n",
      "\n",
      "   Capital\n",
      "TG     Hyd\n",
      "AP     Amt\n",
      "KA     Blr\n",
      "TN     Chn\n",
      "MS     Mum \n",
      "\n",
      "  State Capital\n",
      "0    TG     Hyd\n",
      "1    AP     Amt\n",
      "2    KA     Blr\n",
      "3    TN     Chn\n",
      "4    MS     Mum \n",
      "\n",
      "    0    1\n",
      "0  TG  Hyd\n",
      "1  AP  Amt\n",
      "2  KA  Blr\n",
      "3  TN  Chn\n",
      "4  MS  Mum \n",
      "\n",
      "   0\n",
      "0  5\n",
      "1  6\n",
      "2  7\n",
      "3  8\n",
      "   year\n",
      "0  1991\n",
      "1  1992\n",
      "2  1997\n",
      "3  1994\n",
      "4  1995\n",
      "  State Capital Language\n",
      "0    AP     AMT   Telugu\n",
      "1    TN      CH    Tamil\n"
     ]
    }
   ],
   "source": [
    "# empty dataframe\n",
    "e_df=pd.DataFrame()\n",
    "print(e_df,\"\\n\")\n",
    "\n",
    "\n",
    "#Data frame with list\n",
    "capital=['Hyd','Amt','Blr','Chn','Mum']\n",
    "index_list=['TG','AP','KA','TN','MS']\n",
    "states_df=pd.DataFrame(capital,columns=['Capital'],index=index_list)\n",
    "print(states_df,\"\\n\")\n",
    "\n",
    "\n",
    "# Data frame with Dictionary\n",
    "#one way\n",
    "dict1={\"State\":index_list,\"Capital\":capital}\n",
    "\n",
    "states_dictdf=pd.DataFrame(data=dict1)\n",
    "print(states_dictdf,\"\\n\")\n",
    "\n",
    "#second way\n",
    "zipp=zip(index_list,capital)\n",
    "dict2=dict(zipp)\n",
    "states_dictdf2=pd.DataFrame(list(dict2.items()))\n",
    "print(states_dictdf2,\"\\n\")\n",
    "\n",
    "# Data frame with Nparray\n",
    "\n",
    "arr1=np.arange(5,9)\n",
    "np_df=pd.DataFrame(arr1)\n",
    "print(np_df)\n",
    "\n",
    "\n",
    "# Data frame with series\n",
    "ser1=pd.Series([1991,1992,1997,1994,1995])\n",
    "ser_df=pd.DataFrame(ser1,columns=['year'])\n",
    "print(ser_df)\n",
    "\n",
    "# Data frame with tuples\n",
    "tupl1=('AP','AMT','Telugu')\n",
    "tup2=('TN','CH','Tamil')\n",
    "list2=[tupl1,tup2]\n",
    "\n",
    "ser6=pd.DataFrame(list2,columns=['State','Capital','Language'])\n",
    "print(ser6)"
   ]
  },
  {
   "cell_type": "markdown",
   "id": "54fe1ef3",
   "metadata": {},
   "source": [
    "# To read CSV File"
   ]
  },
  {
   "cell_type": "code",
   "execution_count": 61,
   "id": "f2bc409a",
   "metadata": {},
   "outputs": [
    {
     "name": "stdout",
     "output_type": "stream",
     "text": [
      "(244, 7) \n",
      "\n",
      "   total_bill   tip     sex smoker  day    time  size\n",
      "0       16.99  1.01  Female     No  Sun  Dinner     2\n",
      "1       10.34  1.66    Male     No  Sun  Dinner     3\n",
      "2       21.01  3.50    Male     No  Sun  Dinner     3\n",
      "3       23.68  3.31    Male     No  Sun  Dinner     2\n",
      "4       24.59  3.61  Female     No  Sun  Dinner     4 \n",
      "\n",
      "   total_bill   tip     sex smoker  day    time  size\n",
      "0       16.99  1.01  Female     No  Sun  Dinner     2\n",
      "1       10.34  1.66    Male     No  Sun  Dinner     3\n",
      "2       21.01  3.50    Male     No  Sun  Dinner     3\n",
      "3       23.68  3.31    Male     No  Sun  Dinner     2\n",
      "4       24.59  3.61  Female     No  Sun  Dinner     4\n",
      "5       25.29  4.71    Male     No  Sun  Dinner     4\n",
      "6        8.77  2.00    Male     No  Sun  Dinner     2\n",
      "7       26.88  3.12    Male     No  Sun  Dinner     4\n",
      "8       15.04  1.96    Male     No  Sun  Dinner     2 \n",
      "\n",
      "     total_bill   tip     sex smoker   day    time  size\n",
      "239       29.03  5.92    Male     No   Sat  Dinner     3\n",
      "240       27.18  2.00  Female    Yes   Sat  Dinner     2\n",
      "241       22.67  2.00    Male    Yes   Sat  Dinner     2\n",
      "242       17.82  1.75    Male     No   Sat  Dinner     2\n",
      "243       18.78  3.00  Female     No  Thur  Dinner     2 \n",
      "\n",
      "     total_bill   tip     sex smoker   day    time  size\n",
      "240       27.18  2.00  Female    Yes   Sat  Dinner     2\n",
      "241       22.67  2.00    Male    Yes   Sat  Dinner     2\n",
      "242       17.82  1.75    Male     No   Sat  Dinner     2\n",
      "243       18.78  3.00  Female     No  Thur  Dinner     2 \n",
      "\n"
     ]
    }
   ],
   "source": [
    "tips_df=pd.read_csv(\"/Users/manu/Manu_Workspace/tips.csv\")\n",
    "print(tips_df.shape,\"\\n\") #returns no of rows and columns\n",
    "print(tips_df.head(),\"\\n\")# returns first five rows from top\n",
    "print(tips_df.head(9),\"\\n\")# returns given no of rows from top\n",
    "print(tips_df.tail(),\"\\n\") # returns last five rows from bottom\n",
    "print(tips_df.tail(4),\"\\n\") # returns given no of rows from bottom"
   ]
  },
  {
   "cell_type": "markdown",
   "id": "7cb6c60f",
   "metadata": {},
   "source": [
    "# Slicing and Indexing"
   ]
  },
  {
   "cell_type": "code",
   "execution_count": 44,
   "id": "9c78ac03",
   "metadata": {},
   "outputs": [
    {
     "name": "stdout",
     "output_type": "stream",
     "text": [
      "total_bill     23.68\n",
      "tip             3.31\n",
      "sex             Male\n",
      "smoker            No\n",
      "day              Sun\n",
      "time          Dinner\n",
      "size               2\n",
      "Name: 3, dtype: object \n",
      "\n",
      "total_bill     23.68\n",
      "tip             3.31\n",
      "sex             Male\n",
      "smoker            No\n",
      "day              Sun\n",
      "time          Dinner\n",
      "size               2\n",
      "Name: 3, dtype: object \n",
      "\n",
      "tip         3.31\n",
      "sex         Male\n",
      "smoker        No\n",
      "day          Sun\n",
      "time      Dinner\n",
      "size           2\n",
      "Name: 23.68, dtype: object \n",
      "\n",
      "            tip   sex smoker  day    time  size\n",
      "total_bill                                     \n",
      "21.01       3.5  Male     No  Sun  Dinner     3\n",
      "21.01       3.0  Male    Yes  Fri  Dinner     2 \n",
      "\n"
     ]
    },
    {
     "data": {
      "text/plain": [
       "'Dinner'"
      ]
     },
     "execution_count": 44,
     "metadata": {},
     "output_type": "execute_result"
    }
   ],
   "source": [
    "tips_df=pd.read_csv(\"/Users/manu/Manu_Workspace/tips.csv\")\n",
    "\n",
    "#indexing\n",
    "print(tips_df.iloc[3],\"\\n\")\n",
    "print(tips_df.loc[3],\"\\n\") #if index_col not given in read_csv both iloc and loc works with default index\n",
    "\n",
    "tips_df=pd.read_csv(\"/Users/manu/Manu_Workspace/tips.csv\",index_col='total_bill')\n",
    "#indexing\n",
    "print(tips_df.iloc[3],\"\\n\")\n",
    "print(tips_df.loc[21.01],\"\\n\")#if index_col is given in read_csv both loc works with only given index\n",
    "\n",
    "\n",
    "# slicing\n",
    "tips_df=pd.read_csv(\"/Users/manu/Manu_Workspace/tips.csv\")\n",
    "tips_df[3:8] #works with only defalut index if index_col specied and not an integer gives error\n",
    "\n",
    "tips_df.iloc[3][5] #[row_value][column_value]"
   ]
  },
  {
   "cell_type": "markdown",
   "id": "563497ad",
   "metadata": {},
   "source": [
    "# Column names"
   ]
  },
  {
   "cell_type": "code",
   "execution_count": 42,
   "id": "767450fa",
   "metadata": {},
   "outputs": [
    {
     "data": {
      "text/plain": [
       "Index(['total_bill', 'tip', 'sex', 'smoker', 'day', 'time', 'size'], dtype='object')"
      ]
     },
     "execution_count": 42,
     "metadata": {},
     "output_type": "execute_result"
    }
   ],
   "source": [
    "tips_df.columns"
   ]
  },
  {
   "cell_type": "markdown",
   "id": "fb01fcfd",
   "metadata": {},
   "source": [
    "# print settings"
   ]
  },
  {
   "cell_type": "code",
   "execution_count": 43,
   "id": "8ca4bb54",
   "metadata": {},
   "outputs": [],
   "source": [
    "#pd.set_option('display.max_rows',None)\n",
    "# or\n",
    "#print(tips_df.to_markdown()) "
   ]
  },
  {
   "cell_type": "markdown",
   "id": "a8472da3",
   "metadata": {},
   "source": [
    "# Show particular column value of dataframe\n"
   ]
  },
  {
   "cell_type": "code",
   "execution_count": 41,
   "id": "ebbcbb4f",
   "metadata": {},
   "outputs": [
    {
     "data": {
      "text/plain": [
       "0      16.99\n",
       "1      10.34\n",
       "2      21.01\n",
       "3      23.68\n",
       "4      24.59\n",
       "       ...  \n",
       "239    29.03\n",
       "240    27.18\n",
       "241    22.67\n",
       "242    17.82\n",
       "243    18.78\n",
       "Name: total_bill, Length: 244, dtype: float64"
      ]
     },
     "execution_count": 41,
     "metadata": {},
     "output_type": "execute_result"
    }
   ],
   "source": [
    "tips_df[\"total_bill\"]"
   ]
  },
  {
   "cell_type": "code",
   "execution_count": 16,
   "id": "9f51bf29",
   "metadata": {},
   "outputs": [
    {
     "name": "stdout",
     "output_type": "stream",
     "text": [
      "50.81\n",
      "50.81 \n",
      "\n",
      "3.07\n",
      "3.07\n"
     ]
    },
    {
     "data": {
      "text/html": [
       "<div>\n",
       "<style scoped>\n",
       "    .dataframe tbody tr th:only-of-type {\n",
       "        vertical-align: middle;\n",
       "    }\n",
       "\n",
       "    .dataframe tbody tr th {\n",
       "        vertical-align: top;\n",
       "    }\n",
       "\n",
       "    .dataframe thead th {\n",
       "        text-align: right;\n",
       "    }\n",
       "</style>\n",
       "<table border=\"1\" class=\"dataframe\">\n",
       "  <thead>\n",
       "    <tr style=\"text-align: right;\">\n",
       "      <th></th>\n",
       "      <th>total_bill</th>\n",
       "      <th>tip</th>\n",
       "      <th>size</th>\n",
       "    </tr>\n",
       "  </thead>\n",
       "  <tbody>\n",
       "    <tr>\n",
       "      <th>count</th>\n",
       "      <td>244.000000</td>\n",
       "      <td>244.000000</td>\n",
       "      <td>244.000000</td>\n",
       "    </tr>\n",
       "    <tr>\n",
       "      <th>mean</th>\n",
       "      <td>19.785943</td>\n",
       "      <td>2.998279</td>\n",
       "      <td>2.569672</td>\n",
       "    </tr>\n",
       "    <tr>\n",
       "      <th>std</th>\n",
       "      <td>8.902412</td>\n",
       "      <td>1.383638</td>\n",
       "      <td>0.951100</td>\n",
       "    </tr>\n",
       "    <tr>\n",
       "      <th>min</th>\n",
       "      <td>3.070000</td>\n",
       "      <td>1.000000</td>\n",
       "      <td>1.000000</td>\n",
       "    </tr>\n",
       "    <tr>\n",
       "      <th>25%</th>\n",
       "      <td>13.347500</td>\n",
       "      <td>2.000000</td>\n",
       "      <td>2.000000</td>\n",
       "    </tr>\n",
       "    <tr>\n",
       "      <th>50%</th>\n",
       "      <td>17.795000</td>\n",
       "      <td>2.900000</td>\n",
       "      <td>2.000000</td>\n",
       "    </tr>\n",
       "    <tr>\n",
       "      <th>75%</th>\n",
       "      <td>24.127500</td>\n",
       "      <td>3.562500</td>\n",
       "      <td>3.000000</td>\n",
       "    </tr>\n",
       "    <tr>\n",
       "      <th>max</th>\n",
       "      <td>50.810000</td>\n",
       "      <td>10.000000</td>\n",
       "      <td>6.000000</td>\n",
       "    </tr>\n",
       "  </tbody>\n",
       "</table>\n",
       "</div>"
      ],
      "text/plain": [
       "       total_bill         tip        size\n",
       "count  244.000000  244.000000  244.000000\n",
       "mean    19.785943    2.998279    2.569672\n",
       "std      8.902412    1.383638    0.951100\n",
       "min      3.070000    1.000000    1.000000\n",
       "25%     13.347500    2.000000    2.000000\n",
       "50%     17.795000    2.900000    2.000000\n",
       "75%     24.127500    3.562500    3.000000\n",
       "max     50.810000   10.000000    6.000000"
      ]
     },
     "execution_count": 16,
     "metadata": {},
     "output_type": "execute_result"
    }
   ],
   "source": [
    "#Max value in column\n",
    "print(max(tips_df[\"total_bill\"])) #or\n",
    "print(tips_df[\"total_bill\"].max(),\"\\n\")\n",
    "\n",
    "#Min value in column\n",
    "print(min(tips_df[\"total_bill\"])) #or\n",
    "print(tips_df[\"total_bill\"].min())\n",
    "\n",
    "#describe the data frame\n",
    "tips_df.describe()"
   ]
  },
  {
   "cell_type": "markdown",
   "id": "6de8062f",
   "metadata": {},
   "source": [
    "# To sort values"
   ]
  },
  {
   "cell_type": "code",
   "execution_count": 30,
   "id": "0e98c763",
   "metadata": {},
   "outputs": [
    {
     "name": "stdout",
     "output_type": "stream",
     "text": [
      "     total_bill    tip     sex smoker   day    time  size\n",
      "67         3.07   1.00  Female    Yes   Sat  Dinner     1\n",
      "92         5.75   1.00  Female    Yes   Fri  Dinner     2\n",
      "111        7.25   1.00  Female     No   Sat  Dinner     1\n",
      "172        7.25   5.15    Male    Yes   Sun  Dinner     2\n",
      "149        7.51   2.00    Male     No  Thur   Lunch     2\n",
      "..          ...    ...     ...    ...   ...     ...   ...\n",
      "182       45.35   3.50    Male    Yes   Sun  Dinner     3\n",
      "156       48.17   5.00    Male     No   Sun  Dinner     6\n",
      "59        48.27   6.73    Male     No   Sat  Dinner     4\n",
      "212       48.33   9.00    Male     No   Sat  Dinner     4\n",
      "170       50.81  10.00    Male    Yes   Sat  Dinner     3\n",
      "\n",
      "[244 rows x 7 columns] \n",
      "\n",
      "     total_bill    tip     sex smoker   day    time  size\n",
      "67         3.07   1.00  Female    Yes   Sat  Dinner     1\n",
      "92         5.75   1.00  Female    Yes   Fri  Dinner     2\n",
      "111        7.25   1.00  Female     No   Sat  Dinner     1\n",
      "172        7.25   5.15    Male    Yes   Sun  Dinner     2\n",
      "149        7.51   2.00    Male     No  Thur   Lunch     2\n",
      "..          ...    ...     ...    ...   ...     ...   ...\n",
      "182       45.35   3.50    Male    Yes   Sun  Dinner     3\n",
      "156       48.17   5.00    Male     No   Sun  Dinner     6\n",
      "59        48.27   6.73    Male     No   Sat  Dinner     4\n",
      "212       48.33   9.00    Male     No   Sat  Dinner     4\n",
      "170       50.81  10.00    Male    Yes   Sat  Dinner     3\n",
      "\n",
      "[244 rows x 7 columns]\n"
     ]
    }
   ],
   "source": [
    "print(tips_df.sort_values('total_bill'),\"\\n\" ) #single column\n",
    "print(tips_df.sort_values(['total_bill','tip'])) #multiple columns\n"
   ]
  },
  {
   "cell_type": "markdown",
   "id": "8ffcec56",
   "metadata": {},
   "source": [
    "# To read excel file"
   ]
  },
  {
   "cell_type": "code",
   "execution_count": 40,
   "id": "affdb445",
   "metadata": {},
   "outputs": [],
   "source": [
    "#tips_xl=pd.read_excel(\"filepath\",sheet_name='sheet1')"
   ]
  },
  {
   "cell_type": "code",
   "execution_count": null,
   "id": "e7fc3407",
   "metadata": {},
   "outputs": [],
   "source": []
  }
 ],
 "metadata": {
  "kernelspec": {
   "display_name": "Python 3 (ipykernel)",
   "language": "python",
   "name": "python3"
  },
  "language_info": {
   "codemirror_mode": {
    "name": "ipython",
    "version": 3
   },
   "file_extension": ".py",
   "mimetype": "text/x-python",
   "name": "python",
   "nbconvert_exporter": "python",
   "pygments_lexer": "ipython3",
   "version": "3.9.7"
  }
 },
 "nbformat": 4,
 "nbformat_minor": 5
}
