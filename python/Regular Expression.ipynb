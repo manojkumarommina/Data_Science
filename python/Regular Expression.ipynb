{
 "cells": [
  {
   "cell_type": "code",
   "execution_count": 40,
   "id": "dd36d4ff",
   "metadata": {},
   "outputs": [
    {
     "name": "stdout",
     "output_type": "stream",
     "text": [
      "+91-9876543210\n",
      "None\n"
     ]
    }
   ],
   "source": [
    "import re\n",
    "\n",
    "\n",
    "reg=r\"\\W\\d{2}-\\d{10}\"\n",
    "\n",
    "string=\"+91-9876543210\"\n",
    "string2=\"+9-9876543210\"\n",
    "print(re.match(reg,string).group())\n",
    "print(re.match(reg,string2))"
   ]
  },
  {
   "cell_type": "code",
   "execution_count": 74,
   "id": "32651c0d",
   "metadata": {},
   "outputs": [
    {
     "name": "stdout",
     "output_type": "stream",
     "text": [
      "find:  ['Name', 'kris', 'mano', 'from', 'andh', 'prad', 'pinc', '5000']\n",
      "sub:  My Ram is Ramhna Ramhar Ram Ramra Ramesh Ramode:Ram02\n",
      "search: Name\n",
      "match :  None\n",
      "split:  ['My ', ' is ', 'hna ', 'har ', ' ', 'ra ', 'esh ', 'ode:', '02']\n"
     ]
    }
   ],
   "source": [
    "string = \"My Name is krishna manohar from andhra pradesh pincode:500002\"\n",
    "\n",
    "reg=r\"\\w{4}\"\n",
    "\n",
    "print(\"find: \",re.findall(reg,string))  #returns list\n",
    "print(\"sub: \",re.sub(reg,\"Ram\",string)) #returns string with given substring\n",
    "print(\"search:\" ,re.search(reg,string).group()) #return string by search entire string if not found gives error with group\n",
    "print(\"match : \",re.match(reg,string))#return string by match with starting if not found gives error with group and none with out group\n",
    "print(\"split: \",re.split(reg,string))#returns list by spliting given regex"
   ]
  },
  {
   "cell_type": "code",
   "execution_count": 190,
   "id": "a7f44e50",
   "metadata": {},
   "outputs": [
    {
     "name": "stdout",
     "output_type": "stream",
     "text": [
      "['p', 'P', 'P', 'P', 'p']\n",
      "['Pp', 'pP', 'pP', 'P', 'p']\n"
     ]
    }
   ],
   "source": [
    "string=\"Ppalm pPipPerPERRp\"\n",
    "reg=r'(p|P)+'\n",
    "reg1=r'[p|P]+'\n",
    "print(re.findall(reg,string))\n",
    "print(re.findall(reg1,string))"
   ]
  },
  {
   "cell_type": "code",
   "execution_count": 158,
   "id": "c06efb54",
   "metadata": {},
   "outputs": [
    {
     "name": "stdout",
     "output_type": "stream",
     "text": [
      "<re.Match object; span=(6, 7), match='*'>\n",
      "<re.Match object; span=(2, 3), match='K'>\n",
      "<re.Match object; span=(0, 2), match='ri'>\n",
      "<re.Match object; span=(5, 6), match='2'>\n",
      "<re.Match object; span=(0, 8), match='riKwN2*3'>\n"
     ]
    }
   ],
   "source": [
    "password=\"riKwN2*3\"\n",
    "\n",
    "\n",
    "reg=r\"[!@$%^&*()_+=#?><.,:;]+\"\n",
    "reg2=r'[A-Z]+'\n",
    "reg3=r'[a-z]+'\n",
    "reg4=r'\\d+'\n",
    "reg5=r'.{8}'  #match any character except new line\n",
    "print(re.search(reg,password))\n",
    "print(re.search(reg2,password))\n",
    "print(re.search(reg3,password))\n",
    "print(re.search(reg4,password))\n",
    "print(re.search(reg5,password))\n"
   ]
  },
  {
   "cell_type": "code",
   "execution_count": null,
   "id": "e968b892",
   "metadata": {},
   "outputs": [],
   "source": []
  }
 ],
 "metadata": {
  "kernelspec": {
   "display_name": "Python 3 (ipykernel)",
   "language": "python",
   "name": "python3"
  },
  "language_info": {
   "codemirror_mode": {
    "name": "ipython",
    "version": 3
   },
   "file_extension": ".py",
   "mimetype": "text/x-python",
   "name": "python",
   "nbconvert_exporter": "python",
   "pygments_lexer": "ipython3",
   "version": "3.9.7"
  }
 },
 "nbformat": 4,
 "nbformat_minor": 5
}
