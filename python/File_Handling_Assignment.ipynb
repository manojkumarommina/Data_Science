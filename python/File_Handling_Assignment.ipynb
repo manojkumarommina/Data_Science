{
 "cells": [
  {
   "cell_type": "code",
   "execution_count": 11,
   "metadata": {},
   "outputs": [
    {
     "name": "stdout",
     "output_type": "stream",
     "text": [
      "Between nursery rhymes, storybooks (especially Dr. Seuss), and singalongs, children are surrounded by poetry every single day without even realizing. Besides just bringing joy to your kids, poetry can aid in your child’s cognitive development by helping them understand patterns, enriching their vocabulary, and helping them remember information\n"
     ]
    }
   ],
   "source": [
    "# Write a function in python to read the content from \n",
    "# a text file \"poem.txt\" line by line and display the same on screen. \n",
    "def workspace():\n",
    "    file=open(\"poem.txt\",'r')\n",
    "    print(file.read())\n",
    "    file.close()\n",
    "\n",
    "def main():\n",
    "    workspace()\n",
    "\n",
    "if __name__=='__main__':\n",
    "    main()\n"
   ]
  },
  {
   "cell_type": "code",
   "execution_count": 18,
   "metadata": {},
   "outputs": [
    {
     "name": "stdout",
     "output_type": "stream",
     "text": [
      "file is closed :True\n",
      "count :3\n"
     ]
    }
   ],
   "source": [
    "# Write a function in python to count the number of lines \n",
    "# from a text file \"story.txt\" which is not starting with an alphabet \"T\". \n",
    "\n",
    "# Example: If the file \"story.txt\" contains the following lines: A boy is playing there.\n",
    "# There is a playground.\n",
    "# An aeroplane is in the sky.\n",
    "# The sky is pink.\n",
    "# Alphabets and numbers are allowed in the password.\n",
    "# The function should display the output as 3\n",
    "\n",
    "\n",
    "def workspace():\n",
    "    count=0\n",
    "    file=open('story.txt','r')\n",
    "    linelist=file.readlines()\n",
    "    for i in linelist:\n",
    "        if not i.startswith('T'):\n",
    "            count+=1\n",
    "    file.close()\n",
    "    print(f\"file is closed :{file.closed}\")\n",
    "    return count\n",
    "\n",
    "def main():\n",
    "    print(f\"count :{workspace()}\")\n",
    "\n",
    "if __name__=='__main__':\n",
    "    main()\n",
    "            \n",
    "            \n",
    "    "
   ]
  },
  {
   "cell_type": "code",
   "execution_count": 26,
   "metadata": {},
   "outputs": [
    {
     "name": "stdout",
     "output_type": "stream",
     "text": [
      "no of words: 48\n"
     ]
    }
   ],
   "source": [
    "# Write a function in Python to count and display the total number of words in a text file.\n",
    "def workspace():\n",
    "    with open('poem.txt','r') as file:\n",
    "        data=file.read()\n",
    "        count=len(data.split())\n",
    "        return count\n",
    "\n",
    "def main():\n",
    "    print(f\"no of words: {workspace()}\")\n",
    "    \n",
    "if __name__=='__main__':\n",
    "    main()"
   ]
  },
  {
   "cell_type": "code",
   "execution_count": 31,
   "metadata": {},
   "outputs": [
    {
     "name": "stdout",
     "output_type": "stream",
     "text": [
      "occurence of 'the': 4\n"
     ]
    }
   ],
   "source": [
    "# Write a function in Python to read lines from a text file \"notes.txt\". \n",
    "# Your function should find and display the occurrence of the word \"the\".\n",
    "\n",
    "# For example: If the content of the file is:\n",
    "# \"India is the fastest-growing economy. India is looking for more investments around the globe. The whole world is looking at India as a great market. Most of the Indians can foresee the heights that India is capable of reaching.\"\n",
    "\n",
    "# The output should be 5.\n",
    "\n",
    "def workspace():\n",
    "    with open('notes.txt','r') as file:\n",
    "        wordlist=file.read().split()\n",
    "        count=wordlist.count('the')\n",
    "    return count\n",
    "\n",
    "def main():\n",
    "    print(f\"occurence of 'the': {workspace()}\")\n",
    "    \n",
    "if __name__=='__main__':\n",
    "    main()"
   ]
  },
  {
   "cell_type": "code",
   "execution_count": 35,
   "metadata": {},
   "outputs": [
    {
     "name": "stdout",
     "output_type": "stream",
     "text": [
      "words less than 4 char :['A', 'boy', 'is', 'is', 'a', 'An', 'is', 'in', 'the', 'The', 'sky', 'is', 'and', 'are', 'in', 'the']\n"
     ]
    }
   ],
   "source": [
    "# Write a function display_words() in python to read lines from a text file \"story.txt\", \n",
    "# and display those words, which are less than 4 characters.\n",
    "\n",
    "def display_words():\n",
    "    with open('story.txt','r') as file:\n",
    "        wordslist=file.read().split()\n",
    "        output_list=[i for i in wordslist if len(i)<4]\n",
    "    return output_list\n",
    "\n",
    "def main():\n",
    "    print(f\"words less than 4 char :{display_words()}\")\n",
    "    \n",
    "if __name__=='__main__':\n",
    "    main()"
   ]
  },
  {
   "cell_type": "code",
   "execution_count": 45,
   "metadata": {},
   "outputs": [
    {
     "name": "stdout",
     "output_type": "stream",
     "text": [
      "the words 'this' : 2 and 'these': 7\n"
     ]
    }
   ],
   "source": [
    "# Write a function in Python to count the words \"this\" and \"these\" present in a text file \"article.txt\". \n",
    "# [Note that the words \"this\" and \"these\" are complete words] \n",
    "\n",
    "def workspace():\n",
    "    with open('article.txt','r') as file:\n",
    "        wordslist=file.read().split()\n",
    "        count_this=wordslist.count('this')\n",
    "        count_that=wordslist.count('that')\n",
    "    return f\"the words 'this' : {count_this} and 'these': {count_that}\"\n",
    "\n",
    "def main():\n",
    "    print(workspace())\n",
    "\n",
    "if __name__=='__main__':\n",
    "    main()"
   ]
  },
  {
   "cell_type": "code",
   "execution_count": 49,
   "metadata": {},
   "outputs": [
    {
     "name": "stdout",
     "output_type": "stream",
     "text": [
      "228\n"
     ]
    }
   ],
   "source": [
    "# Write a function in Python to count words in a text file those are ending with alphabet \"e\"\n",
    "\n",
    "def workspace():\n",
    "    file=open('article.txt','r')\n",
    "    wordlist=file.read().split()\n",
    "    count=0\n",
    "    for i in wordlist:\n",
    "        if i.endswith('e'):\n",
    "            count+=1\n",
    "    file.close()\n",
    "    return count\n",
    "\n",
    "def main():\n",
    "    print(workspace())\n",
    "\n",
    "if __name__=='__main__':\n",
    "    main()"
   ]
  },
  {
   "cell_type": "code",
   "execution_count": 55,
   "metadata": {},
   "outputs": [
    {
     "name": "stdout",
     "output_type": "stream",
     "text": [
      "5\n"
     ]
    }
   ],
   "source": [
    "# Write a function in Python to count uppercase character in a text file.\n",
    "\n",
    "def workspace():\n",
    "    with open('story.txt','r') as file:\n",
    "        wordlist=list(file.read())\n",
    "        count=0\n",
    "        for i in wordlist:\n",
    "            if i.isupper():\n",
    "                count+=1\n",
    "        \n",
    "    return count\n",
    "\n",
    "def main():\n",
    "    print(workspace())\n",
    "\n",
    "if __name__=='__main__':\n",
    "    main()"
   ]
  },
  {
   "cell_type": "code",
   "execution_count": 64,
   "metadata": {},
   "outputs": [
    {
     "name": "stdout",
     "output_type": "stream",
     "text": [
      "T#H#E# #W#O#R#L#D# #I#S# #R#O#U#N#D\n"
     ]
    }
   ],
   "source": [
    "# A text file named \"matter.txt\" contains some text, which needs to be displayed such that \n",
    "# every next character is separated by a symbol \"#\". \n",
    "# Write a function definition for hash_display() in Python that would display \n",
    "# the entire content of the file matter.txt in the desired format.\n",
    "\n",
    "# Example :\n",
    "# If the file matter.txt has the following content stored in it :\n",
    "# THE WORLD IS ROUND\n",
    "\n",
    "# The function hash_display() should display the following content :\n",
    "# T#H#E# #W#O#R#L#D# #I#S# #R#O#U#N#D#\n",
    "\n",
    "\n",
    "def hash_display():\n",
    "    file=open('matter.txt','r')\n",
    "    charlist=list(file.read())\n",
    "    file.close()\n",
    "    return \"#\".join(charlist)\n",
    "\n",
    "def main():\n",
    "    print(hash_display())\n",
    "    \n",
    "if __name__=='__main__':\n",
    "    main()"
   ]
  },
  {
   "cell_type": "code",
   "execution_count": 77,
   "metadata": {},
   "outputs": [
    {
     "name": "stdout",
     "output_type": "stream",
     "text": [
      "142\n",
      "0\n",
      "WELL, THIS IS A WORD BY ITSELF. YOU COULD STRETCH THIS TO BE A SENTENCEWELL, THIS IS A WORD BY ITSELF. YOU COULD STRETCH THIS TO BE A SENTENCE\n"
     ]
    }
   ],
   "source": [
    "# Aditi has used a text editing software to type some text. After saving the article as WORDS.TXT, \n",
    "# she realised that she has wrongly typed alphabet J in place of alphabet I everywhere in the article.\n",
    "# Write a function definition for JTOI() in Python that would display the corrected version of entire content \n",
    "# of the file WORDS.TXT with all the alphabets \"J\" to be displayed as an alphabet \"I\" on screen.\n",
    "\n",
    "# Note: Assuming that WORD.TXT does not contain any J alphabet otherwise.\n",
    "\n",
    "# Example:\n",
    "# If Aditi has stored the following content in the file WORDS.TXT:\n",
    "# WELL, THJS JS A WORD BY JTSELF. YOU COULD STRETCH THJS TO BE A SENTENCE\n",
    "# The function JTOI() should display the following content:\n",
    "# WELL, THIS IS A WORD BY ITSELF. YOU COULD STRETCH THIS TO BE A SENTENCE\n",
    "\n",
    "\n",
    "def JTOI():\n",
    "    with open('words.txt','r+') as file:\n",
    "        sentance=file.read()\n",
    "        print(file.tell())\n",
    "        file.seek(0)\n",
    "        print(file.tell())\n",
    "        new_sent=sentance.replace('J','I')\n",
    "        file.write(new_sent)\n",
    "        file.seek(0)\n",
    "        output=file.read()      \n",
    "            \n",
    "    return output\n",
    "\n",
    "def main():\n",
    "    print(JTOI())\n",
    "\n",
    "if __name__=='__main__':\n",
    "    main()"
   ]
  },
  {
   "cell_type": "code",
   "execution_count": 83,
   "metadata": {},
   "outputs": [
    {
     "name": "stdout",
     "output_type": "stream",
     "text": [
      "A or a: 13\n",
      "M or m: 2\n"
     ]
    }
   ],
   "source": [
    "# Write a function AMCount() in Python, which should read each character of a text file STORY.TXT, \n",
    "# should count and display the occurance of alphabets A and M (including small cases a and m too).\n",
    "# For Example:\n",
    "# If the file content is as follows:\n",
    "# Updated information\n",
    "# As simplified by official websites.\n",
    "# The EUCount() function should display the output as:\n",
    "# A or a:4\n",
    "# M or m :2\n",
    "\n",
    "\n",
    "def AMCount():\n",
    "    file=open('story.txt','r')\n",
    "    a_count=0\n",
    "    m_count=0\n",
    "    for i in file.read():\n",
    "        if i.lower()=='a':\n",
    "            a_count+=1\n",
    "        elif i.lower()=='m':\n",
    "            m_count+=1\n",
    "    return a_count,m_count\n",
    "\n",
    "def main():\n",
    "    print(f\"A or a: {AMCount()[0]}\\nM or m: {AMCount()[-1]}\")\n",
    "    \n",
    "if __name__=='__main__':\n",
    "    main()"
   ]
  },
  {
   "cell_type": "code",
   "execution_count": 151,
   "metadata": {},
   "outputs": [
    {
     "name": "stdout",
     "output_type": "stream",
     "text": [
      "File is created\n",
      "1\n"
     ]
    }
   ],
   "source": [
    "# A binary file \"Book.dat\" has structure [BookNo, Book_Name, Author, Price].\n",
    "# i. Write a user defined function createFile() to input data for a record and add to Book.dat.\n",
    "# ii. Write a function countRec(Author) in Python which accepts the Author name as parameter \n",
    "# and count and return number of books by the given Author are stored in the binary file \"Book.dat\"\n",
    "import pickle\n",
    "\n",
    "def createFile():\n",
    "    with open('Books.dat','wb') as file:\n",
    "        books=[[1,'hindi','ram',50.00],\n",
    "               [2,'english','rocky',34.00],\n",
    "               [3,'telugu','ram',72.50],\n",
    "               [4,'tamil','ram',46.34],\n",
    "               [5,'2 states','kiran',67.56],\n",
    "               [6,'bahubali','rocky',98.87],\n",
    "               [7,'marvel','ram',34.00],\n",
    "               [8,'history',\"subbu\",72.00]]\n",
    "        pickle.dump(books,file)\n",
    "    return 'File is created'\n",
    "\n",
    "def countRec(author):\n",
    "    with open('Books.dat','rb') as file:\n",
    "        data=pickle.load(file)\n",
    "        author_books=[i for i in data if i[2]==author]\n",
    "        return len(author_books)\n",
    "        \n",
    "\n",
    "def main():\n",
    "    print(createFile())\n",
    "    print(countRec('kiran'))\n",
    "    \n",
    "if __name__=='__main__':\n",
    "    main()"
   ]
  },
  {
   "cell_type": "code",
   "execution_count": 163,
   "metadata": {},
   "outputs": [
    {
     "name": "stdout",
     "output_type": "stream",
     "text": [
      "File is Created\n",
      "[101, 'ram', 86.0]\n",
      "[103, 'ram', 77.5]\n",
      "[106, 'rocky', 98.87]\n",
      "count:3\n"
     ]
    }
   ],
   "source": [
    "# A binary file \"STUDENT.DAT\" has structure (admission_number, Name, Percentage). \n",
    "# Write a function count_rec() in Python that would read contents of the file \"STUDENT.DAT\" \n",
    "# and display the details of those students whose percentage is above 75. \n",
    "# Also display number of students scoring above 75%\n",
    "\n",
    "import pickle\n",
    "\n",
    "def create():\n",
    "    with open('STUDENT.DAT','wb') as file:\n",
    "        students=[[101,'ram',86.00],\n",
    "               [102,'rocky',34.00],\n",
    "               [103,'ram',77.50],\n",
    "               [104,'ram',46.34],\n",
    "               [105,'kiran',67.56],\n",
    "               [106,'rocky',98.87],\n",
    "               [107,'ram',34.00],\n",
    "               [108,'subbu',72.00]]\n",
    "        pickle.dump(students,file)\n",
    "    \n",
    "    return 'File is Created'\n",
    "\n",
    "def count_rec():\n",
    "    file =open('STUDENT.DAT','rb')\n",
    "    data=pickle.load(file)\n",
    "    count=0\n",
    "    for i in data:\n",
    "        if i[-1]>75:\n",
    "            print(i)\n",
    "            count+=1\n",
    "    return count\n",
    "\n",
    "def main():\n",
    "    print(create())\n",
    "    print(f\"count:{count_rec()}\")\n",
    "\n",
    "if __name__=='__main__':\n",
    "    main()"
   ]
  },
  {
   "cell_type": "code",
   "execution_count": 168,
   "metadata": {},
   "outputs": [
    {
     "name": "stdout",
     "output_type": "stream",
     "text": [
      "File is Created\n",
      "[102, 'rocky', 33412.0]\n",
      "[105, 'kiran', 56714.56]\n",
      "[107, 'ram', 73440.0]\n"
     ]
    }
   ],
   "source": [
    "# Given a binary file employee.dat, created using dictionary object having keys: (empcode, name, and salary)\n",
    "\n",
    "# Write a python function that add one more record at the end of file.\n",
    "# Write a python function that display all employee records whose salary is more that 30000\n",
    "import pickle\n",
    "\n",
    "def create():\n",
    "    with open('employee.DAT','wb') as file:\n",
    "        students=[[101,'ram',28613.00],\n",
    "               [102,'rocky',33412.00],\n",
    "               [103,'ram',27723.50],\n",
    "               [104,'ram',4624.34],\n",
    "               [105,'kiran',56714.56],\n",
    "               [106,'rocky',9856.87],\n",
    "               [107,'ram',73440.00],\n",
    "               [108,'subbu',17224.00]]\n",
    "        pickle.dump(students,file)\n",
    "    \n",
    "    return 'File is Created'\n",
    "\n",
    "def count_rec():\n",
    "    file =open('employee.DAT','rb')\n",
    "    data=pickle.load(file)\n",
    "    out_list=[i for i in data if i[-1]>30000]\n",
    "            \n",
    "    return out_list\n",
    "\n",
    "def main():\n",
    "    print(create())\n",
    "    for i in count_rec():\n",
    "        print(i)\n",
    "\n",
    "if __name__=='__main__':\n",
    "    main()"
   ]
  },
  {
   "cell_type": "code",
   "execution_count": 171,
   "metadata": {},
   "outputs": [
    {
     "name": "stdout",
     "output_type": "stream",
     "text": [
      "File is Created\n",
      "[1005, 'kiran', 'p3', 56714.56]\n"
     ]
    }
   ],
   "source": [
    "# Write a function to search and display details of student whose rollno is '1005' \n",
    "# from the binary file student.dat having structure [rollno, name, class and fees].\n",
    "\n",
    "import pickle\n",
    "\n",
    "def create():\n",
    "    with open('students.DAT','wb') as file:\n",
    "        students=[[1001,'ram','p1',28613.00],\n",
    "               [1002,'rocky','p5',33412.00],\n",
    "               [1003,'ram','p3',27723.50],\n",
    "               [1004,'ram','p1',4624.34],\n",
    "               [1005,'kiran','p3',56714.56],\n",
    "               [1006,'rocky','p2',9856.87],\n",
    "               [1007,'ram','p4',73440.00],\n",
    "               [1008,'subbu','p5',17224.00]]\n",
    "        pickle.dump(students,file)\n",
    "    \n",
    "    return 'File is Created'\n",
    "\n",
    "def disp_rec(rollno):\n",
    "    file =open('students.DAT','rb')\n",
    "    data=pickle.load(file)\n",
    "    for i in data:\n",
    "        if i[0]==rollno:\n",
    "            return i\n",
    "            \n",
    "    return 'no record found'\n",
    "\n",
    "def main():\n",
    "    print(create())\n",
    "    print(disp_rec(1005)) \n",
    "\n",
    "if __name__=='__main__':\n",
    "    main()"
   ]
  },
  {
   "cell_type": "code",
   "execution_count": 172,
   "metadata": {},
   "outputs": [
    {
     "name": "stdout",
     "output_type": "stream",
     "text": [
      "File is Created\n",
      "251608.27\n"
     ]
    }
   ],
   "source": [
    "# A binary file school.dat has structure(rollno, name, class, fees)\n",
    "\n",
    "# Write a definition for function total_fees( ) that reads each object of file and calculate \n",
    "# the total fees of students and display the same.\n",
    "\n",
    "import pickle\n",
    "\n",
    "def create():\n",
    "    with open('students.DAT','wb') as file:\n",
    "        students=[[1001,'ram','p1',28613.00],\n",
    "               [1002,'rocky','p5',33412.00],\n",
    "               [1003,'ram','p3',27723.50],\n",
    "               [1004,'ram','p1',4624.34],\n",
    "               [1005,'kiran','p3',56714.56],\n",
    "               [1006,'rocky','p2',9856.87],\n",
    "               [1007,'ram','p4',73440.00],\n",
    "               [1008,'subbu','p5',17224.00]]\n",
    "        pickle.dump(students,file)\n",
    "    \n",
    "    return 'File is Created'\n",
    "\n",
    "def total_fees():\n",
    "    file =open('students.DAT','rb')\n",
    "    data=pickle.load(file)\n",
    "    ttl_fee=0\n",
    "    for i in data:\n",
    "        ttl_fee+=i[-1]\n",
    "            \n",
    "    return ttl_fee\n",
    "\n",
    "def main():\n",
    "    print(create())\n",
    "    print(total_fees()) \n",
    "\n",
    "if __name__=='__main__':\n",
    "    main()"
   ]
  },
  {
   "cell_type": "code",
   "execution_count": 193,
   "metadata": {},
   "outputs": [
    {
     "name": "stdout",
     "output_type": "stream",
     "text": [
      "File is Created\n",
      "[1001, 'Akhil', 'india', 28613.0]\n",
      "[1004, 'Amar', 'japan', 4624.34]\n",
      "[1008, 'Arjun', 'america', 17224.0]\n",
      "count: 3\n",
      "record added\n"
     ]
    }
   ],
   "source": [
    "# A binary file players.dat, containing records of following list format: [code, name, country and total runs]\n",
    "\n",
    "# 1. Write a python function that display all records where player name starts from 'A'\n",
    "# 2. Write a python function that accept country as an argument and count and display \n",
    "#     the number of players of that country.\n",
    "# 3. Write a python function that add one record at the end of file.\n",
    "\n",
    "import pickle\n",
    "\n",
    "def create():\n",
    "    with open('players.DAT','wb') as file:\n",
    "        players=[[1001,'Akhil','india',28613.00],\n",
    "               [1002,'rocky','aus',33412.00],\n",
    "               [1003,'ram','america',27723.50],\n",
    "               [1004,'Amar','japan',4624.34],\n",
    "               [1005,'kiran','india',56714.56],\n",
    "               [1006,'rocky','china',9856.87],\n",
    "               [1007,'ram','india',73440.00],\n",
    "               [1008,'Arjun','america',17224.00]]\n",
    "        pickle.dump(players,file)\n",
    "    \n",
    "    return 'File is Created'\n",
    "\n",
    "def allrecords():\n",
    "    file =open('players.DAT','rb')\n",
    "    data=pickle.load(file)\n",
    "    out_list=[i for i in data if i[1].startswith('A')]\n",
    "    file.close()\n",
    "    return out_list\n",
    "\n",
    "def country_count(country):\n",
    "    file =open('players.DAT','rb')\n",
    "    data=pickle.load(file)\n",
    "    count=0\n",
    "    for i in data :\n",
    "        if i[2]==country:\n",
    "            count+=1\n",
    "    file.close()\n",
    "    return count\n",
    "\n",
    "def add_record():\n",
    "    file =open('players.DAT','ab')\n",
    "    new_record=[1009,'raj','aus',17224.00]\n",
    "    pickle.dump(new_record,file)\n",
    "    file.close()\n",
    "    return 'record added'\n",
    "\n",
    "\n",
    "def main():\n",
    "    print(create())\n",
    "    \n",
    "    for i in allrecords():\n",
    "        print(i)\n",
    "        \n",
    "    print(f\"count: {country_count('india')}\")\n",
    "    \n",
    "    print(add_record())\n",
    "\n",
    "\n",
    "if __name__=='__main__':\n",
    "    main()"
   ]
  },
  {
   "cell_type": "code",
   "execution_count": 199,
   "metadata": {
    "ExecuteTime": {
     "end_time": "2021-05-29T10:46:59.140338Z",
     "start_time": "2021-05-29T10:46:59.135100Z"
    }
   },
   "outputs": [
    {
     "name": "stdout",
     "output_type": "stream",
     "text": [
      "File is Created\n",
      "copy file is created\n",
      "[['Basket Ball', 'ram'], ['Basket Ball', 'krishna'], ['Basket Ball', 'vasu']]\n"
     ]
    }
   ],
   "source": [
    "# Given a binary file game.dat, containing records of following list format: [game_name, participants]\n",
    "\n",
    "# Write a function in Python that would read contents from the file game.dat and \n",
    "# creates a file named basket.dat copying only those records from game.dat where the game name is \"Basket Ball\"\n",
    "\n",
    "\n",
    "import pickle\n",
    "\n",
    "def create():\n",
    "    with open('game.DAT','wb') as file:\n",
    "        players=[['Basket Ball','ram'],\n",
    "                 ['cricket','raju'],\n",
    "               ['ruby Ball','akhil'],\n",
    "               ['tenis','mastan'],\n",
    "               ['cricket','chandu'],\n",
    "               ['Basket Ball','krishna'],\n",
    "               ['foot ball','raghu'],\n",
    "               ['Basket Ball','vasu']]\n",
    "        pickle.dump(players,file)\n",
    "    \n",
    "    return 'File is Created'\n",
    "\n",
    "def cpy_file(name):\n",
    "    file =open('game.DAT','rb')\n",
    "    data=pickle.load(file)\n",
    "    cpy_list=[i for i in data if i[0]==name]\n",
    "    file.close()\n",
    "    \n",
    "    with open('basket.dat','wb') as file2:\n",
    "        pickle.dump(cpy_list,file2)\n",
    "    return 'copy file is created'\n",
    "\n",
    "def display():\n",
    "    file=open('basket.dat','rb')\n",
    "    data=pickle.load(file)\n",
    "    print(data)\n",
    "\n",
    "def main():\n",
    "    print(create())\n",
    "    print(cpy_file(\"Basket Ball\")) \n",
    "    display()\n",
    "\n",
    "if __name__=='__main__':\n",
    "    main()"
   ]
  },
  {
   "cell_type": "code",
   "execution_count": null,
   "metadata": {},
   "outputs": [],
   "source": []
  },
  {
   "cell_type": "code",
   "execution_count": null,
   "metadata": {},
   "outputs": [],
   "source": []
  }
 ],
 "metadata": {
  "kernelspec": {
   "display_name": "Python 3 (ipykernel)",
   "language": "python",
   "name": "python3"
  },
  "language_info": {
   "codemirror_mode": {
    "name": "ipython",
    "version": 3
   },
   "file_extension": ".py",
   "mimetype": "text/x-python",
   "name": "python",
   "nbconvert_exporter": "python",
   "pygments_lexer": "ipython3",
   "version": "3.9.7"
  }
 },
 "nbformat": 4,
 "nbformat_minor": 2
}
