{
 "cells": [
  {
   "cell_type": "code",
   "execution_count": 1,
   "id": "4738f5e7",
   "metadata": {},
   "outputs": [
    {
     "name": "stdout",
     "output_type": "stream",
     "text": [
      "2022-04-28 15:48:20.680698\n"
     ]
    }
   ],
   "source": [
    "import datetime\n",
    "\n",
    "current_date=datetime.datetime.now()\n",
    "print(current_date)"
   ]
  },
  {
   "cell_type": "code",
   "execution_count": 42,
   "id": "43be0c72",
   "metadata": {},
   "outputs": [
    {
     "name": "stdout",
     "output_type": "stream",
     "text": [
      "last two digits in year: 22\n",
      "full digits in year: 2022\n",
      "full month in digit: 04\n",
      "full month name: April\n",
      "partial month name: Apr\n",
      "day : 28\n",
      "hours in the 24 time: 15\n",
      "hours in the 24 time: 03\n",
      "minutes in time: 48\n",
      "Seconds in time: 20\n",
      "mili Seconds in time: 680698\n",
      " only date : 04/28/22\n",
      " only time : 15:48:20\n",
      " DAY Number in the year : 118\n",
      " AM/PM  : PM\n"
     ]
    }
   ],
   "source": [
    "#String formats\n",
    "\n",
    "print(f\"last two digits in year: {current_date.strftime('%y')}\")\n",
    "\n",
    "print(f\"full digits in year: {current_date.strftime('%Y')}\")\n",
    "\n",
    "print(f\"full month in digit: {current_date.strftime('%m')}\")\n",
    "\n",
    "print(f\"full month name: {current_date.strftime('%B')}\")\n",
    "\n",
    "print(f\"partial month name: {current_date.strftime('%b')}\")\n",
    "\n",
    "print(f\"day : {current_date.strftime('%d')}\")\n",
    "\n",
    "print(f\"hours in the 24 time: {current_date.strftime('%H')}\")\n",
    "\n",
    "print(f\"hours in the 24 time: {current_date.strftime('%I')}\")\n",
    "\n",
    "print(f\"minutes in time: {current_date.strftime('%M')}\")\n",
    "\n",
    "print(f\"Seconds in time: {current_date.strftime('%S')}\")\n",
    "\n",
    "print(f\"mili Seconds in time: {current_date.strftime('%f')}\")\n",
    "\n",
    "print(f\" only date : {current_date.strftime('%x')}\")\n",
    "\n",
    "print(f\" only time : {current_date.strftime('%X')}\")\n",
    "\n",
    "print(f\" DAY Number in the year : {current_date.strftime('%j')}\")\n",
    "\n",
    "print(f\" AM/PM  : {current_date.strftime('%p')}\")"
   ]
  },
  {
   "cell_type": "code",
   "execution_count": 53,
   "id": "411f34ff",
   "metadata": {},
   "outputs": [
    {
     "name": "stdout",
     "output_type": "stream",
     "text": [
      "2022-05-06 00:00:00\n",
      "2021-09-23 13:45:59\n"
     ]
    }
   ],
   "source": [
    "#How to create desired date time\n",
    "\n",
    "import datetime\n",
    "\n",
    "\n",
    "new_date1=datetime.datetime(2022,5,6)\n",
    "new_date2=datetime.datetime(2021,9,23,13,45,59,0000000)\n",
    "print(new_date1)\n",
    "print(new_date2)"
   ]
  },
  {
   "cell_type": "code",
   "execution_count": 68,
   "id": "3485078d",
   "metadata": {},
   "outputs": [
    {
     "name": "stdout",
     "output_type": "stream",
     "text": [
      "Current date 2022-04-28 17:05:15.462910\n",
      "New date after operation 2022-04-30 17:05:15.462910 \n",
      "new date2 afteroperation2020-04-28 13:05:15.462910\n",
      "730 days, 4:00:00\n"
     ]
    }
   ],
   "source": [
    "#difference in dates/ Time delta\n",
    "\n",
    "from datetime import datetime,timedelta\n",
    "\n",
    "current_date=datetime.now()\n",
    "\n",
    "print(\"Current date\",current_date)\n",
    "\n",
    "new_date=current_date+timedelta(days=2)\n",
    "\n",
    "print(\"New date after operation {} \".format(new_date))\n",
    "\n",
    "new_date2 =current_date-timedelta(days=730,hours=4)\n",
    "\n",
    "print(f\"new date2 afteroperation{new_date2}\")\n",
    "\n",
    "\n",
    "difference=current_date-new_date2\n",
    "\n",
    "print(difference)"
   ]
  }
 ],
 "metadata": {
  "kernelspec": {
   "display_name": "Python 3 (ipykernel)",
   "language": "python",
   "name": "python3"
  },
  "language_info": {
   "codemirror_mode": {
    "name": "ipython",
    "version": 3
   },
   "file_extension": ".py",
   "mimetype": "text/x-python",
   "name": "python",
   "nbconvert_exporter": "python",
   "pygments_lexer": "ipython3",
   "version": "3.9.7"
  }
 },
 "nbformat": 4,
 "nbformat_minor": 5
}
