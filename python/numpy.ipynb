{
 "cells": [
  {
   "cell_type": "code",
   "execution_count": 4,
   "id": "52061ebe",
   "metadata": {},
   "outputs": [
    {
     "name": "stdout",
     "output_type": "stream",
     "text": [
      "Collecting package metadata (current_repodata.json): done\n",
      "Solving environment: done\n",
      "\n",
      "# All requested packages already installed.\n",
      "\n",
      "\n",
      "Note: you may need to restart the kernel to use updated packages.\n"
     ]
    }
   ],
   "source": [
    "conda install numpy\n"
   ]
  },
  {
   "cell_type": "code",
   "execution_count": 1,
   "id": "47348cd1",
   "metadata": {},
   "outputs": [
    {
     "name": "stdout",
     "output_type": "stream",
     "text": [
      "[ 0  1  2  3  4  5  6  7  8  9 10 11 12 13 14 15 16 17 18 19 20 21 22 23\n",
      " 24] \n",
      "\n",
      "(25,) \n",
      "\n",
      "[[ 0  1  2  3  4]\n",
      " [ 5  6  7  8  9]\n",
      " [10 11 12 13 14]\n",
      " [15 16 17 18 19]\n",
      " [20 21 22 23 24]] \n",
      "\n",
      "[[ 0  1  2  3  4]\n",
      " [ 5  6  7  8  9]\n",
      " [10 11 12 13 14]\n",
      " [15 16 17 18 19]] \n",
      "\n",
      "[[ 0  1  2  3  4]\n",
      " [ 5  6  7  8  9]\n",
      " [10 11 12 13 14]\n",
      " [15 16 17 18 19]]\n"
     ]
    }
   ],
   "source": [
    "import numpy as np\n",
    "\n",
    "arr1=np.arange(0,25)\n",
    "\n",
    "print(arr1,\"\\n\")\n",
    "\n",
    "print(arr1.shape,\"\\n\")\n",
    "\n",
    "print(arr1.reshape(5,5),\"\\n\")\n",
    "\n",
    "\n",
    "print(np.arange(0,20).reshape(4,5),\"\\n\")\n",
    "\n",
    "print(np.arange(0,20).reshape(4,-1))"
   ]
  },
  {
   "cell_type": "code",
   "execution_count": 34,
   "id": "6de40152",
   "metadata": {},
   "outputs": [
    {
     "data": {
      "text/plain": [
       "array([0.71616021, 1.04488012, 1.07823965, 1.21502878, 2.18858734,\n",
       "       2.48830066, 3.42779772, 3.97867265, 4.46434674, 5.3715559 ])"
      ]
     },
     "execution_count": 34,
     "metadata": {},
     "output_type": "execute_result"
    }
   ],
   "source": [
    "(np.random.rand(10).cumsum())"
   ]
  },
  {
   "cell_type": "code",
   "execution_count": 40,
   "id": "fceadbbc",
   "metadata": {},
   "outputs": [
    {
     "data": {
      "text/plain": [
       "1.57720395"
      ]
     },
     "execution_count": 40,
     "metadata": {},
     "output_type": "execute_result"
    }
   ],
   "source": [
    "0.71616021+0.86104374"
   ]
  },
  {
   "cell_type": "code",
   "execution_count": 3,
   "id": "1ba8ef0d",
   "metadata": {},
   "outputs": [
    {
     "ename": "SyntaxError",
     "evalue": "invalid syntax (4101659114.py, line 1)",
     "output_type": "error",
     "traceback": [
      "\u001b[0;36m  File \u001b[0;32m\"/var/folders/nx/rzfcs7mj2bj70r23j_mcmcqw0000gn/T/ipykernel_1782/4101659114.py\"\u001b[0;36m, line \u001b[0;32m1\u001b[0m\n\u001b[0;31m    arr1= np.\u001b[0m\n\u001b[0m             ^\u001b[0m\n\u001b[0;31mSyntaxError\u001b[0m\u001b[0;31m:\u001b[0m invalid syntax\n"
     ]
    }
   ],
   "source": [
    "arr1= np."
   ]
  },
  {
   "cell_type": "code",
   "execution_count": 47,
   "id": "a7c0060f",
   "metadata": {},
   "outputs": [
    {
     "data": {
      "text/plain": [
       "array([0.98062556, 1.58573124, 1.71169247, 2.32320208, 3.2626321 ,\n",
       "       3.47432458, 4.22913001, 4.72581305, 5.45988337, 6.01700268])"
      ]
     },
     "execution_count": 47,
     "metadata": {},
     "output_type": "execute_result"
    }
   ],
   "source": [
    "arr1.cumsum()"
   ]
  },
  {
   "cell_type": "code",
   "execution_count": 7,
   "id": "08994adc",
   "metadata": {},
   "outputs": [
    {
     "name": "stdout",
     "output_type": "stream",
     "text": [
      "[10  2  3  9  5  7  8]\n",
      "[2 3 4 6 7 8 2]\n",
      "[ 0  1  2  3  4  5  6  7  8  9 10 11 12 13 14 15 16 17 18 19 20 21 22 23\n",
      " 24]\n",
      "[1 2 3 4 5 6 7 8 9]\n",
      "[ 1  6 11 16 21 26 31 36 41 46 51 56 61 66 71 76 81 86 91 96]\n"
     ]
    }
   ],
   "source": [
    "import numpy as np\n",
    "\n",
    "#Creating array using list\n",
    "list1=[10,2,3,9,5,7,8]\n",
    "arr1=np.array(list1)\n",
    "print(arr1)\n",
    "\n",
    "#creating array using tuple\n",
    "tup1=2,3,4,6,7,8,2\n",
    "arr2=np.array(tup1)\n",
    "print(arr2)\n",
    "\n",
    "\n",
    "#creating array using arrange\n",
    "\n",
    "arr3=np.arange(25)\n",
    "print(arr3)\n",
    "print(np.arange(1,10))\n",
    "print(np.arange(1,100,5))"
   ]
  },
  {
   "cell_type": "code",
   "execution_count": 11,
   "id": "39477cc7",
   "metadata": {},
   "outputs": [
    {
     "name": "stdout",
     "output_type": "stream",
     "text": [
      "[[10 11 12 13]\n",
      " [14 15 16 17]\n",
      " [18 19 20 21]\n",
      " [22 23 24 25]\n",
      " [26 27 28 29]]\n"
     ]
    },
    {
     "data": {
      "text/plain": [
       "array([[10, 11, 12, 13],\n",
       "       [14, 15, 16, 17],\n",
       "       [18, 19, 20, 21],\n",
       "       [22, 23, 24, 25],\n",
       "       [26, 27, 28, 29]])"
      ]
     },
     "execution_count": 11,
     "metadata": {},
     "output_type": "execute_result"
    }
   ],
   "source": [
    "#Creating multi dimensional array using arange function\n",
    "\n",
    "arr1=np.arange(10,30).reshape(5,4)\n",
    "print(arr1)\n",
    "arr2=np.arange(10,30).reshape(5,-1)\n",
    "arr2"
   ]
  },
  {
   "cell_type": "code",
   "execution_count": 46,
   "id": "338ae5b0",
   "metadata": {},
   "outputs": [
    {
     "name": "stdout",
     "output_type": "stream",
     "text": [
      "[[20 40]\n",
      " [50 60]]\n"
     ]
    },
    {
     "data": {
      "text/plain": [
       "array([[20, 40, 50, 60],\n",
       "       [23,  4,  5,  4]])"
      ]
     },
     "execution_count": 46,
     "metadata": {},
     "output_type": "execute_result"
    }
   ],
   "source": [
    "# creating multi dimensional array using multi list\n",
    "\n",
    "list1=[20,40,50,60]\n",
    "\n",
    "arr1=np.array(list1).reshape(2,-1)\n",
    "print(arr1)\n",
    "\n",
    "list2=[23,4,5,4]\n",
    "\n",
    "arr2=np.array((list1,list2))\n",
    "arr2"
   ]
  },
  {
   "cell_type": "code",
   "execution_count": 27,
   "id": "ae260709",
   "metadata": {},
   "outputs": [
    {
     "name": "stdout",
     "output_type": "stream",
     "text": [
      "[ 5.          5.10204082  5.20408163  5.30612245  5.40816327  5.51020408\n",
      "  5.6122449   5.71428571  5.81632653  5.91836735  6.02040816  6.12244898\n",
      "  6.2244898   6.32653061  6.42857143  6.53061224  6.63265306  6.73469388\n",
      "  6.83673469  6.93877551  7.04081633  7.14285714  7.24489796  7.34693878\n",
      "  7.44897959  7.55102041  7.65306122  7.75510204  7.85714286  7.95918367\n",
      "  8.06122449  8.16326531  8.26530612  8.36734694  8.46938776  8.57142857\n",
      "  8.67346939  8.7755102   8.87755102  8.97959184  9.08163265  9.18367347\n",
      "  9.28571429  9.3877551   9.48979592  9.59183673  9.69387755  9.79591837\n",
      "  9.89795918 10.        ]\n",
      "[ 5.          5.26315789  5.52631579  5.78947368  6.05263158  6.31578947\n",
      "  6.57894737  6.84210526  7.10526316  7.36842105  7.63157895  7.89473684\n",
      "  8.15789474  8.42105263  8.68421053  8.94736842  9.21052632  9.47368421\n",
      "  9.73684211 10.        ]\n"
     ]
    }
   ],
   "source": [
    "# linspace :returns the random elemnts of given two numbers\n",
    "# if step is not given it gives defalut of 50 values\n",
    "\n",
    "arr1=np.linspace(5,10)\n",
    "\n",
    "print(arr1)\n",
    "\n",
    "print(np.linspace(5,10,20))"
   ]
  },
  {
   "cell_type": "code",
   "execution_count": 36,
   "id": "378afcbc",
   "metadata": {},
   "outputs": [
    {
     "name": "stdout",
     "output_type": "stream",
     "text": [
      "[0. 0. 0. 0. 0. 0. 0. 0. 0. 0.]\n",
      "[[0. 0.]\n",
      " [0. 0.]\n",
      " [0. 0.]\n",
      " [0. 0.]\n",
      " [0. 0.]]\n",
      "[1. 1. 1. 1. 1. 1. 1. 1. 1. 1. 1. 1.]\n",
      "[[1 1 1]\n",
      " [1 1 1]\n",
      " [1 1 1]\n",
      " [1 1 1]]\n"
     ]
    }
   ],
   "source": [
    "# to create arrays of zeros\n",
    "\n",
    "print(np.zeros(10))\n",
    "print(np.zeros(10).reshape(5,2))\n",
    "\n",
    "# to create arrays of ones\n",
    "\n",
    "print(np.ones(12))\n",
    "print(np.ones(12,dtype=int).reshape(4,3))\n"
   ]
  },
  {
   "cell_type": "code",
   "execution_count": 38,
   "id": "f1db5fae",
   "metadata": {},
   "outputs": [
    {
     "name": "stdout",
     "output_type": "stream",
     "text": [
      "[[1. 0. 0. 0.]\n",
      " [0. 1. 0. 0.]\n",
      " [0. 0. 1. 0.]\n",
      " [0. 0. 0. 1.]]\n",
      "[[1 0 0 0 0]\n",
      " [0 1 0 0 0]\n",
      " [0 0 1 0 0]\n",
      " [0 0 0 1 0]\n",
      " [0 0 0 0 1]]\n"
     ]
    }
   ],
   "source": [
    "# to create identity matrix\n",
    "\n",
    "arr1=np.eye(4)\n",
    "print(arr1)\n",
    "\n",
    "print(np.identity(5,dtype=int))"
   ]
  },
  {
   "cell_type": "code",
   "execution_count": 59,
   "id": "bcd26812",
   "metadata": {},
   "outputs": [
    {
     "name": "stdout",
     "output_type": "stream",
     "text": [
      "[[0.00000000e+000 6.79038654e-313]\n",
      " [6.79038654e-313 2.22809558e-312]\n",
      " [2.14321575e-312 2.46151512e-312]\n",
      " [2.41907520e-312 5.97819431e-322]]\n",
      "[0.39403402 0.51574598 0.2577767  0.29165336 0.63407466 0.1391684\n",
      " 0.5552332  0.23027963 0.03847482 0.28548202] \n",
      "\n",
      "[ 0.69333987  1.49495378  2.34484012  3.25411555  3.3887626   4.2121169\n",
      "  4.23321276  5.0469272   5.84079837  6.61136066  6.71024203  6.85645336\n",
      "  7.54490028  7.83011757  8.23639668  8.48893694  9.32266287  9.87592409\n",
      " 10.36233185 10.95817664]\n"
     ]
    }
   ],
   "source": [
    "# to create empty array\n",
    "\n",
    "empt_arr=np.empty((4,2)) #creates array with some random values  of given matrix or value\n",
    "print(empt_arr)\n",
    "\n",
    "# to create random array\n",
    "\n",
    "print(np.random.rand(10),\"\\n\") # creates array with random values between 0 and 1\n",
    "\n",
    "print(np.random.rand(20).cumsum()) # creates array with random values and do cumulative sum b/w 0 and 1"
   ]
  },
  {
   "cell_type": "code",
   "execution_count": 67,
   "id": "8920f141",
   "metadata": {},
   "outputs": [
    {
     "name": "stdout",
     "output_type": "stream",
     "text": [
      "[   0    1    2 ... 1997 1998 1999]\n",
      "[   0    1    2    3    4    5    6    7    8    9   10   11   12   13\n",
      "   14   15   16   17   18   19   20   21   22   23   24   25   26   27\n",
      "   28   29   30   31   32   33   34   35   36   37   38   39   40   41\n",
      "   42   43   44   45   46   47   48   49   50   51   52   53   54   55\n",
      "   56   57   58   59   60   61   62   63   64   65   66   67   68   69\n",
      "   70   71   72   73   74   75   76   77   78   79   80   81   82   83\n",
      "   84   85   86   87   88   89   90   91   92   93   94   95   96   97\n",
      "   98   99  100  101  102  103  104  105  106  107  108  109  110  111\n",
      "  112  113  114  115  116  117  118  119  120  121  122  123  124  125\n",
      "  126  127  128  129  130  131  132  133  134  135  136  137  138  139\n",
      "  140  141  142  143  144  145  146  147  148  149  150  151  152  153\n",
      "  154  155  156  157  158  159  160  161  162  163  164  165  166  167\n",
      "  168  169  170  171  172  173  174  175  176  177  178  179  180  181\n",
      "  182  183  184  185  186  187  188  189  190  191  192  193  194  195\n",
      "  196  197  198  199  200  201  202  203  204  205  206  207  208  209\n",
      "  210  211  212  213  214  215  216  217  218  219  220  221  222  223\n",
      "  224  225  226  227  228  229  230  231  232  233  234  235  236  237\n",
      "  238  239  240  241  242  243  244  245  246  247  248  249  250  251\n",
      "  252  253  254  255  256  257  258  259  260  261  262  263  264  265\n",
      "  266  267  268  269  270  271  272  273  274  275  276  277  278  279\n",
      "  280  281  282  283  284  285  286  287  288  289  290  291  292  293\n",
      "  294  295  296  297  298  299  300  301  302  303  304  305  306  307\n",
      "  308  309  310  311  312  313  314  315  316  317  318  319  320  321\n",
      "  322  323  324  325  326  327  328  329  330  331  332  333  334  335\n",
      "  336  337  338  339  340  341  342  343  344  345  346  347  348  349\n",
      "  350  351  352  353  354  355  356  357  358  359  360  361  362  363\n",
      "  364  365  366  367  368  369  370  371  372  373  374  375  376  377\n",
      "  378  379  380  381  382  383  384  385  386  387  388  389  390  391\n",
      "  392  393  394  395  396  397  398  399  400  401  402  403  404  405\n",
      "  406  407  408  409  410  411  412  413  414  415  416  417  418  419\n",
      "  420  421  422  423  424  425  426  427  428  429  430  431  432  433\n",
      "  434  435  436  437  438  439  440  441  442  443  444  445  446  447\n",
      "  448  449  450  451  452  453  454  455  456  457  458  459  460  461\n",
      "  462  463  464  465  466  467  468  469  470  471  472  473  474  475\n",
      "  476  477  478  479  480  481  482  483  484  485  486  487  488  489\n",
      "  490  491  492  493  494  495  496  497  498  499  500  501  502  503\n",
      "  504  505  506  507  508  509  510  511  512  513  514  515  516  517\n",
      "  518  519  520  521  522  523  524  525  526  527  528  529  530  531\n",
      "  532  533  534  535  536  537  538  539  540  541  542  543  544  545\n",
      "  546  547  548  549  550  551  552  553  554  555  556  557  558  559\n",
      "  560  561  562  563  564  565  566  567  568  569  570  571  572  573\n",
      "  574  575  576  577  578  579  580  581  582  583  584  585  586  587\n",
      "  588  589  590  591  592  593  594  595  596  597  598  599  600  601\n",
      "  602  603  604  605  606  607  608  609  610  611  612  613  614  615\n",
      "  616  617  618  619  620  621  622  623  624  625  626  627  628  629\n",
      "  630  631  632  633  634  635  636  637  638  639  640  641  642  643\n",
      "  644  645  646  647  648  649  650  651  652  653  654  655  656  657\n",
      "  658  659  660  661  662  663  664  665  666  667  668  669  670  671\n",
      "  672  673  674  675  676  677  678  679  680  681  682  683  684  685\n",
      "  686  687  688  689  690  691  692  693  694  695  696  697  698  699\n",
      "  700  701  702  703  704  705  706  707  708  709  710  711  712  713\n",
      "  714  715  716  717  718  719  720  721  722  723  724  725  726  727\n",
      "  728  729  730  731  732  733  734  735  736  737  738  739  740  741\n",
      "  742  743  744  745  746  747  748  749  750  751  752  753  754  755\n",
      "  756  757  758  759  760  761  762  763  764  765  766  767  768  769\n",
      "  770  771  772  773  774  775  776  777  778  779  780  781  782  783\n",
      "  784  785  786  787  788  789  790  791  792  793  794  795  796  797\n",
      "  798  799  800  801  802  803  804  805  806  807  808  809  810  811\n",
      "  812  813  814  815  816  817  818  819  820  821  822  823  824  825\n",
      "  826  827  828  829  830  831  832  833  834  835  836  837  838  839\n",
      "  840  841  842  843  844  845  846  847  848  849  850  851  852  853\n",
      "  854  855  856  857  858  859  860  861  862  863  864  865  866  867\n",
      "  868  869  870  871  872  873  874  875  876  877  878  879  880  881\n",
      "  882  883  884  885  886  887  888  889  890  891  892  893  894  895\n",
      "  896  897  898  899  900  901  902  903  904  905  906  907  908  909\n",
      "  910  911  912  913  914  915  916  917  918  919  920  921  922  923\n",
      "  924  925  926  927  928  929  930  931  932  933  934  935  936  937\n",
      "  938  939  940  941  942  943  944  945  946  947  948  949  950  951\n",
      "  952  953  954  955  956  957  958  959  960  961  962  963  964  965\n",
      "  966  967  968  969  970  971  972  973  974  975  976  977  978  979\n",
      "  980  981  982  983  984  985  986  987  988  989  990  991  992  993\n",
      "  994  995  996  997  998  999 1000 1001 1002 1003 1004 1005 1006 1007\n",
      " 1008 1009 1010 1011 1012 1013 1014 1015 1016 1017 1018 1019 1020 1021\n",
      " 1022 1023 1024 1025 1026 1027 1028 1029 1030 1031 1032 1033 1034 1035\n",
      " 1036 1037 1038 1039 1040 1041 1042 1043 1044 1045 1046 1047 1048 1049\n",
      " 1050 1051 1052 1053 1054 1055 1056 1057 1058 1059 1060 1061 1062 1063\n",
      " 1064 1065 1066 1067 1068 1069 1070 1071 1072 1073 1074 1075 1076 1077\n",
      " 1078 1079 1080 1081 1082 1083 1084 1085 1086 1087 1088 1089 1090 1091\n",
      " 1092 1093 1094 1095 1096 1097 1098 1099 1100 1101 1102 1103 1104 1105\n",
      " 1106 1107 1108 1109 1110 1111 1112 1113 1114 1115 1116 1117 1118 1119\n",
      " 1120 1121 1122 1123 1124 1125 1126 1127 1128 1129 1130 1131 1132 1133\n",
      " 1134 1135 1136 1137 1138 1139 1140 1141 1142 1143 1144 1145 1146 1147\n",
      " 1148 1149 1150 1151 1152 1153 1154 1155 1156 1157 1158 1159 1160 1161\n",
      " 1162 1163 1164 1165 1166 1167 1168 1169 1170 1171 1172 1173 1174 1175\n",
      " 1176 1177 1178 1179 1180 1181 1182 1183 1184 1185 1186 1187 1188 1189\n",
      " 1190 1191 1192 1193 1194 1195 1196 1197 1198 1199 1200 1201 1202 1203\n",
      " 1204 1205 1206 1207 1208 1209 1210 1211 1212 1213 1214 1215 1216 1217\n",
      " 1218 1219 1220 1221 1222 1223 1224 1225 1226 1227 1228 1229 1230 1231\n",
      " 1232 1233 1234 1235 1236 1237 1238 1239 1240 1241 1242 1243 1244 1245\n",
      " 1246 1247 1248 1249 1250 1251 1252 1253 1254 1255 1256 1257 1258 1259\n",
      " 1260 1261 1262 1263 1264 1265 1266 1267 1268 1269 1270 1271 1272 1273\n",
      " 1274 1275 1276 1277 1278 1279 1280 1281 1282 1283 1284 1285 1286 1287\n",
      " 1288 1289 1290 1291 1292 1293 1294 1295 1296 1297 1298 1299 1300 1301\n",
      " 1302 1303 1304 1305 1306 1307 1308 1309 1310 1311 1312 1313 1314 1315\n",
      " 1316 1317 1318 1319 1320 1321 1322 1323 1324 1325 1326 1327 1328 1329\n",
      " 1330 1331 1332 1333 1334 1335 1336 1337 1338 1339 1340 1341 1342 1343\n",
      " 1344 1345 1346 1347 1348 1349 1350 1351 1352 1353 1354 1355 1356 1357\n",
      " 1358 1359 1360 1361 1362 1363 1364 1365 1366 1367 1368 1369 1370 1371\n",
      " 1372 1373 1374 1375 1376 1377 1378 1379 1380 1381 1382 1383 1384 1385\n",
      " 1386 1387 1388 1389 1390 1391 1392 1393 1394 1395 1396 1397 1398 1399\n",
      " 1400 1401 1402 1403 1404 1405 1406 1407 1408 1409 1410 1411 1412 1413\n",
      " 1414 1415 1416 1417 1418 1419 1420 1421 1422 1423 1424 1425 1426 1427\n",
      " 1428 1429 1430 1431 1432 1433 1434 1435 1436 1437 1438 1439 1440 1441\n",
      " 1442 1443 1444 1445 1446 1447 1448 1449 1450 1451 1452 1453 1454 1455\n",
      " 1456 1457 1458 1459 1460 1461 1462 1463 1464 1465 1466 1467 1468 1469\n",
      " 1470 1471 1472 1473 1474 1475 1476 1477 1478 1479 1480 1481 1482 1483\n",
      " 1484 1485 1486 1487 1488 1489 1490 1491 1492 1493 1494 1495 1496 1497\n",
      " 1498 1499 1500 1501 1502 1503 1504 1505 1506 1507 1508 1509 1510 1511\n",
      " 1512 1513 1514 1515 1516 1517 1518 1519 1520 1521 1522 1523 1524 1525\n",
      " 1526 1527 1528 1529 1530 1531 1532 1533 1534 1535 1536 1537 1538 1539\n",
      " 1540 1541 1542 1543 1544 1545 1546 1547 1548 1549 1550 1551 1552 1553\n",
      " 1554 1555 1556 1557 1558 1559 1560 1561 1562 1563 1564 1565 1566 1567\n",
      " 1568 1569 1570 1571 1572 1573 1574 1575 1576 1577 1578 1579 1580 1581\n",
      " 1582 1583 1584 1585 1586 1587 1588 1589 1590 1591 1592 1593 1594 1595\n",
      " 1596 1597 1598 1599 1600 1601 1602 1603 1604 1605 1606 1607 1608 1609\n",
      " 1610 1611 1612 1613 1614 1615 1616 1617 1618 1619 1620 1621 1622 1623\n",
      " 1624 1625 1626 1627 1628 1629 1630 1631 1632 1633 1634 1635 1636 1637\n",
      " 1638 1639 1640 1641 1642 1643 1644 1645 1646 1647 1648 1649 1650 1651\n",
      " 1652 1653 1654 1655 1656 1657 1658 1659 1660 1661 1662 1663 1664 1665\n",
      " 1666 1667 1668 1669 1670 1671 1672 1673 1674 1675 1676 1677 1678 1679\n",
      " 1680 1681 1682 1683 1684 1685 1686 1687 1688 1689 1690 1691 1692 1693\n",
      " 1694 1695 1696 1697 1698 1699 1700 1701 1702 1703 1704 1705 1706 1707\n",
      " 1708 1709 1710 1711 1712 1713 1714 1715 1716 1717 1718 1719 1720 1721\n",
      " 1722 1723 1724 1725 1726 1727 1728 1729 1730 1731 1732 1733 1734 1735\n",
      " 1736 1737 1738 1739 1740 1741 1742 1743 1744 1745 1746 1747 1748 1749\n",
      " 1750 1751 1752 1753 1754 1755 1756 1757 1758 1759 1760 1761 1762 1763\n",
      " 1764 1765 1766 1767 1768 1769 1770 1771 1772 1773 1774 1775 1776 1777\n",
      " 1778 1779 1780 1781 1782 1783 1784 1785 1786 1787 1788 1789 1790 1791\n",
      " 1792 1793 1794 1795 1796 1797 1798 1799 1800 1801 1802 1803 1804 1805\n",
      " 1806 1807 1808 1809 1810 1811 1812 1813 1814 1815 1816 1817 1818 1819\n",
      " 1820 1821 1822 1823 1824 1825 1826 1827 1828 1829 1830 1831 1832 1833\n",
      " 1834 1835 1836 1837 1838 1839 1840 1841 1842 1843 1844 1845 1846 1847\n",
      " 1848 1849 1850 1851 1852 1853 1854 1855 1856 1857 1858 1859 1860 1861\n",
      " 1862 1863 1864 1865 1866 1867 1868 1869 1870 1871 1872 1873 1874 1875\n",
      " 1876 1877 1878 1879 1880 1881 1882 1883 1884 1885 1886 1887 1888 1889\n",
      " 1890 1891 1892 1893 1894 1895 1896 1897 1898 1899 1900 1901 1902 1903\n",
      " 1904 1905 1906 1907 1908 1909 1910 1911 1912 1913 1914 1915 1916 1917\n",
      " 1918 1919 1920 1921 1922 1923 1924 1925 1926 1927 1928 1929 1930 1931\n",
      " 1932 1933 1934 1935 1936 1937 1938 1939 1940 1941 1942 1943 1944 1945\n",
      " 1946 1947 1948 1949 1950 1951 1952 1953 1954 1955 1956 1957 1958 1959\n",
      " 1960 1961 1962 1963 1964 1965 1966 1967 1968 1969 1970 1971 1972 1973\n",
      " 1974 1975 1976 1977 1978 1979 1980 1981 1982 1983 1984 1985 1986 1987\n",
      " 1988 1989 1990 1991 1992 1993 1994 1995 1996 1997 1998 1999]\n"
     ]
    }
   ],
   "source": [
    "# to show more values in array\n",
    "\n",
    "# before\n",
    "print(np.arange(2000))\n",
    "\n",
    "import sys\n",
    "\n",
    "np.set_printoptions(threshold=sys.maxsize)\n",
    "\n",
    "#after\n",
    "print(np.arange(2000))"
   ]
  },
  {
   "cell_type": "markdown",
   "id": "d727624a",
   "metadata": {},
   "source": [
    "# Reshaping an array"
   ]
  },
  {
   "cell_type": "code",
   "execution_count": 88,
   "id": "c92dd254",
   "metadata": {},
   "outputs": [
    {
     "name": "stdout",
     "output_type": "stream",
     "text": [
      "(12,)\n",
      "(4, 3)\n",
      "(3, 4)\n",
      "(3, 4)\n",
      "(4, 3)\n",
      "(4, 3)\n"
     ]
    }
   ],
   "source": [
    "# before\n",
    "arr1=np.arange(12)\n",
    "print(arr1.shape)\n",
    "\n",
    "# after\n",
    "arr2=np.arange(12).reshape(4,3)\n",
    "print(arr2.shape)\n",
    "\n",
    "arr2=np.arange(12).reshape(3,-1) #also works with -1\n",
    "print(arr2.shape)\n",
    "\n",
    "# to interchange rows and colums\n",
    "print(arr2.shape)\n",
    "\n",
    "arr2.resize(4,3)\n",
    "\n",
    "print(arr2.shape)\n",
    "\n",
    "arr3=np.arange(12).reshape(3,-1).T\n",
    "print(arr3.shape)\n"
   ]
  },
  {
   "cell_type": "code",
   "execution_count": 97,
   "id": "2e040df0",
   "metadata": {},
   "outputs": [
    {
     "name": "stdout",
     "output_type": "stream",
     "text": [
      "[ 0  1  2  3  4  5  6  7  8  9 10 11 12 13 14 15 16 17 18 19]\n",
      "[[ 0  1  2  3  4]\n",
      " [ 5  6  7  8  9]\n",
      " [10 11 12 13 14]\n",
      " [15 16 17 18 19]]\n"
     ]
    },
    {
     "data": {
      "text/plain": [
       "array([[ 0,  4,  8, 12, 16],\n",
       "       [ 1,  5,  9, 13, 17],\n",
       "       [ 2,  6, 10, 14, 18],\n",
       "       [ 3,  7, 11, 15, 19]])"
      ]
     },
     "execution_count": 97,
     "metadata": {},
     "output_type": "execute_result"
    }
   ],
   "source": [
    "# row major format\n",
    "\n",
    "arr3= np.arange(20)\n",
    "print(arr3)\n",
    "print(np.reshape(arr3,(4,5),order='C'))\n",
    "\n",
    "# column major format\n",
    "\n",
    "np.reshape(arr3,(4,5),order='F')"
   ]
  },
  {
   "cell_type": "markdown",
   "id": "4d70b692",
   "metadata": {},
   "source": [
    "# Basic Operations"
   ]
  },
  {
   "cell_type": "code",
   "execution_count": 8,
   "id": "a1a7b15a",
   "metadata": {},
   "outputs": [
    {
     "name": "stdout",
     "output_type": "stream",
     "text": [
      "original array : [0 1 2 3 4]\n",
      "\n",
      "original array : [0 1 2 3 4] and add operation[2 3 4 5 6]\n",
      "\n",
      "original array : [0 1 2 3 4] and sub operation[-2 -1  0  1  2]\n",
      "\n",
      "original array : [0 1 2 3 4] and multi operation[0 2 4 6 8]\n",
      "\n",
      "original array : [0 1 2 3 4] and multi operation[0.  0.5 1.  1.5 2. ]\n",
      "\n",
      "original array : [0 1 2 3 4] and floor operation[0 0 1 1 2]\n",
      "\n",
      "original array : [0 1 2 3 4] and mod operation[0 1 0 1 0]\n",
      "\n",
      "original array : [0 1 2 3 4] and pow operation[ 0  1  4  9 16]\n",
      "\n"
     ]
    }
   ],
   "source": [
    "arr1=np.arange(0,5)\n",
    "\n",
    "print(f\"original array : { arr1}\\n\")\n",
    "print(f\"original array : { arr1} and add operation{arr1+2}\\n\")\n",
    "print(f\"original array : { arr1} and sub operation{arr1-2}\\n\")\n",
    "print(f\"original array : { arr1} and multi operation{arr1*2}\\n\")\n",
    "print(f\"original array : { arr1} and multi operation{arr1/2}\\n\")\n",
    "print(f\"original array : { arr1} and floor operation{arr1//2}\\n\")\n",
    "print(f\"original array : { arr1} and mod operation{arr1%2}\\n\")\n",
    "print(f\"original array : { arr1} and pow operation{arr1**2}\\n\")"
   ]
  },
  {
   "cell_type": "markdown",
   "id": "024435d1",
   "metadata": {},
   "source": [
    "# Comparison operations"
   ]
  },
  {
   "cell_type": "code",
   "execution_count": 17,
   "id": "077e8e3b",
   "metadata": {},
   "outputs": [
    {
     "name": "stdout",
     "output_type": "stream",
     "text": [
      "original array : [0 1 2 3 4 5 6 7 8 9]\n",
      "\n",
      "[False False False False False False  True  True  True  True]\n",
      "[6 7 8 9]\n",
      "[ True  True  True  True False False False False False False]\n",
      "[0 1 2 3]\n"
     ]
    }
   ],
   "source": [
    "arr1=np.arange(10)\n",
    "print(f\"original array : { arr1}\\n\")\n",
    "\n",
    "print(arr1>5)\n",
    "\n",
    "print(arr1[arr1>5])\n",
    "\n",
    "bol_array=arr1<4\n",
    "print(bol_array)\n",
    "print(arr1[arr1<4])\n"
   ]
  },
  {
   "cell_type": "markdown",
   "id": "e3b35f6c",
   "metadata": {},
   "source": [
    "# Unary Operations"
   ]
  },
  {
   "cell_type": "code",
   "execution_count": 30,
   "id": "5b861aae",
   "metadata": {},
   "outputs": [
    {
     "name": "stdout",
     "output_type": "stream",
     "text": [
      "original array : [2 6 4 7 9]\n",
      "\n",
      "sqrt function : [1.41421356 2.44948974 2.         2.64575131 3.        ]\n",
      "\n",
      "log function : [0.69314718 1.79175947 1.38629436 1.94591015 2.19722458]\n",
      "\n",
      "sin function : [ 0.90929743 -0.2794155  -0.7568025   0.6569866   0.41211849]\n",
      "\n",
      "sin function : [0.0348995  0.10452846 0.06975647 0.12186934 0.15643447]\n",
      "\n",
      "cos function : [0.99939083 0.9945219  0.99756405 0.99254615 0.98768834]\n",
      "\n",
      "arcsin(inverse sin) function : [0.03491368 0.1049121  0.06987    0.12247904 0.15773288]\n",
      "\n",
      "arctan(inverse cos) function : [0.03489242 0.10433946 0.06970008 0.12157057 0.1558065 ]\n",
      "\n"
     ]
    }
   ],
   "source": [
    "arr1=np.array([2,6,4,7,9])\n",
    "\n",
    "print(f\"original array : { arr1}\\n\")\n",
    "print(f\"sqrt function : {np.sqrt(arr1)}\\n\")\n",
    "print(f\"log function : {np.log(arr1)}\\n\")\n",
    "\n",
    "print(f\"sin function : {np.sin(arr1)}\\n\")\n",
    "\n",
    "# to get sin values in radian\n",
    "\n",
    "print(f\"sin function : {np.sin(arr1 * np.pi/180)}\\n\")\n",
    "print(f\"cos function : {np.cos(arr1 * np.pi/180)}\\n\")\n",
    "print(f\"arcsin(inverse sin) function : {np.arcsin(arr1 * np.pi/180)}\\n\")\n",
    "print(f\"arctan(inverse cos) function : {np.arctan(arr1 * np.pi/180)}\\n\")\n"
   ]
  },
  {
   "cell_type": "code",
   "execution_count": 3,
   "id": "cdabc60b",
   "metadata": {},
   "outputs": [
    {
     "name": "stdout",
     "output_type": "stream",
     "text": [
      "[[0 1 2]\n",
      " [3 4 5]\n",
      " [6 7 8]] \n",
      "\n",
      "[[0 1 2]\n",
      " [3 4 5]\n",
      " [6 7 8]] \n",
      "\n",
      "Scalar matrix :\n",
      " [[ 0  1  4]\n",
      " [ 9 16 25]\n",
      " [36 49 64]]\n",
      "Vector matrix: \n",
      "[[ 15  18  21]\n",
      " [ 42  54  66]\n",
      " [ 69  90 111]]\n"
     ]
    },
    {
     "data": {
      "text/plain": [
       "array([[ 15,  18,  21],\n",
       "       [ 42,  54,  66],\n",
       "       [ 69,  90, 111]])"
      ]
     },
     "execution_count": 3,
     "metadata": {},
     "output_type": "execute_result"
    }
   ],
   "source": [
    "# Scalar matrix multiplication\n",
    "\n",
    "arr1=np.arange(9).reshape(3,3)\n",
    "\n",
    "arr2=np.arange(9).reshape(3,3)\n",
    "print(arr1,\"\\n\")\n",
    "print(arr2,\"\\n\")\n",
    "print(f\"Scalar matrix :\\n {arr1*arr2}\")\n",
    "\n",
    "dot=np.dot(arr1,arr2)\n",
    "\n",
    "print(f\"Vector matrix: \\n{dot}\")\n",
    "arr1.dot(arr2)"
   ]
  },
  {
   "cell_type": "code",
   "execution_count": 17,
   "id": "47a67a00",
   "metadata": {},
   "outputs": [
    {
     "name": "stdout",
     "output_type": "stream",
     "text": [
      "sum function: 36\n",
      "max function: 8\n",
      "min function: 0\n",
      "mean function: 4.0\n",
      "median function: 4.0\n"
     ]
    },
    {
     "data": {
      "text/plain": [
       "4.0"
      ]
     },
     "execution_count": 17,
     "metadata": {},
     "output_type": "execute_result"
    }
   ],
   "source": [
    "# sum\n",
    "\n",
    "print(f\"sum function: {np.sum(arr1)}\")\n",
    "print(f\"max function: {np.max(arr1)}\")\n",
    "print(f\"min function: {np.min(arr1)}\")\n",
    "print(f\"mean function: {np.mean(arr1)}\")\n",
    "print(f\"median function: {np.median(arr1)}\")\n",
    "\n",
    "arr1.max()\n",
    "arr1.sum()\n",
    "arr1.min()\n",
    "arr1.mean()"
   ]
  },
  {
   "cell_type": "markdown",
   "id": "ce25102a",
   "metadata": {},
   "source": [
    "# Universal Functions"
   ]
  },
  {
   "cell_type": "code",
   "execution_count": 64,
   "id": "7502765a",
   "metadata": {},
   "outputs": [
    {
     "name": "stdout",
     "output_type": "stream",
     "text": [
      "add:  121\n",
      "add:  [1 5 7 5 7]\n",
      "multiply :  [ 0  4 10  6 12]\n",
      " Dot :  32\n",
      "square each element: \n",
      " [[  0   1   4   9]\n",
      " [ 16  25  36  49]\n",
      " [ 64  81 100 121]\n",
      " [144 169 196 225]]\n",
      "Radian of each element : \n",
      " [[0.         0.01745329 0.03490659 0.05235988]\n",
      " [0.06981317 0.08726646 0.10471976 0.12217305]\n",
      " [0.13962634 0.15707963 0.17453293 0.19198622]\n",
      " [0.20943951 0.2268928  0.2443461  0.26179939]]\n",
      "sin of each element : \n",
      " [[ 0.          0.84147098  0.90929743  0.14112001]\n",
      " [-0.7568025  -0.95892427 -0.2794155   0.6569866 ]\n",
      " [ 0.98935825  0.41211849 -0.54402111 -0.99999021]\n",
      " [-0.53657292  0.42016704  0.99060736  0.65028784]]\n",
      "Binary value of scalar num \n",
      " : 1101101\n",
      "[1 4 5 2 3] \n",
      " [0 1 2 3 4]\n",
      "Bitwise and function:  [0 0 0 2 0]\n",
      "Bitwise or function:  [1 5 7 3 7]\n",
      "Bitwise not function:  [-2 -5 -6 -3 -4]\n"
     ]
    }
   ],
   "source": [
    "import numpy as np\n",
    "\n",
    "arr1=np.array([1,4,5,2,3])\n",
    "arr2=np.arange(5)\n",
    "\n",
    "print(\"add: \",np.add(10,111))\n",
    "print(\"add: \",np.add(arr1,arr2))\n",
    "print(\"multiply : \", np.multiply(arr1,arr2)) #Scalar multiplication\n",
    "print(\" Dot : \",np.dot(arr1,arr2))\n",
    "\n",
    "arr3= np.arange(16).reshape(4,4)\n",
    "\n",
    "print(\"square each element: \\n\",np.square(arr3))\n",
    "print(\"Radian of each element : \\n\",np.radians(arr3))\n",
    "print(\"sin of each element : \\n\",np.sin(arr3))\n",
    "print(\"Binary value of scalar num \\n :\", np.binary_repr(109))\n",
    "\n",
    "print(arr1,\"\\n\",arr2)\n",
    "\n",
    "print(\"Bitwise and function: \",np.bitwise_and(arr1,arr2))\n",
    "print(\"Bitwise or function: \",np.bitwise_or(arr1,arr2))\n",
    "print(\"Bitwise not function: \",np.bitwise_not(arr1,arr2))\n"
   ]
  },
  {
   "cell_type": "markdown",
   "id": "a04ba2c1",
   "metadata": {},
   "source": [
    "# Statstical Functions"
   ]
  },
  {
   "cell_type": "markdown",
   "id": "bfbb8d82",
   "metadata": {},
   "source": [
    "#### mean\n",
    "#### median\n",
    "#### standard deviation\n",
    "#### variance"
   ]
  },
  {
   "cell_type": "code",
   "execution_count": 66,
   "id": "f8f5edb7",
   "metadata": {},
   "outputs": [
    {
     "name": "stdout",
     "output_type": "stream",
     "text": [
      "[1 4 5 2 3]\n",
      "Sum : 15\n",
      "Mean:  3.0\n",
      "Median:  3.0\n",
      "Mode: more number of repetations in array\n",
      "Standard deviation(std):  1.4142135623730951\n",
      "Variance:  2.0\n"
     ]
    }
   ],
   "source": [
    "print(arr1)\n",
    "print(\"Sum :\",np.sum(arr1))\n",
    "print(\"Mean: \",np.mean(arr1)) #sum/count of array\n",
    "print(\"Median: \",np.median(arr1)) #in ascending order of count is odd middle element if count is even sum of middle elem/2\n",
    "print(\"Mode: more number of repetations in array\")\n",
    "print(\"Standard deviation(std): \",np.std(arr1))\n",
    "print(\"Variance: \",np.var(arr1))"
   ]
  },
  {
   "cell_type": "markdown",
   "id": "67e739a7",
   "metadata": {},
   "source": [
    "# Indexing and slicing"
   ]
  },
  {
   "cell_type": "code",
   "execution_count": 95,
   "id": "802a430b",
   "metadata": {},
   "outputs": [
    {
     "name": "stdout",
     "output_type": "stream",
     "text": [
      "1d array index : 7\n",
      "2d array index for row;  [12 13 14 15 16 17]\n",
      "2d array index to get value :  15\n",
      "2d array index to get value :  15\n",
      "1d array slicing : [5 7 3]\n",
      "2d array slicing for row;\n",
      "  [[ 6  7  8  9 10 11]\n",
      " [12 13 14 15 16 17]]\n",
      "2d array slicing for row;\n",
      "  [[ 8  9 10]\n",
      " [14 15 16]]\n",
      "Length of array: 10\n",
      "Length of array: 6\n"
     ]
    }
   ],
   "source": [
    "arr1 =np.array([1,5,7,3,75,2,6,8,42,56])\n",
    "\n",
    "arr2=np.arange(36).reshape(6,6)\n",
    "\n",
    "print(\"1d array index :\",arr1[2])\n",
    "print(\"2d array index for row; \",arr2[2]) # it prints entire row\n",
    "print(\"2d array index to get value : \",arr2[2][3])\n",
    "print(\"2d array index to get value : \",arr2[2,3])# another way\n",
    "\n",
    "#Slicing\n",
    "print(\"1d array slicing :\",arr1[1:4])\n",
    "print(\"2d array slicing for row;\\n \",arr2[1:3]) #to get only rows\n",
    "print(\"2d array slicing for row;\\n \",arr2[1:3,2:5]) #to slice rows and colums\n",
    "print(\"Length of array:\",len(arr1))\n",
    "print(\"Length of array:\",len(arr2)) #displays how many rows"
   ]
  },
  {
   "cell_type": "code",
   "execution_count": 98,
   "id": "e4fa57de",
   "metadata": {},
   "outputs": [
    {
     "name": "stdout",
     "output_type": "stream",
     "text": [
      "(1, 4, 3, 5, 2)\n",
      "Getting values of array with another array values: [ 5 75  3  2  7]\n",
      "[[ 0  1  2  3  4  5]\n",
      " [ 6  7  8  9 10 11]\n",
      " [12 13 14 15 16 17]\n",
      " [18 19 20 21 22 23]\n",
      " [24 25 26 27 28 29]\n",
      " [30 31 32 33 34 35]]\n",
      "Getting values of 2d array with 2 another array values: [ 8 28 23 30 17]\n"
     ]
    }
   ],
   "source": [
    "arr3=np.arange(7)\n",
    "\n",
    "x=arr3[1],arr3[4],arr3[3],arr3[5],arr3[2] # returns a tuplel\n",
    "print(x)\n",
    "\n",
    "index_array=np.array(x)\n",
    "print(\"Getting values of array with another array values:\",arr1[index_array])\n",
    "\n",
    "#for two dimensional arrays\n",
    "\n",
    "second_index_array=np.array([2,4,5,0,5])\n",
    "print(arr2)\n",
    "\n",
    "print(\"Getting values of 2d array with 2 another array values:\",arr2[index_array,second_index_array]) #row,column values "
   ]
  },
  {
   "cell_type": "code",
   "execution_count": 114,
   "id": "314b4ca1",
   "metadata": {},
   "outputs": [
    {
     "name": "stdout",
     "output_type": "stream",
     "text": [
      "To get count of non zeros 35\n",
      "To get count of number value more thn given: 29\n",
      "To get count of number value more thn given in each row: [0 5 6 6 6 6]\n",
      "To get count of number value more thn given in each column: [4 5 5 5 5 5]\n",
      "if any zero is there in matrix: True\n",
      "if only all zeros : False\n",
      "if all values greater than 5 : False\n",
      "if any value greater than 5 in matrix : True\n"
     ]
    }
   ],
   "source": [
    "print(\"To get count of non zeros\",np.count_nonzero(arr2))\n",
    "print(\"To get count of number value more thn given:\",np.count_nonzero(arr2>6))\n",
    "print(\"To get count of number value more thn given in each row:\",np.sum(arr2>6,axis=1))\n",
    "print(\"To get count of number value more thn given in each column:\",np.sum(arr2>6,axis=0))\n",
    "print(\"if any zero is there in matrix:\",np.any(arr2))\n",
    "print(\"if only all zeros :\",np.all(arr2))\n",
    "print(\"if all values greater than 5 :\",np.all(arr2>5))\n",
    "print(\"if any value greater than 5 in matrix :\",np.any(arr2>5))"
   ]
  },
  {
   "cell_type": "markdown",
   "id": "a3cf8198",
   "metadata": {},
   "source": [
    "# Structured array (Creating custom dtype)"
   ]
  },
  {
   "cell_type": "code",
   "execution_count": 8,
   "id": "83306787",
   "metadata": {},
   "outputs": [
    {
     "name": "stdout",
     "output_type": "stream",
     "text": [
      "[('', 0., 0) ('', 0., 0) ('', 0., 0)]\n",
      "dtpe:  [('name', '<U10'), ('sal', '<f8'), ('id', '<i4')]\n",
      "Adding values\n",
      "[('Ram', 500.56,  1001) ('Bheem', 709.45,  1002) ('Veera', 105.89, 10003)]\n"
     ]
    }
   ],
   "source": [
    "emp_name=['Ram','Bheem','Veera']\n",
    "emp_sal=[500.56,709.45,105.89]\n",
    "emp_id=[1001,1002,10003]\n",
    "\n",
    "cust_dtype=[('name',('U10')),('sal',(np.float64)),('id',(np.int32))]  #('name',(np_str,10))\n",
    "\n",
    "new_arr=np.zeros(3,dtype=cust_dtype)\n",
    "print(new_arr)\n",
    "print('dtpe: ',new_arr.dtype)\n",
    "print(\"Adding values\")\n",
    "new_arr['name']=emp_name\n",
    "new_arr['sal']=emp_sal\n",
    "new_arr['id']=emp_id\n",
    "\n",
    "print(new_arr)"
   ]
  },
  {
   "cell_type": "markdown",
   "id": "bc6964a8",
   "metadata": {},
   "source": [
    "# Array Broad casting"
   ]
  },
  {
   "cell_type": "code",
   "execution_count": 64,
   "id": "f894c977",
   "metadata": {},
   "outputs": [
    {
     "name": "stdout",
     "output_type": "stream",
     "text": [
      "Column Broadcasting\n",
      "(3,) (4, 3)\n",
      "[[ 1  3  5]\n",
      " [ 4  6  8]\n",
      " [ 7  9 11]\n",
      " [10 12 14]] \n",
      "\n",
      "Row Broadcasting\n",
      "(4, 1) (4, 3)\n",
      "[[ 1  2  3]\n",
      " [ 5  6  7]\n",
      " [ 9 10 11]\n",
      " [13 14 15]] \n",
      "\n",
      "Row & Column Broadcasting\n",
      "(4, 1) (4,)\n",
      "[[1 2 3 4]\n",
      " [2 3 4 5]\n",
      " [3 4 5 6]\n",
      " [4 5 6 7]] \n",
      "\n"
     ]
    }
   ],
   "source": [
    "# applicable in arithmetic operation of different shape\n",
    "print(\"Column Broadcasting\")\n",
    "arr1=np.arange(12).reshape(4,-1)\n",
    "arr2=np.array([1,2,3])\n",
    "\n",
    "print(arr2.shape,arr1.shape)   #(5,5)(1,5)\n",
    "arr3=arr1+arr2\n",
    "print(arr3,\"\\n\")\n",
    "\n",
    "print(\"Row Broadcasting\")\n",
    "arr1=np.arange(12).reshape(4,3)\n",
    "arr2=np.array([1,2,3,4]).reshape((4,1)) #(5,5)(5,1)\n",
    "\n",
    "print(arr2.shape,arr1.shape)\n",
    "arr3=arr1+arr2\n",
    "print(arr3,\"\\n\")\n",
    "\n",
    "print(\"Row & Column Broadcasting\")\n",
    "arr1=np.arange(4)\n",
    "arr2=np.array([1,2,3,4]).reshape((4,1)) #(5,5)(5,1)\n",
    "\n",
    "\n",
    "print(arr2.shape,arr1.shape)   #(1,5)(5,1)\n",
    "arr3=arr1+arr2\n",
    "print(arr3,\"\\n\")"
   ]
  },
  {
   "cell_type": "markdown",
   "id": "c84ca023",
   "metadata": {},
   "source": [
    "# Iterating over an array"
   ]
  },
  {
   "cell_type": "code",
   "execution_count": 88,
   "id": "e3e185e9",
   "metadata": {},
   "outputs": [
    {
     "name": "stdout",
     "output_type": "stream",
     "text": [
      "a\n",
      "c\n",
      "f\n",
      "r\n",
      "t\n",
      "r\n",
      "\n",
      "[0 1 2]\n",
      "0\n",
      "1\n",
      "2\n",
      "[3 4 5]\n",
      "3\n",
      "4\n",
      "5\n",
      "[6 7 8]\n",
      "6\n",
      "7\n",
      "8\n",
      "[ 9 10 11]\n",
      "9\n",
      "10\n",
      "11\n",
      "\n",
      "0\n",
      "1\n",
      "2\n",
      "3\n",
      "4\n",
      "5\n",
      "6\n",
      "7\n",
      "8\n",
      "9\n",
      "10\n",
      "11\n"
     ]
    }
   ],
   "source": [
    "#in single dimension\n",
    "\n",
    "arr1=np.array(['a','c','f','r','t','r'])\n",
    "\n",
    "for i in arr1:\n",
    "    print(i)\n",
    "# In two dimension\n",
    "\n",
    "print()\n",
    "arr2=np.arange(12).reshape(4,-1)\n",
    "\n",
    "for i in arr2:\n",
    "    print(i)\n",
    "    for j in i:\n",
    "        print(j)\n",
    "#another way with single for\n",
    "print()\n",
    "for i in arr2.flatten(): #make 2d array into 1 d array\n",
    "    print(i)"
   ]
  },
  {
   "cell_type": "markdown",
   "id": "c6cfe1ad",
   "metadata": {},
   "source": [
    "# Splitting an array"
   ]
  },
  {
   "cell_type": "code",
   "execution_count": 104,
   "id": "7701a294",
   "metadata": {},
   "outputs": [
    {
     "name": "stdout",
     "output_type": "stream",
     "text": [
      "a:  [0 1 2 3 4]\n",
      "b:  [5 6 7 8 9]\n",
      "[array([0, 1, 2, 3]), array([4, 5, 6]), array([7, 8, 9])]\n"
     ]
    }
   ],
   "source": [
    "arr1=np.arange(10)\n",
    "\n",
    "#splitting into equal parts\n",
    "a,b=np.split(arr1,2)\n",
    "print('a: ',a)\n",
    "print('b: ',b)\n",
    "\n",
    "#splitting at different position\n",
    "print(np.split(arr1,[4,7]))"
   ]
  },
  {
   "cell_type": "code",
   "execution_count": 119,
   "id": "d11f394e",
   "metadata": {},
   "outputs": [
    {
     "name": "stdout",
     "output_type": "stream",
     "text": [
      "a: \n",
      " [[ 0  1]\n",
      " [ 4  5]\n",
      " [ 8  9]\n",
      " [12 13]]\n",
      "b: \n",
      " [[ 2  3]\n",
      " [ 6  7]\n",
      " [10 11]\n",
      " [14 15]]\n",
      "[array([[ 0,  1,  2,  3,  4,  5],\n",
      "       [ 6,  7,  8,  9, 10, 11]]), array([[12, 13, 14, 15, 16, 17],\n",
      "       [18, 19, 20, 21, 22, 23]]), array([[24, 25, 26, 27, 28, 29]])]\n"
     ]
    }
   ],
   "source": [
    "#Splitting 2d array\n",
    "arr2=np.arange(16).reshape(4,-1)\n",
    "\n",
    "a,b=np.split(arr2,2,axis=1)  \n",
    "print('a: \\n',a)\n",
    "print('b: \\n',b)\n",
    "\n",
    "arr3=np.arange(30).reshape(5,-1)\n",
    "print(np.split(arr3,[2,4],axis=0))"
   ]
  },
  {
   "cell_type": "code",
   "execution_count": 125,
   "id": "abd63dd5",
   "metadata": {},
   "outputs": [
    {
     "name": "stdout",
     "output_type": "stream",
     "text": [
      "[array([0, 1]), array([2, 3, 4, 5, 6, 7, 8, 9])]\n",
      "[array([[ 0,  1,  2,  3,  4,  5],\n",
      "       [ 6,  7,  8,  9, 10, 11]]), array([[12, 13, 14, 15, 16, 17],\n",
      "       [18, 19, 20, 21, 22, 23]]), array([[24, 25, 26, 27, 28, 29]])]\n"
     ]
    }
   ],
   "source": [
    "#Another way of splitting\n",
    "\n",
    "print(np.hsplit(arr1,[2,]))\n",
    "print(np.vsplit(arr3,[2,4]))"
   ]
  },
  {
   "cell_type": "markdown",
   "id": "491cc490",
   "metadata": {},
   "source": [
    "# Argsort function"
   ]
  },
  {
   "cell_type": "code",
   "execution_count": 7,
   "id": "bdbd8cb2",
   "metadata": {},
   "outputs": [
    {
     "name": "stdout",
     "output_type": "stream",
     "text": [
      "[4 0 3 1 2 6 5]\n",
      "[ 2  5  7  3  1 15 10]\n"
     ]
    },
    {
     "data": {
      "text/plain": [
       "array([ 1,  2,  3,  5,  7, 10, 15])"
      ]
     },
     "execution_count": 7,
     "metadata": {},
     "output_type": "execute_result"
    }
   ],
   "source": [
    "arr1=np.array([2,5,7,3,1,15,10])\n",
    "\n",
    "print(np.argsort(arr1))\n",
    "print(arr1)\n",
    "\n",
    "arr2=arr1[np.argsort(arr1)]\n",
    "arr2"
   ]
  },
  {
   "cell_type": "markdown",
   "id": "acdd6a41",
   "metadata": {},
   "source": [
    "# View and copy"
   ]
  },
  {
   "cell_type": "code",
   "execution_count": 16,
   "id": "2efd4a73",
   "metadata": {},
   "outputs": [
    {
     "name": "stdout",
     "output_type": "stream",
     "text": [
      "Before change\n",
      "[1 2 3 4 5]\n",
      "[3 4 5]\n",
      "After change\n",
      "[  1   2 222   4   5]\n",
      "[222   4   5]\n",
      "\n",
      "*********View Function**********\n",
      "\n",
      "Before change\n",
      "[  1   2 222   4   5]\n",
      "[  1   2 222   4   5]\n",
      "After change\n",
      "[  1   2 289   4   5]\n",
      "[  1   2 289   4   5]\n",
      "\n",
      "*********Copy Function**********\n",
      "\n",
      "Before change\n",
      "[  1   2 289   4   5]\n",
      "[  1   2 289   4   5]\n",
      "After change\n",
      "[  1   2 253   4   5]\n",
      "[  1   2 289   4   5]\n"
     ]
    }
   ],
   "source": [
    "# another way of viewing array as alias\n",
    "\n",
    "arr1=np.array([1,2,3,4,5])\n",
    "\n",
    "v1=arr1[2:5]   #alaias\n",
    "\n",
    "print(\"Before change\")\n",
    "print(arr1)\n",
    "print(v1)\n",
    "\n",
    "\n",
    "arr1[2]=222\n",
    "print(\"After change\")\n",
    "print(arr1)\n",
    "print(v1)\n",
    "      \n",
    "      \n",
    "      \n",
    "print(\"\\n*********View Function**********\\n\")\n",
    "v1=arr1.view()  #Shallow copy\n",
    "\n",
    "print(\"Before change\")\n",
    "print(arr1)\n",
    "print(v1)\n",
    "\n",
    "\n",
    "arr1[2]=289\n",
    "print(\"After change\")\n",
    "print(arr1)\n",
    "print(v1)\n",
    "\n",
    "      \n",
    "      \n",
    "print(\"\\n*********Copy Function**********\\n\")\n",
    "v1=np.copy(arr1) #Deep copy\n",
    "\n",
    "print(\"Before change\")\n",
    "print(arr1)\n",
    "print(v1)\n",
    "\n",
    "\n",
    "arr1[2]=253\n",
    "print(\"After change\")\n",
    "print(arr1)\n",
    "print(v1)"
   ]
  },
  {
   "cell_type": "markdown",
   "id": "80fdb806",
   "metadata": {},
   "source": [
    "# Automatic Reshaping"
   ]
  },
  {
   "cell_type": "code",
   "execution_count": 19,
   "id": "3a6845a3",
   "metadata": {},
   "outputs": [
    {
     "data": {
      "text/plain": [
       "array([[[ 0,  1,  2,  3,  4],\n",
       "        [ 5,  6,  7,  8,  9]],\n",
       "\n",
       "       [[10, 11, 12, 13, 14],\n",
       "        [15, 16, 17, 18, 19]]])"
      ]
     },
     "execution_count": 19,
     "metadata": {},
     "output_type": "execute_result"
    }
   ],
   "source": [
    "arr1=np.arange(20)\n",
    "arr1.shape=4,5  #2d array\n",
    "arr1\n",
    "\n",
    "arr1=np.arange(20)\n",
    "arr1.shape=2,2,5  #3d array\n",
    "arr1"
   ]
  },
  {
   "cell_type": "markdown",
   "id": "83ce2990",
   "metadata": {},
   "source": [
    "# Stacking/Concatination"
   ]
  },
  {
   "cell_type": "code",
   "execution_count": 29,
   "id": "5e3cae11",
   "metadata": {},
   "outputs": [
    {
     "name": "stdout",
     "output_type": "stream",
     "text": [
      "[[ 0  1]\n",
      " [ 2  3]\n",
      " [ 4  5]\n",
      " [ 7  8]\n",
      " [ 9 10]\n",
      " [11 12]]\n",
      "[[ 0  1  7  8]\n",
      " [ 2  3  9 10]\n",
      " [ 4  5 11 12]]\n",
      "[[ 0  1]\n",
      " [ 2  3]\n",
      " [ 4  5]\n",
      " [ 7  8]\n",
      " [ 9 10]\n",
      " [11 12]]\n",
      "[[ 0  1  7  8]\n",
      " [ 2  3  9 10]\n",
      " [ 4  5 11 12]]\n"
     ]
    }
   ],
   "source": [
    "# Shape of both arrays should be same\n",
    "\n",
    "arr1=np.arange(6).reshape(3,2)\n",
    "arr2=np.arange(7,13).reshape(3,2)\n",
    "\n",
    "arr3=np.concatenate((arr1,arr2))\n",
    "arr4=np.concatenate((arr1,arr2) ,axis=1) #Vertical Conversion\n",
    "print(arr3)\n",
    "print(arr4)\n",
    "\n",
    "\n",
    "#Stack\n",
    "arr3=np.vstack((arr1,arr2))\n",
    "arr4=np.hstack((arr1,arr2)) #Vertical Conversion\n",
    "print(arr3)\n",
    "print(arr4)"
   ]
  },
  {
   "cell_type": "markdown",
   "id": "956910f8",
   "metadata": {},
   "source": [
    "# Handling csv file in numpy"
   ]
  },
  {
   "cell_type": "code",
   "execution_count": null,
   "id": "cae1c306",
   "metadata": {},
   "outputs": [],
   "source": [
    "# get elements from csv file\n",
    "\n",
    "# pop_data=np.genfromtxt('Filename.csv',delimiter=',',skip_header=1,usecols=1)\n",
    "\n",
    "np.argmax(pop_data)#returns max index value\n",
    "np.argmin(pop_data) #return min index value\n",
    "np.argsort(pop_data) #sorts array and return indexes in ascending order\n",
    "np.extract(pop_data>20,pop_data)# returns the satisfying the given condition"
   ]
  }
 ],
 "metadata": {
  "kernelspec": {
   "display_name": "Python 3 (ipykernel)",
   "language": "python",
   "name": "python3"
  },
  "language_info": {
   "codemirror_mode": {
    "name": "ipython",
    "version": 3
   },
   "file_extension": ".py",
   "mimetype": "text/x-python",
   "name": "python",
   "nbconvert_exporter": "python",
   "pygments_lexer": "ipython3",
   "version": "3.9.7"
  }
 },
 "nbformat": 4,
 "nbformat_minor": 5
}
