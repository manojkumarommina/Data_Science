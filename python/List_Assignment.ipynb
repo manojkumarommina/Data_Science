{
 "cells": [
  {
   "cell_type": "code",
   "execution_count": 5,
   "metadata": {
    "id": "gtlAv2oq9yzd"
   },
   "outputs": [
    {
     "name": "stdout",
     "output_type": "stream",
     "text": [
      "100\n"
     ]
    }
   ],
   "source": [
    "#Write a Python program to find the sum of all elements in a list using loop.\n",
    "#Input:- [10,20,30,40]\n",
    "#Output:- 100\n",
    "\n",
    "my_list=[10,20,30,40]\n",
    "\n",
    "#print(sum(my_list))\n",
    "num=0\n",
    "\n",
    "for i in my_list:\n",
    "    num+=i\n",
    "print(num)"
   ]
  },
  {
   "cell_type": "code",
   "execution_count": 2,
   "metadata": {
    "id": "gTbA8psa93Y_"
   },
   "outputs": [
    {
     "name": "stdout",
     "output_type": "stream",
     "text": [
      "240000\n"
     ]
    }
   ],
   "source": [
    "#Write a Python program to find the multiplication of all elements in a list using loop.\n",
    "#Input:- [10,20,30,40]\n",
    "#Output:- 240000\n",
    "\n",
    "my_list=[10,20,30,40]\n",
    "num=1\n",
    "\n",
    "for i in my_list:\n",
    "    num*=i\n",
    "print(num)"
   ]
  },
  {
   "cell_type": "code",
   "execution_count": 8,
   "metadata": {
    "id": "XBCrEtLN94Lj"
   },
   "outputs": [
    {
     "name": "stdout",
     "output_type": "stream",
     "text": [
      "2321\n",
      "2321\n"
     ]
    }
   ],
   "source": [
    "#Write a Python program to find the largest number from a list using loop.\n",
    "#Input:- [10,100,2321, 1,200,2]\n",
    "#Output:- 2321\n",
    "\n",
    "\n",
    "my_list=[10,100,2321,1,200,2]\n",
    "\n",
    "maxn=my_list[0]\n",
    "for i in my_list:\n",
    "    if i>maxn:\n",
    "        maxn=i\n",
    "print(maxn)\n",
    "print(max(my_list))\n",
    "    \n",
    "\n",
    "\n"
   ]
  },
  {
   "cell_type": "code",
   "execution_count": 9,
   "metadata": {
    "id": "l3paUtbH94Vw"
   },
   "outputs": [
    {
     "name": "stdout",
     "output_type": "stream",
     "text": [
      "1\n"
     ]
    }
   ],
   "source": [
    "#Write a Python program to find the smallest number from a list using loop.\n",
    "#Input:- [10,100,2321, 1,200,2]\n",
    "#Output:- 1\n",
    "\n",
    "my_list=[10,100,2321,1,200,2]\n",
    "\n",
    "minn=my_list[0]\n",
    "for i in my_list:\n",
    "    if i<minn:\n",
    "        minn=i\n",
    "print(minn)\n"
   ]
  },
  {
   "cell_type": "code",
   "execution_count": 12,
   "metadata": {
    "id": "JTVgy5VD94cE"
   },
   "outputs": [
    {
     "name": "stdout",
     "output_type": "stream",
     "text": [
      "aba\n",
      "aba\n",
      "1991\n",
      "1991\n",
      "2\n"
     ]
    }
   ],
   "source": [
    "#Write a Python program to count the number of strings having length more than 2 and are palindrome in a list using loop.\n",
    "#Input:- ['ab', 'abc', 'aba', 'xyz', '1991']\n",
    "#Output:- 2\n",
    "\n",
    "my_list=['ab', 'abc', 'aba', 'xyz', '1991']\n",
    "num=0\n",
    "for i in my_list:\n",
    "    if len(i)>2 and i[::]==i[::-1]:\n",
    "        num+=1\n",
    "print(num)"
   ]
  },
  {
   "cell_type": "code",
   "execution_count": 18,
   "metadata": {
    "id": "xs-ZGJbJ94gr"
   },
   "outputs": [
    {
     "name": "stdout",
     "output_type": "stream",
     "text": [
      "[1, 2, 9, 10, 65, 80, 100, 298, 483, 9213, 49876]\n",
      "[1, 2, 9, 10, 65, 80, 100, 298, 483, 9213, 49876]\n",
      "[1, 2, 9, 10, 65, 80, 100, 298, 483, 9213, 49876]\n"
     ]
    }
   ],
   "source": [
    "#Write a Python program to sort a list in ascending order using loop.\n",
    "#Input:- [100,10,1,298,65,483,49876,2,80,9,9213]\n",
    "#Output:- [1,2,9,10,65,80,100,298,483,9213,49876]\n",
    "\n",
    "\n",
    "my_list=[100,10,1,298,65,483,49876,2,80,9,9213]\n",
    "i=0\n",
    "while i<len(my_list):\n",
    "    i+=1\n",
    "    for j in range(1,len(my_list)):\n",
    "        if my_list[j-1]>my_list[j]:\n",
    "            c=my_list[j-1]\n",
    "            my_list[j-1]=my_list[j]\n",
    "            my_list[j]=c\n",
    "            \n",
    "print(my_list)\n",
    "print(sorted(my_list))\n",
    "my_list1=[100,10,1,298,65,483,49876,2,80,9,9213]\n",
    "my_list1.sort()\n",
    "print(my_list1)"
   ]
  },
  {
   "cell_type": "code",
   "execution_count": 1,
   "metadata": {
    "id": "VhKQJizZ94kg"
   },
   "outputs": [
    {
     "name": "stdout",
     "output_type": "stream",
     "text": [
      "[(9, 1), (2, 3), (5, 4), (5, 5), (7, 6), (5, 9)]\n",
      "[(9, 1), (2, 3), (5, 4), (5, 5), (7, 6), (5, 9)]\n"
     ]
    }
   ],
   "source": [
    "#Write a Python program to get a sorted list in increasing order of last element in each tuple in a given list using loop.\n",
    "#Input:- [(5,4),(9,1),(2,3),(5,9),(7,6),(5,5)]\n",
    "#output:- [(9,1),(2,3),(5,4),(5,5),(7,6),(5,9)]\n",
    "\n",
    "my_list=[(5,4),(9,1),(2,3),(5,9),(7,6),(5,5)]\n",
    "\n",
    "print(sorted(my_list,key=lambda x:x[1]))\n",
    "\n",
    "i=1\n",
    "while i<len(my_list):\n",
    "    i+=1\n",
    "    for j in range(1,len(my_list)):\n",
    "        if my_list[j-1][-1]>my_list[j][-1]:\n",
    "            c=my_list[j-1]\n",
    "            my_list[j-1]=my_list[j]\n",
    "            my_list[j]=c\n",
    "print(my_list)    "
   ]
  },
  {
   "cell_type": "code",
   "execution_count": 23,
   "metadata": {
    "id": "YJrCLYp694n_"
   },
   "outputs": [
    {
     "name": "stdout",
     "output_type": "stream",
     "text": [
      "[10, 1, 11, 29, 876, 768, 92]\n",
      "[768, 1, 10, 11, 876, 92, 29]\n"
     ]
    }
   ],
   "source": [
    "#Write a Python program to remove fuplicate element from a list using loop.\n",
    "#Input:- [10,1,11,1,29,876,768,10,11,1,92,29,876]\n",
    "#Output:- [10,1,11,29,876,768,92]\n",
    "\n",
    "\n",
    "my_list=[10,1,11,1,29,876,768,10,11,1,92,29,876]\n",
    "new_list=[]\n",
    "\n",
    "for i in my_list:\n",
    "    if i not in new_list:\n",
    "        new_list.append(i)\n",
    "        \n",
    "print(new_list)    \n",
    "\n",
    "set1=set(my_list)\n",
    "my_list=list(set1)\n",
    "print(my_list)\n",
    "\n"
   ]
  },
  {
   "cell_type": "code",
   "execution_count": 26,
   "metadata": {
    "id": "koYe4YCu94rh"
   },
   "outputs": [
    {
     "name": "stdout",
     "output_type": "stream",
     "text": [
      "List is not empty\n"
     ]
    }
   ],
   "source": [
    "#Write a Python program to check a list is empty or not?\n",
    "#Input:- []\n",
    "#Output:- List is empty\n",
    "#Input:- [10,20,30]\n",
    "#Output:- List is not empty\n",
    "\n",
    "\n",
    "my_str=[10,20,30]\n",
    "\n",
    "\n",
    "if len(my_str)==0:\n",
    "    print(\"List is empty\")\n",
    "else:\n",
    "    print(\"List is not empty\")\n",
    "\n"
   ]
  },
  {
   "cell_type": "code",
   "execution_count": 28,
   "metadata": {
    "id": "mES1WANa94u5"
   },
   "outputs": [
    {
     "name": "stdout",
     "output_type": "stream",
     "text": [
      "[10, 10.2, (10+20j), 'Python', [10, 20], (10, 20)]\n",
      "[10, 10.2, (10+20j), 'Python', [10, 20], (10, 20)]\n"
     ]
    }
   ],
   "source": [
    "#Write a Python program to copy a list using loop.\n",
    "#inp_lst = [10,10.20,10+20j, 'Python', [10,20], (10,20)]\n",
    "#out_lst = [10,10.20,10+20j, 'Python', [10,20], (10,20)]\n",
    "\n",
    "my_list=[10,10.20,10+20j, 'Python', [10,20], (10,20)]\n",
    "\n",
    "my_list2=[]\n",
    "\n",
    "for i in my_list:\n",
    "    my_list2.append(i)\n",
    "print(my_list2)\n",
    "\n",
    "my_list2=my_list.copy()\n",
    "print(my_list2)\n"
   ]
  },
  {
   "cell_type": "code",
   "execution_count": 32,
   "metadata": {
    "id": "CpBh31WO94yi"
   },
   "outputs": [
    {
     "name": "stdout",
     "output_type": "stream",
     "text": [
      "['much', 'wood', 'would', 'woodchuck', 'chuck', 'could']\n"
     ]
    }
   ],
   "source": [
    "#Write a Python program to find the list of words that are longer than or equal to 4 from a given string.\n",
    "#Input:- 'How much wood would a woodchuck chuck if a woodchuck could chuck wood'\n",
    "#Output:- ['much', 'wood', 'would', 'woodchuck', 'chuck', 'could']\n",
    "#Note:- Duplicate should be avoided.\n",
    "\n",
    "strr='How much wood would a woodchuck chuck if a woodchuck could chuck wood'\n",
    "my_list=[]\n",
    "\n",
    "for i in strr.split(' '):\n",
    "    if len(i)>=4 and i not in my_list:\n",
    "        my_list.append(i)\n",
    "\n",
    "print(my_list)"
   ]
  },
  {
   "cell_type": "code",
   "execution_count": 38,
   "metadata": {
    "id": "YVfj0fgZ9416"
   },
   "outputs": [
    {
     "name": "stdout",
     "output_type": "stream",
     "text": [
      "4\n",
      "True\n"
     ]
    }
   ],
   "source": [
    "#Write a Python program which takes two list as input and returns True if they have at least 3 common elements.\n",
    "#inp_lst1 = [10,20,'Python', 10.20, 10+20j, [10,20,30], (10,20,30)]\n",
    "#inp_lst2 = [(10,20,30),1,20+3j,100.2, 10+20j, [10,20,30],'Python']\n",
    "#Output:- True\n",
    "\n",
    "inp_lst1 = [10,20,'Python', 10.20, 10+20j, [10,20,30], (10,20,30)]\n",
    "inp_lst2 = [(10,20,30),1,20+3j,100.2, 10+20j, [10,20,30],'Python']\n",
    "\n",
    "n=0\n",
    "for i in inp_lst1:\n",
    "    for j in inp_lst2:\n",
    "        if i==j:\n",
    "            n+=1\n",
    "\n",
    "if n>=3:\n",
    "    print(True)\n",
    "else:\n",
    "    print(False)"
   ]
  },
  {
   "cell_type": "code",
   "execution_count": 1,
   "metadata": {
    "id": "7vwc3pjR945O"
   },
   "outputs": [
    {
     "name": "stdout",
     "output_type": "stream",
     "text": [
      "Enter 0 X 0 element: 0\n",
      "Enter 0 X 1 element: 0\n",
      "Enter 0 X 2 element: 0\n",
      "Enter 0 X 3 element: 0\n",
      "list [0, 0, 0, 0] added to main list\n",
      "Enter 1 X 0 element: 0\n",
      "Enter 1 X 1 element: 1\n",
      "Enter 1 X 2 element: 2\n",
      "Enter 1 X 3 element: 3\n",
      "list [0, 1, 2, 3] added to main list\n",
      "Enter 2 X 0 element: 0\n",
      "Enter 2 X 1 element: 2\n",
      "Enter 2 X 2 element: 4\n",
      "Enter 2 X 3 element: 6\n",
      "list [0, 2, 4, 6] added to main list\n",
      "Enter 3 X 0 element: 0\n",
      "Enter 3 X 1 element: 3\n",
      "Enter 3 X 2 element: 6\n",
      "Enter 3 X 3 element: 9\n",
      "list [0, 3, 6, 9] added to main list\n",
      "4 X4 2d matrix list is :[[0, 0, 0, 0], [0, 1, 2, 3], [0, 2, 4, 6], [0, 3, 6, 9]]\n"
     ]
    }
   ],
   "source": [
    "#Write a Python program to create a 4X4 2D matrix with below elements using loop and list comprehension both.\n",
    "#Output:- [[0,0,0,0],[0,1,2,3],[0,2,4,6],[0,3,6,9]]\n",
    "\n",
    "new_list=[]\n",
    "i=0\n",
    "\n",
    "while i<4:\n",
    "    \n",
    "    temp_list=[]\n",
    "    for j in range(0,4):\n",
    "        temp_list.append(int(input(f\"Enter {i} X {j} element: \")))\n",
    "    print(f\"list {temp_list} added to main list\")\n",
    "    new_list.append(temp_list)\n",
    "    i+=1\n",
    "print(f\"4 X4 2d matrix list is :{new_list}\")\n",
    "        \n"
   ]
  },
  {
   "cell_type": "code",
   "execution_count": 3,
   "metadata": {
    "id": "Pxafor84948b"
   },
   "outputs": [
    {
     "name": "stdout",
     "output_type": "stream",
     "text": [
      "Enter 0 X 0 X 0 element: 0\n",
      "Enter 0 X 0 X 1 element: 0\n",
      "Enter 0 X 0 X 2 element: 0\n",
      "Enter 0 X 0 X 3 element: 0\n",
      "Enter 0 X 0 X 4 element: 0\n",
      "Enter 0 X 0 X 5 element: 0\n",
      "list [0, 0, 0, 0, 0, 0] added to sub list\n",
      "Enter 0 X 1 X 0 element: 1\n",
      "Enter 0 X 1 X 1 element: 1\n",
      "Enter 0 X 1 X 2 element: 1\n",
      "Enter 0 X 1 X 3 element: 1\n",
      "Enter 0 X 1 X 4 element: 1\n",
      "Enter 0 X 1 X 5 element: 1\n",
      "list [1, 1, 1, 1, 1, 1] added to sub list\n",
      "Enter 0 X 2 X 0 element: 2\n",
      "Enter 0 X 2 X 1 element: 2\n",
      "Enter 0 X 2 X 2 element: 2\n",
      "Enter 0 X 2 X 3 element: 2\n",
      "Enter 0 X 2 X 4 element: 2\n",
      "Enter 0 X 2 X 5 element: 2\n",
      "list [2, 2, 2, 2, 2, 2] added to sub list\n",
      "Enter 0 X 3 X 0 element: 3\n",
      "Enter 0 X 3 X 1 element: 3\n",
      "Enter 0 X 3 X 2 element: 3\n",
      "Enter 0 X 3 X 3 element: 3\n",
      "Enter 0 X 3 X 4 element: 3\n",
      "Enter 0 X 3 X 5 element: 3\n",
      "list [3, 3, 3, 3, 3, 3] added to sub list\n",
      "list [[0, 0, 0, 0, 0, 0], [1, 1, 1, 1, 1, 1], [2, 2, 2, 2, 2, 2], [3, 3, 3, 3, 3, 3]] added to main list\n",
      "Enter 1 X 0 X 0 element: 4\n",
      "Enter 1 X 0 X 1 element: 4\n",
      "Enter 1 X 0 X 2 element: 4\n",
      "Enter 1 X 0 X 3 element: 4\n",
      "Enter 1 X 0 X 4 element: 4\n",
      "Enter 1 X 0 X 5 element: 4\n",
      "list [4, 4, 4, 4, 4, 4] added to sub list\n",
      "Enter 1 X 1 X 0 element: 4\n",
      "Enter 1 X 1 X 1 element: 4\n",
      "Enter 1 X 1 X 2 element: 4\n",
      "Enter 1 X 1 X 3 element: 4\n",
      "Enter 1 X 1 X 4 element: 4\n",
      "Enter 1 X 1 X 5 element: 4\n",
      "list [4, 4, 4, 4, 4, 4] added to sub list\n",
      "Enter 1 X 2 X 0 element: 5\n",
      "Enter 1 X 2 X 1 element: 5\n",
      "Enter 1 X 2 X 2 element: 5\n",
      "Enter 1 X 2 X 3 element: 5\n",
      "Enter 1 X 2 X 4 element: 5\n",
      "Enter 1 X 2 X 5 element: 5\n",
      "list [5, 5, 5, 5, 5, 5] added to sub list\n",
      "Enter 1 X 3 X 0 element: 6\n",
      "Enter 1 X 3 X 1 element: 6\n",
      "Enter 1 X 3 X 2 element: 6\n",
      "Enter 1 X 3 X 3 element: 6\n",
      "Enter 1 X 3 X 4 element: 6\n",
      "Enter 1 X 3 X 5 element: 6\n",
      "list [6, 6, 6, 6, 6, 6] added to sub list\n",
      "list [[4, 4, 4, 4, 4, 4], [4, 4, 4, 4, 4, 4], [5, 5, 5, 5, 5, 5], [6, 6, 6, 6, 6, 6]] added to main list\n",
      "Enter 2 X 0 X 0 element: 7\n",
      "Enter 2 X 0 X 1 element: 7\n",
      "Enter 2 X 0 X 2 element: 7\n",
      "Enter 2 X 0 X 3 element: 7\n",
      "Enter 2 X 0 X 4 element: 7\n",
      "Enter 2 X 0 X 5 element: 7\n",
      "list [7, 7, 7, 7, 7, 7] added to sub list\n",
      "Enter 2 X 1 X 0 element: 8\n",
      "Enter 2 X 1 X 1 element: 8\n",
      "Enter 2 X 1 X 2 element: 8\n",
      "Enter 2 X 1 X 3 element: 8\n",
      "Enter 2 X 1 X 4 element: 8\n",
      "Enter 2 X 1 X 5 element: 8\n",
      "list [8, 8, 8, 8, 8, 8] added to sub list\n",
      "Enter 2 X 2 X 0 element: 9\n",
      "Enter 2 X 2 X 1 element: 9\n",
      "Enter 2 X 2 X 2 element: 9\n",
      "Enter 2 X 2 X 3 element: 9\n",
      "Enter 2 X 2 X 4 element: 9\n",
      "Enter 2 X 2 X 5 element: 9\n",
      "list [9, 9, 9, 9, 9, 9] added to sub list\n",
      "Enter 2 X 3 X 0 element: 0\n",
      "Enter 2 X 3 X 1 element: 0\n",
      "Enter 2 X 3 X 2 element: 0\n",
      "Enter 2 X 3 X 3 element: 0\n",
      "Enter 2 X 3 X 4 element: 0\n",
      "Enter 2 X 3 X 5 element: 0\n",
      "list [0, 0, 0, 0, 0, 0] added to sub list\n",
      "list [[7, 7, 7, 7, 7, 7], [8, 8, 8, 8, 8, 8], [9, 9, 9, 9, 9, 9], [0, 0, 0, 0, 0, 0]] added to main list\n",
      "[[[0, 0, 0, 0, 0, 0], [1, 1, 1, 1, 1, 1], [2, 2, 2, 2, 2, 2], [3, 3, 3, 3, 3, 3]], [[4, 4, 4, 4, 4, 4], [4, 4, 4, 4, 4, 4], [5, 5, 5, 5, 5, 5], [6, 6, 6, 6, 6, 6]], [[7, 7, 7, 7, 7, 7], [8, 8, 8, 8, 8, 8], [9, 9, 9, 9, 9, 9], [0, 0, 0, 0, 0, 0]]]\n"
     ]
    }
   ],
   "source": [
    "#Write a Python program to create a 3X4X6 3D matrix wiith below elements using loop\n",
    "#Output:- \n",
    "# [\n",
    "#     [[0,0,0,0,0,0],[0,0,0,0,0,0],[0,0,0,0,0,0],[0,0,0,0,0,0]],\n",
    "#     [[0,0,0,0,0,0],[1,1,1,1,1,1],[2,2,2,2,2,2],[3,3,3,3,3,3]],\n",
    "#     [[0,0,0,0,0,0],[2,2,2,2,2,2],[4,4,4,4,4,4],[6,6,6,6,6,6]]\n",
    "# ]\n",
    "\n",
    "#[\n",
    "#    [[0, 0, 0, 0, 0, 0], [1, 1, 1, 1, 1, 1], [2, 2, 2, 2, 2, 2],[3, 3, 3, 3, 3, 3]], \n",
    "#    [[4, 4, 4, 4, 4, 4], [4, 4, 4, 4, 4, 4],[5, 5, 5, 5, 5, 5], [6, 6, 6, 6, 6, 6]],\n",
    "#    [[7, 7, 7, 7, 7, 7], [8, 8, 8, 8, 8, 8],  [9, 9, 9, 9, 9, 9], [0, 0, 0, 0, 0, 0]]\n",
    "#]\n",
    "\n",
    "new_list=[]\n",
    "i=0;j=0;k=0\n",
    "\n",
    "while i<3:\n",
    "    temp_main=[]\n",
    "    for j in range(0,4):\n",
    "        temp_list=[]\n",
    "        for k in range(0,6):\n",
    "            val=int(input(f\"Enter {i} X {j} X {k} element: \"))\n",
    "            temp_list.append(val)\n",
    "            k+=1\n",
    "        print(f\"list {temp_list} added to sub list\")\n",
    "        temp_main.append(temp_list)\n",
    "        j+=1\n",
    "    print(f\"list {temp_main} added to main list\")\n",
    "    new_list.append(temp_main)\n",
    "    i+=1\n",
    "print(new_list)\n"
   ]
  },
  {
   "cell_type": "code",
   "execution_count": 39,
   "metadata": {
    "id": "lYNv8gk794_p"
   },
   "outputs": [
    {
     "name": "stdout",
     "output_type": "stream",
     "text": [
      "[21, 87, 45, 33, 1]\n"
     ]
    }
   ],
   "source": [
    "#Write a Python program which takes a list of numbers as input and prints a new list after removing even numbers from it.\n",
    "#Input:- [10,21,22,98,87,45,33,1,2,100]\n",
    "#Output:- [21,87,45,33,1]\n",
    "\n",
    "my_list=[10,21,22,98,87,45,33,1,2,100]\n",
    "new_list=[]\n",
    "\n",
    "for i in my_list:\n",
    "    if i%2!=0:\n",
    "        new_list.append(i)\n",
    "print(new_list)\n",
    "\n"
   ]
  },
  {
   "cell_type": "code",
   "execution_count": 40,
   "metadata": {
    "id": "3BaCb-rB95B7"
   },
   "outputs": [
    {
     "name": "stdout",
     "output_type": "stream",
     "text": [
      "[33, 98, 1, 2, 100, 10, 45, 21, 22, 87]\n"
     ]
    }
   ],
   "source": [
    "#Write a Python program which takes a list from the user and prints it after reshuffling the elements of the list.\n",
    "#Input:- [10,21,22,98,87,45,33,1,2,100]\n",
    "#Output:- [1,87,21,10,33,2,100,45,98,22] (It may be any randon list but with same elements)\n",
    "\n",
    "my_list=[10,21,22,98,87,45,33,1,2,100]\n",
    "new_list=list(set(my_list))\n",
    "\n",
    "print(new_list)\n"
   ]
  },
  {
   "cell_type": "code",
   "execution_count": null,
   "metadata": {},
   "outputs": [],
   "source": []
  }
 ],
 "metadata": {
  "colab": {
   "name": "List_Assignment.ipynb",
   "provenance": []
  },
  "kernelspec": {
   "display_name": "Python 3 (ipykernel)",
   "language": "python",
   "name": "python3"
  },
  "language_info": {
   "codemirror_mode": {
    "name": "ipython",
    "version": 3
   },
   "file_extension": ".py",
   "mimetype": "text/x-python",
   "name": "python",
   "nbconvert_exporter": "python",
   "pygments_lexer": "ipython3",
   "version": "3.9.7"
  }
 },
 "nbformat": 4,
 "nbformat_minor": 1
}
