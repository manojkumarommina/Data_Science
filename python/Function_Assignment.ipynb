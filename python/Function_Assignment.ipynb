{
 "cells": [
  {
   "cell_type": "code",
   "execution_count": 3,
   "metadata": {
    "id": "1YVTYu-CuCOO"
   },
   "outputs": [
    {
     "name": "stdout",
     "output_type": "stream",
     "text": [
      "7\n"
     ]
    }
   ],
   "source": [
    "# Define a function calls addNumber(x, y) that takes in two number and returns the sum of the two numbers.\n",
    "\n",
    "def addNumber(x,y):\n",
    "    summ=x+y\n",
    "    return summ\n",
    "\n",
    "def main():\n",
    "    print(addNumber(2,5))\n",
    "    \n",
    "if __name__=='__main__':\n",
    "    main()\n"
   ]
  },
  {
   "cell_type": "code",
   "execution_count": 5,
   "metadata": {
    "id": "1-gIq-Rju2i2"
   },
   "outputs": [
    {
     "name": "stdout",
     "output_type": "stream",
     "text": [
      "6\n"
     ]
    }
   ],
   "source": [
    "# Define a function calls subtractNumber(x, y) that takes in two numbers and returns the difference of the two numbers.\n",
    "\n",
    "def subtractNumber(x,y):\n",
    "    subtract=x-y\n",
    "    return subtract\n",
    "\n",
    "def main():\n",
    "    print(subtractNumber(9,3))\n",
    "    \n",
    "if __name__=='__main__':\n",
    "    main()"
   ]
  },
  {
   "cell_type": "code",
   "execution_count": 9,
   "metadata": {
    "id": "kiAE0iLbviG9"
   },
   "outputs": [
    {
     "name": "stdout",
     "output_type": "stream",
     "text": [
      "908\n"
     ]
    }
   ],
   "source": [
    "# Write a function getBiggerNumber(x, y) that takes in two numbers as arguments and returns the bigger number.\n",
    "\n",
    "\n",
    "def getBiggerNumber(x,y):\n",
    "    if x>y:\n",
    "        bigNum=x\n",
    "    else:\n",
    "        bigNum=y\n",
    "    return bigNum\n",
    "\n",
    "def main():\n",
    "    print(getBiggerNumber(546,908))\n",
    "    \n",
    "if __name__=='__main__':\n",
    "    main()\n"
   ]
  },
  {
   "cell_type": "code",
   "execution_count": 14,
   "metadata": {
    "id": "10B5oVcZh16d"
   },
   "outputs": [
    {
     "name": "stdout",
     "output_type": "stream",
     "text": [
      "4.0\n",
      "243.0\n",
      "28.274333882308138\n"
     ]
    }
   ],
   "source": [
    "# Python provides many built-in modules with many useful functions. \n",
    "# One such module is the math module. The math module provides many useful functions such as sqrt(x), pow(x, y), ceil(x), floor(x) etc. \n",
    "# You will need to do a \"import math\" before you are allowed to use the functions within the math module.\n",
    "\n",
    "import math\n",
    "\n",
    "# Calculate the square root of 16 and stores it in the variable a\n",
    "\n",
    "a=math.sqrt(16)\n",
    "print(a)\n",
    "\n",
    "# Calculate 3 to the power of 5 and stores it in the variable b\n",
    "\n",
    "b=math.pow(3,5)\n",
    "print(b)\n",
    "\n",
    "\n",
    "# Calculate area of circle with radius = 3.0 by making use of the math.pi constant and store it in the variable c\n",
    "\n",
    "radius=3.0\n",
    "c=math.pi*(radius**2)\n",
    "print(c)"
   ]
  },
  {
   "cell_type": "code",
   "execution_count": 29,
   "metadata": {
    "id": "Yado0B99h2E_"
   },
   "outputs": [
    {
     "name": "stdout",
     "output_type": "stream",
     "text": [
      "32.00\n"
     ]
    }
   ],
   "source": [
    "# Write a function to convert temperature from Celsius to Fahrenheit scale.\n",
    "# oC to oF Conversion: Multipy by 9, then divide by 5, then add 32.\n",
    "\n",
    "# Note: Return a string of 2 decimal places.\n",
    "# In - Cel2Fah(28.0)\n",
    "# Out - '82.40'\n",
    "# In - Cel2Fah(0.00)\n",
    "# Out - '32.00'\n",
    "\n",
    "\n",
    "def cel2Fah(temp):\n",
    "    out=temp*(9/5)+32\n",
    "    output='{0:.2f}'.format(out)\n",
    "    return output\n",
    "\n",
    "def main():\n",
    "    print(cel2Fah(0.0))\n",
    "    \n",
    "if __name__=='__main__':\n",
    "    main()\n",
    "    \n",
    "    "
   ]
  },
  {
   "cell_type": "code",
   "execution_count": 37,
   "metadata": {
    "id": "n7lsFol9h2ID"
   },
   "outputs": [
    {
     "name": "stdout",
     "output_type": "stream",
     "text": [
      "27.5\n"
     ]
    }
   ],
   "source": [
    "# Write a function to compute the BMI of a person.\n",
    "#     BMI = weight(kg)  /  ( height(m)*height(m) )\n",
    "\n",
    "# Note: Return a string of 1 decimal place.\n",
    "# In - BMI(63, 1.7)\n",
    "# Out - '21.8'\n",
    "# In - BMI(110, 2)\n",
    "# Out - '27.5'\n",
    "\n",
    "\n",
    "def BMI(weight,height):\n",
    "    bmi=weight/(height**2)\n",
    "    return f'{bmi:.1f}'\n",
    "\n",
    "def main():\n",
    "    print(BMI(110,2))\n",
    "    \n",
    "if __name__=='__main__':\n",
    "    main()\n"
   ]
  },
  {
   "cell_type": "code",
   "execution_count": 40,
   "metadata": {
    "id": "f2tV1AU8h2LN"
   },
   "outputs": [
    {
     "name": "stdout",
     "output_type": "stream",
     "text": [
      "525\n"
     ]
    }
   ],
   "source": [
    "# Write a function percent(value, total) that takes in two numbers as arguments, and returns the percentage value as an integer.\n",
    "# In - percent(46, 90)\n",
    "# Out - 51\n",
    "# In - percent(51, 51)\n",
    "# Out - 100\n",
    "# In - percent(63, 12)\n",
    "# Out - 525\n",
    "\n",
    "\n",
    "def percentage(value,total):\n",
    "    percentage=(value/total)*100\n",
    "    return int(percentage)\n",
    "\n",
    "def main():\n",
    "    print(percentage(63,12))\n",
    "    \n",
    "if __name__=='__main__':\n",
    "    main()"
   ]
  },
  {
   "cell_type": "code",
   "execution_count": 43,
   "metadata": {
    "id": "QyoWR3dQh2OZ"
   },
   "outputs": [
    {
     "name": "stdout",
     "output_type": "stream",
     "text": [
      "13\n"
     ]
    }
   ],
   "source": [
    "# Write a function to compute the hypotenuse given sides a and b of the triangle.\n",
    "# Hint: You can use math.sqrt(x) to compute the square root of x.\n",
    "# In - hypotenuse(3, 4)\n",
    "# Out - 5\n",
    "# In - hypotenuse(5, 12)\n",
    "# Out - 13\n",
    "\n",
    "\n",
    "def hypotenuse(x,y):\n",
    "    \n",
    "    sum_of_squares=x**2+y**2\n",
    "    output=math.sqrt(sum_of_squares)\n",
    "    return int(output)\n",
    "\n",
    "def main():\n",
    "    print(hypotenuse(5,12))\n",
    "    \n",
    "if __name__=='__main__':\n",
    "    main()\n"
   ]
  },
  {
   "cell_type": "code",
   "execution_count": 49,
   "metadata": {
    "id": "XthPUigkh2Ro"
   },
   "outputs": [
    {
     "name": "stdout",
     "output_type": "stream",
     "text": [
      "10\n"
     ]
    }
   ],
   "source": [
    "# Write a function getSumOfLastDigits() that takes in a list of positive numbers and returns the sum of all the last digits in the list.\n",
    "# getSumOfLastDigits([2, 3, 4])\n",
    "# 9\n",
    "# getSumOfLastDigits([1, 23, 456])\n",
    "# 10\n",
    "\n",
    "\n",
    "def getSumofLastDigits(list1):\n",
    "    sum=0\n",
    "    for i in list1:\n",
    "        if i<10:\n",
    "            sum+=i\n",
    "        else:\n",
    "            j=i%10\n",
    "            sum+=j\n",
    "    return sum\n",
    "\n",
    "def main():\n",
    "    print(getSumofLastDigits([21, 23, 456]))\n",
    "    \n",
    "if __name__=='__main__':\n",
    "    main()"
   ]
  },
  {
   "cell_type": "code",
   "execution_count": 51,
   "metadata": {
    "id": "T-uIqm9Mh2Un"
   },
   "outputs": [
    {
     "name": "stdout",
     "output_type": "stream",
     "text": [
      "My name is Ahmad.My age is secret. \n"
     ]
    }
   ],
   "source": [
    "# Write a function that uses a default value.\n",
    "# In - introduce('Lim', 20)\n",
    "# Out - 'My name is Lim. I am 20 years old.'\n",
    "# In - introduce('Ahmad')\n",
    "# Out - 'My name is Ahmad. My age is secret.'\n",
    "\n",
    "\n",
    "def introduce(name,age=None):\n",
    "    if age==None:\n",
    "        print(f\"My name is {name}.My age is secret. \")\n",
    "    else:\n",
    "        print(f\"My name is {name}. I am {age} years old.\")\n",
    "    \n",
    "def main():\n",
    "    introduce('Ahmad')\n",
    "    \n",
    "if __name__=='__main__':\n",
    "    main()\n",
    "    "
   ]
  },
  {
   "cell_type": "code",
   "execution_count": 67,
   "metadata": {
    "id": "h0pXo5vH6wA-"
   },
   "outputs": [
    {
     "name": "stdout",
     "output_type": "stream",
     "text": [
      "True\n"
     ]
    }
   ],
   "source": [
    "# Write a function isEquilateral(x, y, z) that accepts the 3 sides of a triangle as arguments. \n",
    "# The program should return True if it is an equilateral triangle.\n",
    "\n",
    "# In - isEquilateral(2, 4, 3)\n",
    "# False - False\n",
    "# In - isEquilateral(3, 3, 3)\n",
    "# Out - True\n",
    "# In - isEquilateral(-3, -3, -3)\n",
    "# Out - False\n",
    "\n",
    "\n",
    "def isEquilateral(a,b,c):\n",
    "    if a==b==c and a>0 and b>0 and c>0 :\n",
    "        return True\n",
    "    else:\n",
    "        return False\n",
    "    \n",
    "def main():\n",
    "    print(isEquilateral(5, 5, 5))\n",
    "    \n",
    "if __name__=='__main__':\n",
    "    main()"
   ]
  },
  {
   "cell_type": "code",
   "execution_count": 70,
   "metadata": {
    "id": "3NvcKCkn6wFy"
   },
   "outputs": [
    {
     "name": "stdout",
     "output_type": "stream",
     "text": [
      "0\n"
     ]
    }
   ],
   "source": [
    "# For a quadratic equation in the form of ax2+bx+c, the discriminant, D is b2-4ac. Write a function to compute the discriminant, D.\n",
    "# In - quadratic(1, 2, 3)\n",
    "# Out - 'The discriminant is -8.'\n",
    "# In - quadratic(1, 3, 2)\n",
    "# Out - 'The discriminant is 1.'\n",
    "# In - quadratic(1, 4, 4)\n",
    "# Out - 'The discriminant is 0.'\n",
    "\n",
    "\n",
    "def quadratic(a,b,c):\n",
    "    d=b**2-4*a*c\n",
    "    return d\n",
    "    \n",
    "def main():\n",
    "    print(quadratic(1, 4, 4))\n",
    "    \n",
    "if __name__=='__main__':\n",
    "    main()"
   ]
  },
  {
   "cell_type": "code",
   "execution_count": 74,
   "metadata": {
    "colab": {
     "base_uri": "https://localhost:8080/",
     "height": 34
    },
    "id": "ihmuttBS6wJQ",
    "outputId": "0ef031e9-dec6-4ffe-b1ea-38d836dbcdcf"
   },
   "outputs": [
    {
     "name": "stdout",
     "output_type": "stream",
     "text": [
      "5\n",
      "0\n",
      "10\n"
     ]
    }
   ],
   "source": [
    "# Define a function calls addFirstAndLast(x) that takes in a list of numbers and returns the sum of the first and last numbers.\n",
    "# In - addFirstAndLast([])\n",
    "# Out - 0\n",
    "# In - addFirstAndLast([2, 7, 3])\n",
    "# Out - 5\n",
    "# In - addFirstAndLast([10])\n",
    "# Out - 10\n",
    "\n",
    "def addFirstAndLast(lst):\n",
    "    if len(lst)==0:\n",
    "        return 0\n",
    "    elif len(lst)==1:\n",
    "        return lst[0]\n",
    "    else:\n",
    "        return lst[0]+lst[-1]\n",
    "    \n",
    "print(addFirstAndLast([2,7,3]))\n",
    "print(addFirstAndLast([]))\n",
    "print(addFirstAndLast([10]))"
   ]
  },
  {
   "cell_type": "code",
   "execution_count": 78,
   "metadata": {
    "colab": {
     "base_uri": "https://localhost:8080/",
     "height": 34
    },
    "id": "lEt9HNPI6wM0",
    "outputId": "b07e15c3-a864-454c-aef5-1f1f0e07b39a"
   },
   "outputs": [
    {
     "data": {
      "text/plain": [
       "False"
      ]
     },
     "execution_count": 78,
     "metadata": {},
     "output_type": "execute_result"
    }
   ],
   "source": [
    "# Complete the 'lambda' expression so that it returns True if the argument is an even number, and False otherwise.\n",
    "\n",
    "(lambda num : True if num%2==0  else False)(9)"
   ]
  },
  {
   "cell_type": "code",
   "execution_count": 79,
   "metadata": {
    "colab": {
     "base_uri": "https://localhost:8080/",
     "height": 35
    },
    "id": "JYWSZXPg6wQN",
    "outputId": "7b71e08d-573f-4d03-d5e3-e220df4c3b90"
   },
   "outputs": [
    {
     "name": "stdout",
     "output_type": "stream",
     "text": [
      "Help on function getScore in module __main__:\n",
      "\n",
      "getScore(a, b)\n",
      "    'A function that computes and returns the final score.\n",
      "\n"
     ]
    }
   ],
   "source": [
    "\n",
    "# Get the documentation of below function\n",
    "\n",
    "def getScore(a,b):\n",
    "  ''''A function that computes and returns the final score.'''\n",
    "  return a+b\n",
    "\n",
    "help(getScore)\n"
   ]
  },
  {
   "cell_type": "code",
   "execution_count": 84,
   "metadata": {
    "colab": {
     "base_uri": "https://localhost:8080/",
     "height": 34
    },
    "id": "zmi81hi76wTK",
    "outputId": "232b4456-63ad-4582-d2cd-d888952dc957"
   },
   "outputs": [
    {
     "name": "stdout",
     "output_type": "stream",
     "text": [
      "5\n",
      "10\n",
      "1\n"
     ]
    }
   ],
   "source": [
    "# In Python, it is possible to pass a function as a argument to another function. \n",
    "# Write a function useFunction(func, num) that takes in a function and a number as arguments. \n",
    "# The useFunction should produce the output shown in the examples given below.\n",
    "\n",
    "def addOne(x):\n",
    "  return x + 1\n",
    "\n",
    "\n",
    "def useFunction(func,value):\n",
    "    return func(value)\n",
    "\n",
    "print(useFunction(addOne, 4))\n",
    "\n",
    "print(useFunction(addOne, 9))\n",
    "\n",
    "print(useFunction(addOne, 0))"
   ]
  },
  {
   "cell_type": "code",
   "execution_count": 97,
   "metadata": {
    "id": "JJm1zFMX6wWK"
   },
   "outputs": [
    {
     "name": "stdout",
     "output_type": "stream",
     "text": [
      "Enter 1st number :0\n",
      "Enter 2nd number :9\n",
      "Enter 3rd number :9\n",
      "9\n"
     ]
    }
   ],
   "source": [
    "# Write a function find_max that accepts three numbers as arguments and returns the largest number among three. \n",
    "# Write another function main, in main() function accept three numbers from user and call find_max.\n",
    "\n",
    "\n",
    "def find_max(a,b,c):\n",
    "    \n",
    "    list1=[a,b,c]\n",
    "    large=max(list1)\n",
    "    return large\n",
    "    \n",
    "def main():\n",
    "    a=int(input('Enter 1st number :'))\n",
    "    b=int(input('Enter 2nd number :'))\n",
    "    c=int(input('Enter 3rd number :'))\n",
    "    print(find_max(a,b,c))\n",
    "    \n",
    "if __name__=='__main__':\n",
    "    main()"
   ]
  },
  {
   "cell_type": "code",
   "execution_count": 102,
   "metadata": {
    "colab": {
     "base_uri": "https://localhost:8080/",
     "height": 34
    },
    "id": "PBvBwg0O6waD",
    "outputId": "57768b69-c749-4d88-be06-7a9d41a98de2"
   },
   "outputs": [
    {
     "name": "stdout",
     "output_type": "stream",
     "text": [
      "Enter a string :hdfg\n",
      "0\n"
     ]
    }
   ],
   "source": [
    "# Write a function, is_vowel that returns the value true if a given character is a vowel, \n",
    "# and otherwise returns false. \n",
    "# Write another function main, in main() function accept a string from user and count number \n",
    "# of vowels in that string.\n",
    "\n",
    "def is_vowel(char):\n",
    "    vow_list=['a','e','i','o','u']\n",
    "    if char in vow_list:\n",
    "        return True\n",
    "    else:\n",
    "        return False\n",
    "    \n",
    "def main():\n",
    "    word=input(\"Enter a string :\")\n",
    "    count=0\n",
    "    for i in word:\n",
    "        if is_vowel(i.lower()):\n",
    "            count+=1\n",
    "    print(count)\n",
    "    \n",
    "if __name__=='__main__':\n",
    "    main()"
   ]
  },
  {
   "cell_type": "code",
   "execution_count": 105,
   "metadata": {},
   "outputs": [
    {
     "name": "stdout",
     "output_type": "stream",
     "text": [
      "2\n",
      "3\n",
      "5\n",
      "7\n",
      "11\n",
      "13\n",
      "17\n",
      "19\n",
      "23\n",
      "29\n",
      "31\n",
      "37\n",
      "41\n",
      "43\n",
      "47\n",
      "53\n",
      "59\n",
      "61\n",
      "67\n",
      "71\n",
      "73\n",
      "79\n",
      "83\n",
      "89\n",
      "97\n",
      "101\n",
      "103\n",
      "107\n",
      "109\n",
      "113\n",
      "127\n",
      "131\n",
      "137\n",
      "139\n",
      "149\n",
      "151\n",
      "157\n",
      "163\n",
      "167\n",
      "173\n",
      "179\n",
      "181\n",
      "191\n",
      "193\n",
      "197\n",
      "199\n",
      "211\n",
      "223\n",
      "227\n",
      "229\n",
      "233\n",
      "239\n",
      "241\n",
      "251\n",
      "257\n",
      "263\n",
      "269\n",
      "271\n",
      "277\n",
      "281\n",
      "283\n",
      "293\n",
      "307\n",
      "311\n",
      "313\n",
      "317\n",
      "331\n",
      "337\n",
      "347\n",
      "349\n",
      "353\n",
      "359\n",
      "367\n",
      "373\n",
      "379\n",
      "383\n",
      "389\n",
      "397\n",
      "401\n",
      "409\n",
      "419\n",
      "421\n",
      "431\n",
      "433\n",
      "439\n",
      "443\n",
      "449\n",
      "457\n",
      "461\n",
      "463\n",
      "467\n",
      "479\n",
      "487\n",
      "491\n",
      "499\n"
     ]
    }
   ],
   "source": [
    "# Write a function named is_prime, which takes an integer as an argument and returns true \n",
    "# if the argument is a prime number, or false otherwise. \n",
    "# Also, write the main function that displays prime numbers between 1 to 500.\n",
    "\n",
    "def is_prime(char):\n",
    "    flag=0\n",
    "    for i in range(2,int(math.sqrt(char))+1):\n",
    "        if char%i==0:\n",
    "            flag=1\n",
    "            break\n",
    "    if flag==0:\n",
    "        return True\n",
    "    else:\n",
    "        return False\n",
    "    \n",
    "def main():\n",
    "    for i in range(2,500):\n",
    "        if is_prime(i):\n",
    "            print(i)\n",
    "    \n",
    "    \n",
    "if __name__=='__main__':\n",
    "    main()"
   ]
  },
  {
   "cell_type": "code",
   "execution_count": 108,
   "metadata": {},
   "outputs": [
    {
     "name": "stdout",
     "output_type": "stream",
     "text": [
      "36\n"
     ]
    }
   ],
   "source": [
    "# Write a function in python to find the sum of the cube of elements in a list. \n",
    "# The list is received as an argument to the function, in turn, the function must return the sum. \n",
    "# Write the main function which invokes the above function.\n",
    "\n",
    "def cube_sum(list1):\n",
    "    summ=0\n",
    "    for i in list1:\n",
    "        summ+=i**3\n",
    "    return summ\n",
    "\n",
    "def main():\n",
    "    print(cube_sum([1,2,3]))\n",
    "    \n",
    "    \n",
    "if __name__=='__main__':\n",
    "    main()"
   ]
  },
  {
   "cell_type": "code",
   "execution_count": 113,
   "metadata": {},
   "outputs": [
    {
     "name": "stdout",
     "output_type": "stream",
     "text": [
      "600\n"
     ]
    }
   ],
   "source": [
    "# Write the definition of a function zero_ending(scores) to add all those values in the list of scores, \n",
    "# which are ending with zero and display the sum.\n",
    "# For example: If the scores contain [200, 456, 300, 100, 234, 678] The sum should be displayed as 600\n",
    "\n",
    "\n",
    "def zero_ending(list1):\n",
    "    summ=0\n",
    "    for i in list1:\n",
    "        if i%10==0:\n",
    "         summ+=i\n",
    "    return summ\n",
    "\n",
    "def main():\n",
    "    print(zero_ending([200, 456, 300, 100, 234, 678]))\n",
    "    \n",
    "    \n",
    "if __name__=='__main__':\n",
    "    main()"
   ]
  },
  {
   "cell_type": "code",
   "execution_count": 116,
   "metadata": {},
   "outputs": [
    {
     "name": "stdout",
     "output_type": "stream",
     "text": [
      "LONDON\n",
      "NEW YORK\n"
     ]
    }
   ],
   "source": [
    "# Write a definition of a method count_now(places) to find and display those place names, \n",
    "# in which there are more than 5 characters.\n",
    "\n",
    "# For example :\n",
    "# If the list places contains\n",
    "# [\"DELHI\",\"LONDON\",\"PARIS\",\"NEW YORK\",\"DUBAI\"]\n",
    "# The following should get displayed :\n",
    "# LONDON\n",
    "# NEW YORK\n",
    "\n",
    "def count_now(list1):\n",
    "    for i in list1:\n",
    "        if len(i)>5:\n",
    "            print(i)\n",
    "\n",
    "def main():\n",
    "    count_now([\"DELHI\",\"LONDON\",\"PARIS\",\"NEW YORK\",\"DUBAI\"])\n",
    "    \n",
    "    \n",
    "if __name__=='__main__':\n",
    "    main()"
   ]
  },
  {
   "cell_type": "code",
   "execution_count": 137,
   "metadata": {},
   "outputs": [
    {
     "name": "stdout",
     "output_type": "stream",
     "text": [
      "414141\n",
      "DROND#\n",
      "GIRIRAJ#\n",
      "131313\n",
      "ZARA#\n"
     ]
    }
   ],
   "source": [
    "# Write a method in python to display the elements of list thrice if it is a number and display \n",
    "# the element terminated with ‘#’ if it is not a number.\n",
    "\n",
    "# For example, if the content of list is as follows :\n",
    "# ThisList=[‘41’,‘DROND’,‘GIRIRAJ’, ‘13’,‘ZARA’]\n",
    "# The output should be\n",
    "# 414141\n",
    "# DROND#\n",
    "# GIRIRAJ#\n",
    "# 131313\n",
    "# ZARA#\n",
    "import re\n",
    "\n",
    "def thrice(list1):\n",
    "    for i in list1:\n",
    "        if re.match(r'\\d',i)!= None:\n",
    "            print(i*3)\n",
    "        else :\n",
    "            print(i+'#')\n",
    "        \n",
    "\n",
    "def main():\n",
    "    thrice(['41','DROND','GIRIRAJ', '13','ZARA'])\n",
    "    \n",
    "    \n",
    "if __name__=='__main__':\n",
    "    main()"
   ]
  },
  {
   "cell_type": "code",
   "execution_count": 160,
   "metadata": {},
   "outputs": [
    {
     "name": "stdout",
     "output_type": "stream",
     "text": [
      "5\n"
     ]
    }
   ],
   "source": [
    "# For a given list of values in descending order, write a method in python to search \n",
    "# for a value with the help of Binary Search method. \n",
    "# The method should return position of the value and should return -1 if the value not present in the list.\n",
    "\n",
    "def binary_search(list1,value):\n",
    "    mid=len(list1)//2\n",
    "    count=1\n",
    "    while count!=len(list1)//2+1:\n",
    "        if list1[mid]==value:\n",
    "            return mid\n",
    "        elif list1[mid]>value:\n",
    "            mid+=1\n",
    "        else:\n",
    "            mid-=1\n",
    "        count+=1\n",
    "    return -1\n",
    "\n",
    "def main():\n",
    "    print(binary_search([7,6,5,4,3,2,1],2))\n",
    "    \n",
    "    \n",
    "    \n",
    "if __name__=='__main__':\n",
    "    main()"
   ]
  },
  {
   "cell_type": "code",
   "execution_count": 172,
   "metadata": {},
   "outputs": [
    {
     "name": "stdout",
     "output_type": "stream",
     "text": [
      "[50, 60, 70, 40, 10, 20, 30]\n"
     ]
    }
   ],
   "source": [
    "# Write a function half_and_half that takes in a list and change the list \n",
    "# such that the elements of the second half are now in the first half.\n",
    "\n",
    "# For example, if the size of list is even and content of list is as follows :\n",
    "# my_liist = [10,20,30,40,50,60]\n",
    "# The output should be\n",
    "# [40,50,60,10,20,30]\n",
    "# if the size of list is odd and content of list is as follows :\n",
    "# my_liist = [10,20,30,40,50,60,70]\n",
    "# The output should be\n",
    "# [50,60,70,40,10,20,30]\n",
    "\n",
    "def half_and_half(list1):\n",
    "    mid=len(list1)//2\n",
    "    if len(list1)%2==0:\n",
    "        first_half=list1[0:mid]\n",
    "        second_half=list1[mid:len(list1)]\n",
    "        return second_half+first_half\n",
    "    else :\n",
    "        first_half=list1[0:mid]\n",
    "        second_half=list1[mid+1:len(list1)]\n",
    "        return second_half+[list1[mid]]+first_half\n",
    "        \n",
    "\n",
    "def main():\n",
    "    my_liist = [10,20,30,40,50,60,70]\n",
    "    print(half_and_half(my_liist))\n",
    "    \n",
    "    \n",
    "if __name__=='__main__':\n",
    "    main()"
   ]
  },
  {
   "cell_type": "code",
   "execution_count": 181,
   "metadata": {
    "ExecuteTime": {
     "end_time": "2021-05-29T10:39:43.694779Z",
     "start_time": "2021-05-29T10:39:43.691446Z"
    }
   },
   "outputs": [
    {
     "name": "stdout",
     "output_type": "stream",
     "text": [
      "{1: 'a', 2: 'b', 3: 'c', 4: 'd'}\n"
     ]
    }
   ],
   "source": [
    "# Write a function that accepts a dictionary as an argument. If the dictionary contains replicate values, \n",
    "# return an empty dictionary, otherwise, return a new dictionary whose values are now the keys and whose \n",
    "# keys are the values.\n",
    "\n",
    "def work_dict(dict1):\n",
    "    list1=list(dict1.values())\n",
    "    for i in dict1.values():\n",
    "        if list1.count(i)>1:\n",
    "            return dict()\n",
    "    output=zip(list(dict1.values()),list(dict1.keys()))\n",
    "    return dict(output)\n",
    "        \n",
    "\n",
    "def main():\n",
    "    dict1 = {'a':1,'b':2,'c':3,'d':4}\n",
    "    print(work_dict(dict1))\n",
    "    \n",
    "    \n",
    "if __name__=='__main__':\n",
    "    main()"
   ]
  },
  {
   "cell_type": "code",
   "execution_count": null,
   "metadata": {},
   "outputs": [],
   "source": []
  },
  {
   "cell_type": "code",
   "execution_count": null,
   "metadata": {},
   "outputs": [],
   "source": []
  },
  {
   "cell_type": "code",
   "execution_count": null,
   "metadata": {},
   "outputs": [],
   "source": []
  },
  {
   "cell_type": "code",
   "execution_count": null,
   "metadata": {},
   "outputs": [],
   "source": []
  }
 ],
 "metadata": {
  "colab": {
   "name": "Function_Assignment.ipynb",
   "provenance": []
  },
  "kernelspec": {
   "display_name": "Python 3 (ipykernel)",
   "language": "python",
   "name": "python3"
  },
  "language_info": {
   "codemirror_mode": {
    "name": "ipython",
    "version": 3
   },
   "file_extension": ".py",
   "mimetype": "text/x-python",
   "name": "python",
   "nbconvert_exporter": "python",
   "pygments_lexer": "ipython3",
   "version": "3.9.7"
  }
 },
 "nbformat": 4,
 "nbformat_minor": 1
}
